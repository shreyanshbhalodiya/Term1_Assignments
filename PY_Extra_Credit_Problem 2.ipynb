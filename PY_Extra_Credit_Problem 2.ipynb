{
 "cells": [
  {
   "cell_type": "markdown",
   "metadata": {},
   "source": [
    "# creating game function "
   ]
  },
  {
   "cell_type": "code",
   "execution_count": 13,
   "metadata": {
    "scrolled": true
   },
   "outputs": [],
   "source": [
    "def game(x):      ## creating the game function which we will use below to avoid long length of condings\n",
    "    import random \n",
    "    num = random.randrange(1,10)\n",
    "    print(num) ## just to know check our balance \n",
    "    \n",
    "    for i in range(3):\n",
    "        g = int(input(\"guess number between 0 and 9 \"))\n",
    "        if g == num:\n",
    "            i = i + 1\n",
    "            if i == 1:\n",
    "                mw = x + 5000   \n",
    "                print(\"you got it in first chance \")\n",
    "                print(\" you won 5000 your total balance is  \",mw)\n",
    "                break\n",
    "            elif i == 2:\n",
    "                mw = x + 1000\n",
    "                print(\" you won 1000 your total balance is \" ,mw)\n",
    "                break\n",
    "            elif i == 3:\n",
    "                print(\"you got in your last chance your final balance is \", x)\n",
    "                break\n",
    "        elif g>num:\n",
    "            print(\"high guess \")\n",
    "            i = i + 1\n",
    "        elif g<num:\n",
    "            print(\"low guess \")\n",
    "            i = i + 1\n",
    "    else:\n",
    "        mw = x - 500\n",
    "        print(\"you lose your two attempts and 500 final balance is  \",mw)\n",
    "    return mw"
   ]
  },
  {
   "cell_type": "code",
   "execution_count": 15,
   "metadata": {
    "scrolled": true
   },
   "outputs": [
    {
     "name": "stdout",
     "output_type": "stream",
     "text": [
      "8\n",
      "guess number between 0 and 9 8\n",
      "you got it in first chance \n",
      " you won 5000 your total balance is   5500\n",
      "2\n",
      "guess number between 0 and 9 2\n",
      "you got it in first chance \n",
      " you won 5000 your total balance is   10500\n",
      "9\n",
      "guess number between 0 and 9 9\n",
      "you got it in first chance \n",
      " you won 5000 your total balance is   15500\n"
     ]
    },
    {
     "data": {
      "text/plain": [
       "15500"
      ]
     },
     "execution_count": 15,
     "metadata": {},
     "output_type": "execute_result"
    }
   ],
   "source": [
    "game(game(game(500))"
   ]
  },
  {
   "cell_type": "code",
   "execution_count": null,
   "metadata": {},
   "outputs": [],
   "source": []
  },
  {
   "cell_type": "markdown",
   "metadata": {},
   "source": [
    "## using game function to  code"
   ]
  },
  {
   "cell_type": "code",
   "execution_count": 3,
   "metadata": {
    "scrolled": true
   },
   "outputs": [
    {
     "name": "stdout",
     "output_type": "stream",
     "text": [
      "welcome to guess the number game you need RS 500 to play game if you guess in 1st\n",
      "chance you will get 5500 if second chance you will get 1500 else you will lose your money \n",
      "in fourth chance 3rd chance is save your RS 500 \n",
      "you will have one more chance to play if you want \n",
      "4 this is correct answer of game only for crosschecking every aspects of code\n",
      "guess number between 0 and 9 5\n",
      "high guess \n",
      "guess number between 0 and 9 4\n",
      " you won 1000 your total balance is  1500\n",
      "enter 1 to play again enter 2 to exit 1\n",
      "4\n",
      "guess number between 0 and 9 4\n",
      "you got it in first chance \n",
      " you won 5000 your total balance is   6500\n"
     ]
    }
   ],
   "source": [
    "try:\n",
    "    print(\"welcome to guess the number game you need RS 500 to play game if you guess in 1st\")\n",
    "    print(\"chance you will get 5500 if second chance you will get 1500 else you will lose your money \")\n",
    "    print(\"in fourth chance 3rd chance is save your RS 500 \")\n",
    "    print(\"you will have one more chance to play if you want \")\n",
    "    for j in range(2):  ## because player is have option to play again \n",
    "        j = j + 1 \n",
    "        if j == 1:    ## creating game for option one \n",
    "            x = 500\n",
    "            import random \n",
    "            num = random.randrange(1,10)\n",
    "            print(num , \"this is correct answer of game only for crosschecking every aspects of code\") ## to cross check program  \n",
    "\n",
    "            for i in range(3):\n",
    "                g = int(input(\"guess number between 0 and 9 \"))\n",
    "                if g == num:\n",
    "                    i = i + 1\n",
    "                    if i == 1:\n",
    "                        print(\"you got it in first chance \")\n",
    "                        fb = x + 5000\n",
    "                        print(\" you won 5000 your total balance is  \", fb )\n",
    "                        break\n",
    "                    elif i == 2:\n",
    "                        fb = x + 1000\n",
    "                        print(\" you won 1000 your total balance is \" , fb  )\n",
    "                        break\n",
    "                    elif i == 3:\n",
    "                        fb = x + 0\n",
    "                    print(\"you got in your last chance your final balance is \", fb)\n",
    "                    break\n",
    "                elif g>num:\n",
    "                    print(\"high guess \")\n",
    "                    i = i + 1\n",
    "                elif g<num:\n",
    "                    print(\"low guess \")\n",
    "                    i = i + 1\n",
    "            else:\n",
    "                fb = x-500\n",
    "                print(\"you lose your two attempts and 500 final balance is  \", fb)\n",
    "                ## now we can use this fb as balance in next round if user plays \n",
    "\n",
    "\n",
    "        elif j == 2:\n",
    "            o = int(input(\"enter 1 to play again enter 2 to exit \"))  ## taking players opinion \n",
    "            if o == 1:\n",
    "                if fb>=500:\n",
    "                    import random \n",
    "                    num = random.randrange(1,10)\n",
    "                    print(num) ## just to know check our balance \n",
    "\n",
    "                    for i in range(3):\n",
    "                        g = int(input(\"guess number between 0 and 9 \"))\n",
    "                        if g == num:\n",
    "                            i = i + 1\n",
    "                            if i == 1:\n",
    "                                print(\"you got it in first chance \")\n",
    "                                nb = fb + 5000\n",
    "                                print(\" you won 5000 your total balance is  \", nb )\n",
    "                                break\n",
    "                            elif i == 2:\n",
    "                                nb = fb + 1000\n",
    "                                print(\" you won 1000 your total balance is \" , nb  )\n",
    "                                break\n",
    "                            elif i == 3:\n",
    "                                nb = fb\n",
    "                                print(\"you got in your last chance your final balance is same \", nb )\n",
    "                                break\n",
    "\n",
    "                        elif g>num:\n",
    "                            print(\"high guess \")\n",
    "                            i = i + 1\n",
    "                        elif g<num:\n",
    "                            print(\"low guess \")\n",
    "                            i = i + 1\n",
    "                    else:\n",
    "                        print(\"you lose game and RS 500 your final balance is \", fb -500)\n",
    "                if fb<500:\n",
    "                    print(\"you don't have enough balance to play enter excatly Rs 500 to play game\")\n",
    "                    e = int(input(\"if you not put exactly 500 you will lose ur game  \"))  # asking player to put exactly RS 500\n",
    "                                                                                         # so that he is allowed to play again   \n",
    "                    if e == 500:\n",
    "                        print(game())   ## GAME FUNCTION USED   \n",
    "                    else:\n",
    "                        print(\"you lose game final balance is  0\")  ## if user does not put RS 500 he will lose all his money \n",
    "            elif o == 2:\n",
    "                print(\"thank you , have a wonderful day \")\n",
    "                print(\"your final balance is Rs \",fb )\n",
    "except:\n",
    "    print(\"invalid input run again \")      ## USEING TRY AND EXCEPT FOR UNWANTED ERRORS "
   ]
  },
  {
   "cell_type": "code",
   "execution_count": null,
   "metadata": {},
   "outputs": [],
   "source": []
  },
  {
   "cell_type": "code",
   "execution_count": null,
   "metadata": {},
   "outputs": [],
   "source": []
  },
  {
   "cell_type": "code",
   "execution_count": 20,
   "metadata": {
    "scrolled": true
   },
   "outputs": [
    {
     "name": "stdout",
     "output_type": "stream",
     "text": [
      "welcome to guess the number game you need RS 500 to play game if you guess in 1st\n",
      "chance you will get 5500 if second chance you will get 1500 else you will lose your money \n",
      "in fourth chance 3rd chance is save your RS 500 \n",
      "you will have one more chance to play if you want \n",
      "8 this is correct answer of game only for crosschecking every aspects of code\n",
      "guess number between 0 and 9 8\n",
      "you got it in first chance \n",
      " you won 5000 your total balance is   5500\n",
      "enter 1 to play again enter 2 to exit 1\n",
      "3\n",
      "guess number between 0 and 9 3\n",
      "you got it in first chance \n",
      " you won 5000 your total balance is   10500\n"
     ]
    }
   ],
   "source": [
    "try:\n",
    "    print(\"welcome to guess the number game you need RS 500 to play game if you guess in 1st\")\n",
    "    print(\"chance you will get 5500 if second chance you will get 1500 else you will lose your money \")\n",
    "    print(\"in fourth chance 3rd chance is save your RS 500 \")\n",
    "    print(\"you will have one more chance to play if you want \")\n",
    "    for j in range(2):  ## because player is have option to play again \n",
    "        j = j + 1 \n",
    "        if j == 1:    ## creating game for option one \n",
    "            x = 500\n",
    "            import random \n",
    "            num = random.randrange(1,10)\n",
    "            print(num , \"this is correct answer of game only for crosschecking every aspects of code\") ## to cross check program  \n",
    "\n",
    "            for i in range(3):\n",
    "                g = int(input(\"guess number between 0 and 9 \"))\n",
    "                if g == num:\n",
    "                    i = i + 1\n",
    "                    if i == 1:\n",
    "                        print(\"you got it in first chance \")\n",
    "                        fb = x + 5000\n",
    "                        print(\" you won 5000 your total balance is  \", fb )\n",
    "                        break\n",
    "                    elif i == 2:\n",
    "                        fb = x + 1000\n",
    "                        print(\" you won 1000 your total balance is \" , fb  )\n",
    "                        break\n",
    "                    elif i == 3:\n",
    "                        fb = x + 0\n",
    "                    print(\"you got in your last chance your final balance is \", fb)\n",
    "                    break\n",
    "                elif g>num:\n",
    "                    print(\"high guess \")\n",
    "                    i = i + 1\n",
    "                elif g<num:\n",
    "                    print(\"low guess \")\n",
    "                    i = i + 1\n",
    "            else:\n",
    "                fb = x-500\n",
    "                print(\"you lose your two attempts and 500 final balance is  \", fb)\n",
    "                print(fb)\n",
    "                ## now we can use this fb as balance in next round if user plays \n",
    "\n",
    "\n",
    "        elif j == 2:\n",
    "            o = int(input(\"enter 1 to play again enter 2 to exit \"))  ## taking players opinion \n",
    "            if o == 1:\n",
    "                if fb>=500:\n",
    "                    game(fb)\n",
    "                    break\n",
    "                if fb<500:\n",
    "                    print(\"you don't have enough balance to play enter excatly Rs 500 to play game\")\n",
    "                    e = int(input(\"if you not put exactly 500 you will lose ur game  \"))  # asking player to put exactly RS 500\n",
    "                                                                                         # so that he is allowed to play again   \n",
    "                    if e == 500:\n",
    "                        print(game(e))  ## GAME FUNCTION USED \n",
    "                        break\n",
    "                    else:\n",
    "                        print(\"you lose game final balance is  0\")  ## if user does not put RS 500 he will lose all his money \n",
    "            elif o == 2:\n",
    "                print(\"thank you , have a wonderful day \")\n",
    "                print(\"your final balance is Rs \",fb )\n",
    "except:\n",
    "    print(\"invalid input run again \")      ## USEING TRY AND EXCEPT FOR UNWANTED ERRORS "
   ]
  },
  {
   "cell_type": "markdown",
   "metadata": {},
   "source": [
    "### i am able to crack the code for problem but it is long code it can be made short if i know how to use output of one function in same function with previous output of  function i tried it to do using nested function but not abel to do"
   ]
  },
  {
   "cell_type": "code",
   "execution_count": 9,
   "metadata": {},
   "outputs": [
    {
     "data": {
      "text/plain": [
       "'excellent okay'"
      ]
     },
     "execution_count": 9,
     "metadata": {},
     "output_type": "execute_result"
    }
   ],
   "source": [
    "def good(x):\n",
    "    fp = x + ' okay'\n",
    "    return fp\n",
    "good('excellent')"
   ]
  },
  {
   "cell_type": "markdown",
   "metadata": {},
   "source": [
    "#### now if i want to use good(fp) function and fp as argument of previous function how can we do this "
   ]
  },
  {
   "cell_type": "code",
   "execution_count": 10,
   "metadata": {},
   "outputs": [
    {
     "ename": "NameError",
     "evalue": "name 'fp' is not defined",
     "output_type": "error",
     "traceback": [
      "\u001b[1;31m---------------------------------------------------------------------------\u001b[0m",
      "\u001b[1;31mNameError\u001b[0m                                 Traceback (most recent call last)",
      "\u001b[1;32m<ipython-input-10-1ed3f9f136a2>\u001b[0m in \u001b[0;36m<module>\u001b[1;34m\u001b[0m\n\u001b[1;32m----> 1\u001b[1;33m \u001b[0mgood\u001b[0m\u001b[1;33m(\u001b[0m\u001b[0mfp\u001b[0m\u001b[1;33m)\u001b[0m\u001b[1;33m\u001b[0m\u001b[1;33m\u001b[0m\u001b[0m\n\u001b[0m",
      "\u001b[1;31mNameError\u001b[0m: name 'fp' is not defined"
     ]
    }
   ],
   "source": [
    "good(fp)  ## it shows error as fp not defined"
   ]
  },
  {
   "cell_type": "code",
   "execution_count": 2,
   "metadata": {},
   "outputs": [
    {
     "name": "stdout",
     "output_type": "stream",
     "text": [
      "12\n"
     ]
    }
   ],
   "source": [
    "def sum_list(x):\n",
    "    i = 0\n",
    "    for k in x:\n",
    "        i += k\n",
    "    return i\n",
    "print(sum_list([1,2,5,4]))"
   ]
  },
  {
   "cell_type": "code",
   "execution_count": 3,
   "metadata": {},
   "outputs": [],
   "source": [
    "def newfun(x):\n",
    "    print(\"speed in miles per hour is \")\n",
    "    m = x*1.6\n",
    "    return m\n"
   ]
  },
  {
   "cell_type": "code",
   "execution_count": 5,
   "metadata": {},
   "outputs": [
    {
     "name": "stdout",
     "output_type": "stream",
     "text": [
      "speed in miles per hour is \n"
     ]
    },
    {
     "data": {
      "text/plain": [
       "160.0"
      ]
     },
     "execution_count": 5,
     "metadata": {},
     "output_type": "execute_result"
    }
   ],
   "source": [
    "newfun(sum_list([12,5,14,9,60]))"
   ]
  },
  {
   "cell_type": "code",
   "execution_count": null,
   "metadata": {},
   "outputs": [],
   "source": []
  }
 ],
 "metadata": {
  "kernelspec": {
   "display_name": "Python 3",
   "language": "python",
   "name": "python3"
  },
  "language_info": {
   "codemirror_mode": {
    "name": "ipython",
    "version": 3
   },
   "file_extension": ".py",
   "mimetype": "text/x-python",
   "name": "python",
   "nbconvert_exporter": "python",
   "pygments_lexer": "ipython3",
   "version": "3.7.6"
  }
 },
 "nbformat": 4,
 "nbformat_minor": 4
}
