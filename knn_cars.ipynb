{
 "cells": [
  {
   "cell_type": "code",
   "execution_count": 1,
   "metadata": {},
   "outputs": [],
   "source": [
    "import numpy as np\n",
    "import matplotlib.pyplot as plt\n",
    "import pandas as pd"
   ]
  },
  {
   "cell_type": "code",
   "execution_count": 2,
   "metadata": {},
   "outputs": [],
   "source": [
    "dataset = pd.read_csv(\"cars.csv\")"
   ]
  },
  {
   "cell_type": "code",
   "execution_count": 3,
   "metadata": {},
   "outputs": [
    {
     "data": {
      "text/html": [
       "<div>\n",
       "<style scoped>\n",
       "    .dataframe tbody tr th:only-of-type {\n",
       "        vertical-align: middle;\n",
       "    }\n",
       "\n",
       "    .dataframe tbody tr th {\n",
       "        vertical-align: top;\n",
       "    }\n",
       "\n",
       "    .dataframe thead th {\n",
       "        text-align: right;\n",
       "    }\n",
       "</style>\n",
       "<table border=\"1\" class=\"dataframe\">\n",
       "  <thead>\n",
       "    <tr style=\"text-align: right;\">\n",
       "      <th></th>\n",
       "      <th>Car</th>\n",
       "      <th>MPG</th>\n",
       "      <th>Cylinders</th>\n",
       "      <th>Displacement</th>\n",
       "      <th>Horsepower</th>\n",
       "      <th>Weight</th>\n",
       "      <th>Acceleration</th>\n",
       "      <th>Model</th>\n",
       "      <th>Origin</th>\n",
       "    </tr>\n",
       "  </thead>\n",
       "  <tbody>\n",
       "    <tr>\n",
       "      <th>0</th>\n",
       "      <td>Chevrolet Chevelle Malibu</td>\n",
       "      <td>18.0</td>\n",
       "      <td>8</td>\n",
       "      <td>307.0</td>\n",
       "      <td>130</td>\n",
       "      <td>3504</td>\n",
       "      <td>12.0</td>\n",
       "      <td>70</td>\n",
       "      <td>US</td>\n",
       "    </tr>\n",
       "    <tr>\n",
       "      <th>1</th>\n",
       "      <td>Buick Skylark 320</td>\n",
       "      <td>15.0</td>\n",
       "      <td>8</td>\n",
       "      <td>350.0</td>\n",
       "      <td>165</td>\n",
       "      <td>3693</td>\n",
       "      <td>11.5</td>\n",
       "      <td>70</td>\n",
       "      <td>US</td>\n",
       "    </tr>\n",
       "    <tr>\n",
       "      <th>2</th>\n",
       "      <td>Plymouth Satellite</td>\n",
       "      <td>18.0</td>\n",
       "      <td>8</td>\n",
       "      <td>318.0</td>\n",
       "      <td>150</td>\n",
       "      <td>3436</td>\n",
       "      <td>11.0</td>\n",
       "      <td>70</td>\n",
       "      <td>US</td>\n",
       "    </tr>\n",
       "    <tr>\n",
       "      <th>3</th>\n",
       "      <td>AMC Rebel SST</td>\n",
       "      <td>16.0</td>\n",
       "      <td>8</td>\n",
       "      <td>304.0</td>\n",
       "      <td>150</td>\n",
       "      <td>3433</td>\n",
       "      <td>12.0</td>\n",
       "      <td>70</td>\n",
       "      <td>US</td>\n",
       "    </tr>\n",
       "    <tr>\n",
       "      <th>4</th>\n",
       "      <td>Ford Torino</td>\n",
       "      <td>17.0</td>\n",
       "      <td>8</td>\n",
       "      <td>302.0</td>\n",
       "      <td>140</td>\n",
       "      <td>3449</td>\n",
       "      <td>10.5</td>\n",
       "      <td>70</td>\n",
       "      <td>US</td>\n",
       "    </tr>\n",
       "  </tbody>\n",
       "</table>\n",
       "</div>"
      ],
      "text/plain": [
       "                         Car   MPG  Cylinders  Displacement  Horsepower  \\\n",
       "0  Chevrolet Chevelle Malibu  18.0          8         307.0         130   \n",
       "1          Buick Skylark 320  15.0          8         350.0         165   \n",
       "2         Plymouth Satellite  18.0          8         318.0         150   \n",
       "3              AMC Rebel SST  16.0          8         304.0         150   \n",
       "4                Ford Torino  17.0          8         302.0         140   \n",
       "\n",
       "   Weight  Acceleration  Model Origin  \n",
       "0    3504          12.0     70     US  \n",
       "1    3693          11.5     70     US  \n",
       "2    3436          11.0     70     US  \n",
       "3    3433          12.0     70     US  \n",
       "4    3449          10.5     70     US  "
      ]
     },
     "execution_count": 3,
     "metadata": {},
     "output_type": "execute_result"
    }
   ],
   "source": [
    "dataset.head()"
   ]
  },
  {
   "cell_type": "code",
   "execution_count": 4,
   "metadata": {},
   "outputs": [],
   "source": [
    "X = dataset.iloc[:, [2,4,5]].values\n",
    "y = dataset.iloc[:, 1].values"
   ]
  },
  {
   "cell_type": "code",
   "execution_count": 5,
   "metadata": {},
   "outputs": [
    {
     "data": {
      "text/plain": [
       "array([[   8,  130, 3504],\n",
       "       [   8,  165, 3693],\n",
       "       [   8,  150, 3436],\n",
       "       ...,\n",
       "       [   4,   84, 2295],\n",
       "       [   4,   79, 2625],\n",
       "       [   4,   82, 2720]], dtype=int64)"
      ]
     },
     "execution_count": 5,
     "metadata": {},
     "output_type": "execute_result"
    }
   ],
   "source": [
    "X"
   ]
  },
  {
   "cell_type": "code",
   "execution_count": 6,
   "metadata": {},
   "outputs": [
    {
     "data": {
      "text/plain": [
       "406"
      ]
     },
     "execution_count": 6,
     "metadata": {},
     "output_type": "execute_result"
    }
   ],
   "source": [
    "len(X)"
   ]
  },
  {
   "cell_type": "code",
   "execution_count": 7,
   "metadata": {},
   "outputs": [
    {
     "data": {
      "text/plain": [
       "array([18. , 15. , 18. , 16. , 17. , 15. , 14. , 14. , 14. , 15. ,  0. ,\n",
       "        0. ,  0. ,  0. ,  0. , 15. , 14. ,  0. , 15. , 14. , 24. , 22. ,\n",
       "       18. , 21. , 27. , 26. , 25. , 24. , 25. , 26. , 21. , 10. , 10. ,\n",
       "       11. ,  9. , 27. , 28. , 25. , 25. ,  0. , 19. , 16. , 17. , 19. ,\n",
       "       18. , 14. , 14. , 14. , 14. , 12. , 13. , 13. , 18. , 22. , 19. ,\n",
       "       18. , 23. , 28. , 30. , 30. , 31. , 35. , 27. , 26. , 24. , 25. ,\n",
       "       23. , 20. , 21. , 13. , 14. , 15. , 14. , 17. , 11. , 13. , 12. ,\n",
       "       13. , 19. , 15. , 13. , 13. , 14. , 18. , 22. , 21. , 26. , 22. ,\n",
       "       28. , 23. , 28. , 27. , 13. , 14. , 13. , 14. , 15. , 12. , 13. ,\n",
       "       13. , 14. , 13. , 12. , 13. , 18. , 16. , 18. , 18. , 23. , 26. ,\n",
       "       11. , 12. , 13. , 12. , 18. , 20. , 21. , 22. , 18. , 19. , 21. ,\n",
       "       26. , 15. , 16. , 29. , 24. , 20. , 19. , 15. , 24. , 20. , 11. ,\n",
       "       20. , 21. , 19. , 15. , 31. , 26. , 32. , 25. , 16. , 16. , 18. ,\n",
       "       16. , 13. , 14. , 14. , 14. , 29. , 26. , 26. , 31. , 32. , 28. ,\n",
       "       24. , 26. , 24. , 26. , 31. , 19. , 18. , 15. , 15. , 16. , 15. ,\n",
       "       16. , 14. , 17. , 16. , 15. , 18. , 21. , 20. , 13. , 29. , 23. ,\n",
       "       20. , 23. , 24. , 25. , 24. , 18. , 29. , 19. , 23. , 23. , 22. ,\n",
       "       25. , 33. , 28. , 25. , 25. , 26. , 27. , 17.5, 16. , 15.5, 14.5,\n",
       "       22. , 22. , 24. , 22.5, 29. , 24.5, 29. , 33. , 20. , 18. , 18.5,\n",
       "       17.5, 29.5, 32. , 28. , 26.5, 20. , 13. , 19. , 19. , 16.5, 16.5,\n",
       "       13. , 13. , 13. , 31.5, 30. , 36. , 25.5, 33.5, 17.5, 17. , 15.5,\n",
       "       15. , 17.5, 20.5, 19. , 18.5, 16. , 15.5, 15.5, 16. , 29. , 24.5,\n",
       "       26. , 25.5, 30.5, 33.5, 30. , 30.5, 22. , 21.5, 21.5, 43.1, 36.1,\n",
       "       32.8, 39.4, 36.1, 19.9, 19.4, 20.2, 19.2, 20.5, 20.2, 25.1, 20.5,\n",
       "       19.4, 20.6, 20.8, 18.6, 18.1, 19.2, 17.7, 18.1, 17.5, 30. , 27.5,\n",
       "       27.2, 30.9, 21.1, 23.2, 23.8, 23.9, 20.3, 17. , 21.6, 16.2, 31.5,\n",
       "       29.5, 21.5, 19.8, 22.3, 20.2, 20.6, 17. , 17.6, 16.5, 18.2, 16.9,\n",
       "       15.5, 19.2, 18.5, 31.9, 34.1, 35.7, 27.4, 25.4, 23. , 27.2, 23.9,\n",
       "       34.2, 34.5, 31.8, 37.3, 28.4, 28.8, 26.8, 33.5, 41.5, 38.1, 32.1,\n",
       "       37.2, 28. , 26.4, 24.3, 19.1, 34.3, 29.8, 31.3, 37. , 32.2, 46.6,\n",
       "       27.9, 40.8, 44.3, 43.4, 36.4, 30. , 44.6, 40.9, 33.8, 29.8, 32.7,\n",
       "       23.7, 35. , 23.6, 32.4, 27.2, 26.6, 25.8, 23.5, 30. , 39.1, 39. ,\n",
       "       35.1, 32.3, 37. , 37.7, 34.1, 34.7, 34.4, 29.9, 33. , 34.5, 33.7,\n",
       "       32.4, 32.9, 31.6, 28.1,  0. , 30.7, 25.4, 24.2, 22.4, 26.6, 20.2,\n",
       "       17.6, 28. , 27. , 34. , 31. , 29. , 27. , 24. , 23. , 36. , 37. ,\n",
       "       31. , 38. , 36. , 36. , 36. , 34. , 38. , 32. , 38. , 25. , 38. ,\n",
       "       26. , 22. , 32. , 36. , 27. , 27. , 44. , 32. , 28. , 31. ])"
      ]
     },
     "execution_count": 7,
     "metadata": {},
     "output_type": "execute_result"
    }
   ],
   "source": [
    "y"
   ]
  },
  {
   "cell_type": "code",
   "execution_count": 8,
   "metadata": {},
   "outputs": [
    {
     "data": {
      "text/plain": [
       "406"
      ]
     },
     "execution_count": 8,
     "metadata": {},
     "output_type": "execute_result"
    }
   ],
   "source": [
    "len(y)"
   ]
  },
  {
   "cell_type": "code",
   "execution_count": 9,
   "metadata": {},
   "outputs": [],
   "source": [
    "from sklearn.model_selection import train_test_split\n",
    "X_train, X_test, y_train, y_test = train_test_split(X, y, test_size=0.20)"
   ]
  },
  {
   "cell_type": "code",
   "execution_count": 10,
   "metadata": {},
   "outputs": [
    {
     "name": "stdout",
     "output_type": "stream",
     "text": [
      "324\n"
     ]
    },
    {
     "data": {
      "text/plain": [
       "array([[   4,   70, 2150],\n",
       "       [   4,   72, 2565],\n",
       "       [   8,  150, 3672],\n",
       "       [   4,   80, 1915],\n",
       "       [   4,    0, 1835],\n",
       "       [   4,   69, 2130],\n",
       "       [   6,  110, 3645],\n",
       "       [   8,  145, 4140],\n",
       "       [   4,   46, 1950],\n",
       "       [   8,  130, 4295],\n",
       "       [   4,   88, 2130],\n",
       "       [   4,   68, 1985],\n",
       "       [   4,   74, 1980],\n",
       "       [   4,  112, 2868],\n",
       "       [   4,   65, 2045],\n",
       "       [   3,   97, 2330],\n",
       "       [   4,   88, 2720],\n",
       "       [   4,   67, 2145],\n",
       "       [   6,   81, 3012],\n",
       "       [   4,   67, 1950],\n",
       "       [   8,  139, 3205],\n",
       "       [   4,   90, 2950],\n",
       "       [   6,   95, 3264],\n",
       "       [   8,  145, 3425],\n",
       "       [   4,   95, 2372],\n",
       "       [   6,  100, 3651],\n",
       "       [   6,   88, 3302],\n",
       "       [   6,  115, 2595],\n",
       "       [   6,   97, 2774],\n",
       "       [   4,   84, 2490],\n",
       "       [   6,  110, 2962],\n",
       "       [   4,   90, 2430],\n",
       "       [   8,  155, 4360],\n",
       "       [   4,   94, 2379],\n",
       "       [   4,   65, 1836],\n",
       "       [   8,  145, 4440],\n",
       "       [   6,   95, 3155],\n",
       "       [   4,   75, 2230],\n",
       "       [   6,  165, 3445],\n",
       "       [   4,   70, 2200],\n",
       "       [   4,   68, 2135],\n",
       "       [   4,   80, 3230],\n",
       "       [   6,  120, 2930],\n",
       "       [   8,  165, 4274],\n",
       "       [   4,   78, 2190],\n",
       "       [   8,  150, 4498],\n",
       "       [   6,  110, 3632],\n",
       "       [   8,  198, 4341],\n",
       "       [   8,  158, 4363],\n",
       "       [   6,   85, 3015],\n",
       "       [   6,  105, 3121],\n",
       "       [   8,  110, 4060],\n",
       "       [   6,   85, 2990],\n",
       "       [   4,   54, 2254],\n",
       "       [   6,   76, 3160],\n",
       "       [   6,  100, 3336],\n",
       "       [   4,   81, 2220],\n",
       "       [   4,   84, 2385],\n",
       "       [   8,  135, 3830],\n",
       "       [   4,   79, 2625],\n",
       "       [   4,   52, 2130],\n",
       "       [   6,  122, 2807],\n",
       "       [   4,   88, 2640],\n",
       "       [   6,   88, 3139],\n",
       "       [   4,   84, 2525],\n",
       "       [   8,  190, 4325],\n",
       "       [   8,  130, 3840],\n",
       "       [   8,  110, 3221],\n",
       "       [   6,   72, 3432],\n",
       "       [   8,  125, 3605],\n",
       "       [   8,  150, 3433],\n",
       "       [   4,   95, 2278],\n",
       "       [   4,   58, 1825],\n",
       "       [   8,  140, 4080],\n",
       "       [   4,  100, 2615],\n",
       "       [   4,   79, 2255],\n",
       "       [   4,   90, 2711],\n",
       "       [   4,   88, 2279],\n",
       "       [   6,    0, 2875],\n",
       "       [   4,   90, 2678],\n",
       "       [   4,   60, 1760],\n",
       "       [   4,   62, 1845],\n",
       "       [   4,   88, 3270],\n",
       "       [   6,   72, 3158],\n",
       "       [   4,   76, 2511],\n",
       "       [   4,   65, 1773],\n",
       "       [   6,  100, 3288],\n",
       "       [   4,   76, 2065],\n",
       "       [   8,  150, 4997],\n",
       "       [   4,   88, 2395],\n",
       "       [   6,  105, 3897],\n",
       "       [   8,  150, 3755],\n",
       "       [   4,   75, 2265],\n",
       "       [   4,    0, 2320],\n",
       "       [   6,  110, 2945],\n",
       "       [   4,   63, 2125],\n",
       "       [   6,  125, 3140],\n",
       "       [   6,   95, 3785],\n",
       "       [   4,   65, 2110],\n",
       "       [   8,  140, 4294],\n",
       "       [   6,   85, 3465],\n",
       "       [   4,   53, 1795],\n",
       "       [   8,  220, 4354],\n",
       "       [   8,  160, 4456],\n",
       "       [   4,   89, 2755],\n",
       "       [   4,   52, 1985],\n",
       "       [   8,  198, 4952],\n",
       "       [   4,   85, 2310],\n",
       "       [   8,  150, 3436],\n",
       "       [   8,  130, 4098],\n",
       "       [   6,  115, 3245],\n",
       "       [   8,   90, 3420],\n",
       "       [   4,   70, 2070],\n",
       "       [   4,   82, 2720],\n",
       "       [   6,   90, 3210],\n",
       "       [   8,  200, 4376],\n",
       "       [   4,   70, 1955],\n",
       "       [   8,  190, 4422],\n",
       "       [   6,   97, 2815],\n",
       "       [   8,  225, 4951],\n",
       "       [   4,   75, 2125],\n",
       "       [   4,   72, 2401],\n",
       "       [   4,   78, 1940],\n",
       "       [   4,   76, 2144],\n",
       "       [   4,   80, 2451],\n",
       "       [   8,  150, 4457],\n",
       "       [   4,   75, 2171],\n",
       "       [   8,  193, 4732],\n",
       "       [   4,   67, 1985],\n",
       "       [   4,   70, 2074],\n",
       "       [   6,  110, 3620],\n",
       "       [   4,   95, 2228],\n",
       "       [   8,  165, 4142],\n",
       "       [   4,   95, 2694],\n",
       "       [   4,   86, 2220],\n",
       "       [   6,   90, 3211],\n",
       "       [   4,   88, 2160],\n",
       "       [   8,  140, 4215],\n",
       "       [   6,   95, 2833],\n",
       "       [   4,   74, 2190],\n",
       "       [   4,   86, 2395],\n",
       "       [   4,   69, 1613],\n",
       "       [   8,  150, 3940],\n",
       "       [   8,  145, 3880],\n",
       "       [   8,  150, 4096],\n",
       "       [   4,   90, 2265],\n",
       "       [   4,   83, 2219],\n",
       "       [   8,  145, 4055],\n",
       "       [   8,  105, 3725],\n",
       "       [   4,   95, 2560],\n",
       "       [   4,   75, 2155],\n",
       "       [   4,   78, 2592],\n",
       "       [   4,   86, 2226],\n",
       "       [   6,   78, 3574],\n",
       "       [   6,  100, 2789],\n",
       "       [   8,  152, 4215],\n",
       "       [   4,  115, 2671],\n",
       "       [   4,   80, 2164],\n",
       "       [   4,   83, 2202],\n",
       "       [   4,  105, 2745],\n",
       "       [   4,   68, 2025],\n",
       "       [   6,   90, 2648],\n",
       "       [   6,  120, 3820],\n",
       "       [   4,   83, 2639],\n",
       "       [   8,  150, 3892],\n",
       "       [   6,  110, 3039],\n",
       "       [   3,  100, 2420],\n",
       "       [   4,   98, 2945],\n",
       "       [   4,   75, 2265],\n",
       "       [   8,  149, 4335],\n",
       "       [   4,   72, 2408],\n",
       "       [   4,   52, 2035],\n",
       "       [   4,   84, 2635],\n",
       "       [   4,   88, 2870],\n",
       "       [   8,  138, 3955],\n",
       "       [   8,  110, 3365],\n",
       "       [   6,  105, 3535],\n",
       "       [   5,   67, 2950],\n",
       "       [   4,  110, 2660],\n",
       "       [   6,  100, 3233],\n",
       "       [   4,   91, 2582],\n",
       "       [   4,   75, 2210],\n",
       "       [   8,  175, 4166],\n",
       "       [   4,   84, 2295],\n",
       "       [   8,  140, 4141],\n",
       "       [   4,   70, 1937],\n",
       "       [   4,   67, 3250],\n",
       "       [   6,  100, 2945],\n",
       "       [   8,  145, 4082],\n",
       "       [   8,  139, 3570],\n",
       "       [   8,  175, 3850],\n",
       "       [   6,   85, 2587],\n",
       "       [   4,    0, 3035],\n",
       "       [   4,   67, 1965],\n",
       "       [   8,  175, 4464],\n",
       "       [   6,  110, 3730],\n",
       "       [   8,  145, 3988],\n",
       "       [   8,  140, 3449],\n",
       "       [   4,   92, 2572],\n",
       "       [   3,  110, 2720],\n",
       "       [   6,   85, 2965],\n",
       "       [   6,  107, 2472],\n",
       "       [   4,   85, 2575],\n",
       "       [   4,   80, 2126],\n",
       "       [   4,  102, 3150],\n",
       "       [   4,   67, 2000],\n",
       "       [   6,   88, 3060],\n",
       "       [   8,  170, 4654],\n",
       "       [   4,   75, 2108],\n",
       "       [   4,   90, 2264],\n",
       "       [   4,   90, 2735],\n",
       "       [   4,   48, 2335],\n",
       "       [   6,   85, 3070],\n",
       "       [   8,  129, 3169],\n",
       "       [   4,    0, 2905],\n",
       "       [   8,  170, 4746],\n",
       "       [   4,  112, 2933],\n",
       "       [   4,   66, 1800],\n",
       "       [   4,   88, 2605],\n",
       "       [   6,  105, 3439],\n",
       "       [   4,   90, 2123],\n",
       "       [   8,  230, 4278],\n",
       "       [   8,  215, 4735],\n",
       "       [   4,   96, 2702],\n",
       "       [   6,  105, 3425],\n",
       "       [   4,   88, 2957],\n",
       "       [   4,   75, 2205],\n",
       "       [   4,   67, 2065],\n",
       "       [   4,   95, 2375],\n",
       "       [   8,  180, 4499],\n",
       "       [   4,   90, 2670],\n",
       "       [   6,   95, 3102],\n",
       "       [   6,  100, 2914],\n",
       "       [   4,   86, 2790],\n",
       "       [   4,   72, 2290],\n",
       "       [   4,   48, 1985],\n",
       "       [   4,   92, 2620],\n",
       "       [   8,  180, 3664],\n",
       "       [   6,  100, 2634],\n",
       "       [   4,   64, 1875],\n",
       "       [   4,  115, 2795],\n",
       "       [   4,   75, 2542],\n",
       "       [   4,   96, 2300],\n",
       "       [   4,   87, 2979],\n",
       "       [   4,   60, 1968],\n",
       "       [   4,   83, 2075],\n",
       "       [   4,  113, 2234],\n",
       "       [   4,   70, 1937],\n",
       "       [   4,   70, 1990],\n",
       "       [   8,  150, 3672],\n",
       "       [   4,   75, 2246],\n",
       "       [   8,  120, 3962],\n",
       "       [   4,   65, 1975],\n",
       "       [   4,   69, 2189],\n",
       "       [   8,  129, 3725],\n",
       "       [   8,  130, 3504],\n",
       "       [   8,  170, 3563],\n",
       "       [   4,   65, 2380],\n",
       "       [   4,   87, 2672],\n",
       "       [   8,  150, 4077],\n",
       "       [   6,  108, 2930],\n",
       "       [   8,  208, 4633],\n",
       "       [   8,  167, 4906],\n",
       "       [   5,  103, 2830],\n",
       "       [   4,   71, 1990],\n",
       "       [   4,   88, 2740],\n",
       "       [   4,   48, 2085],\n",
       "       [   4,   48, 1978],\n",
       "       [   6,  105, 3459],\n",
       "       [   8,  137, 4042],\n",
       "       [   8,  175, 4100],\n",
       "       [   6,  133, 3410],\n",
       "       [   8,  142, 4054],\n",
       "       [   4,   78, 2300],\n",
       "       [   4,   65, 2110],\n",
       "       [   4,   49, 1867],\n",
       "       [   4,   85, 2855],\n",
       "       [   4,   63, 2051],\n",
       "       [   8,  150, 4257],\n",
       "       [   4,   60, 1834],\n",
       "       [   4,  105, 2800],\n",
       "       [   8,  175, 5140],\n",
       "       [   8,  125, 3900],\n",
       "       [   4,   88, 2100],\n",
       "       [   4,   65, 2020],\n",
       "       [   8,  150, 3761],\n",
       "       [   4,   84, 2370],\n",
       "       [   4,   68, 2155],\n",
       "       [   8,  155, 4502],\n",
       "       [   8,  148, 4657],\n",
       "       [   8,  225, 4425],\n",
       "       [   4,   80, 2155],\n",
       "       [   8,  170, 4165],\n",
       "       [   4,   67, 1965],\n",
       "       [   8,  150, 3940],\n",
       "       [   6,  112, 2835],\n",
       "       [   6,   90, 3381],\n",
       "       [   4,   80, 2670],\n",
       "       [   4,   75, 2350],\n",
       "       [   4,  110, 2600],\n",
       "       [   4,   74, 2635],\n",
       "       [   6,  110, 3415],\n",
       "       [   6,  115, 2700],\n",
       "       [   8,  153, 4129],\n",
       "       [   6,   90, 3085],\n",
       "       [   4,   86, 2464],\n",
       "       [   4,   97, 2489],\n",
       "       [   4,   92, 2865],\n",
       "       [   4,   60, 2164],\n",
       "       [   4,   67, 1995],\n",
       "       [   4,   70, 2120],\n",
       "       [   4,   78, 2188],\n",
       "       [   4,   58, 1755],\n",
       "       [   4,   90, 2408],\n",
       "       [   4,   97, 2545],\n",
       "       [   8,  140, 3735],\n",
       "       [   4,   96, 2665],\n",
       "       [   4,   53, 1795],\n",
       "       [   4,   70, 1945],\n",
       "       [   6,  116, 2900],\n",
       "       [   8,  150, 3399],\n",
       "       [   6,   95, 3193],\n",
       "       [   4,   71, 1925],\n",
       "       [   4,   75, 2542]], dtype=int64)"
      ]
     },
     "execution_count": 10,
     "metadata": {},
     "output_type": "execute_result"
    }
   ],
   "source": [
    "print(len(X_train))\n",
    "X_train"
   ]
  },
  {
   "cell_type": "code",
   "execution_count": 12,
   "metadata": {
    "scrolled": true
   },
   "outputs": [
    {
     "name": "stdout",
     "output_type": "stream",
     "text": [
      "324\n"
     ]
    },
    {
     "data": {
      "text/plain": [
       "array([34.5, 26.5, 14. , 35.7, 40.9, 37.3, 18.5, 15.5, 26. , 15. , 27. ,\n",
       "       34.1, 36. , 19. , 34.4, 19. , 25.1, 33.8, 24. , 31. , 18.1, 27. ,\n",
       "       19. , 19.2, 24. , 20. , 19. , 28.8, 18. , 27.2, 18. , 24. , 16.9,\n",
       "       22. , 32. , 15. , 20.5, 30.9, 17.7, 34.2, 29.5, 28.1, 24.2, 13. ,\n",
       "       30.5, 16. , 16. , 15. , 13. , 38. , 18. , 17. , 19.8, 23. , 30.7,\n",
       "       15. , 25. , 30. , 18.2, 28. , 44. , 20. , 27. , 18. , 29. , 15.5,\n",
       "       17. , 20. , 15. , 19.2, 16. , 24. , 36. , 17.5, 32.9, 26. , 29.8,\n",
       "       20. , 21. , 28. , 35.1, 29.8, 19. , 15. , 22. , 31. , 18. , 30. ,\n",
       "       11. , 34. , 16. , 13. , 32.2, 34.5, 25. , 38. , 17. , 18. , 46.6,\n",
       "       13. , 17.6, 33. , 14. , 12. , 25.5, 32.8, 12. , 19. , 18. , 13. ,\n",
       "       21.5, 23.9, 39.4, 31. , 19.4, 10. , 26. , 13. , 22. , 12. , 28. ,\n",
       "       21. , 29. , 41.5, 26. , 14. , 29. ,  9. , 30. , 30. , 18.6, 25. ,\n",
       "        0. , 23. , 23. , 19. , 36. , 17.5, 22. , 33. , 22. , 35. , 13. ,\n",
       "       17.5, 14. , 26. , 29. , 13. , 26.6, 27.5, 28. , 23. , 21. , 18. ,\n",
       "       18. , 14.5, 25. , 28. , 27. , 23.2, 37. , 21. , 16.5, 23. , 15. ,\n",
       "       21. , 23.7, 22. , 26. , 16. , 22. , 29. , 26.6, 26.4, 16.5, 19.9,\n",
       "       19.2, 36.4, 24. , 22. , 20. , 33.7,  0. , 32. , 16. , 29. , 30. ,\n",
       "       18. , 15. , 20.2,  0. , 21. , 23. , 32. , 14. , 15. , 13. , 17. ,\n",
       "       25. , 21.5, 20.2, 21. , 31. , 25. , 20. , 31. , 20.2, 13. , 24. ,\n",
       "       28. , 27. , 43.4, 20.8, 13. , 23.6, 13. , 18. , 36.1, 28. , 16. ,\n",
       "       28. , 16. , 13. , 24. , 20.5, 23. , 36. , 32.3, 25. , 12. , 28.4,\n",
       "       20. , 20. , 27. , 32.4, 43.1, 25.8, 11. , 19. , 39. , 21.6, 31.3,\n",
       "       25.5, 21. , 38.1, 33.5, 26. , 29. , 32. , 17. , 26. , 15.5, 37. ,\n",
       "       26. , 17.6, 18. , 15. , 29.9, 25. , 14. , 19. , 11. , 12. , 20.3,\n",
       "       31.5, 24.5, 44.3,  0. , 18. , 14. , 13. , 16.2, 15.5, 26. , 40.8,\n",
       "       29. , 23.8, 30.5, 14. , 27. , 27.9, 13. , 23. , 27. , 31.8, 15. ,\n",
       "       36. , 30. , 13. , 14. , 14. , 30. , 15.5, 38. , 18.5, 22. , 19.1,\n",
       "       27.4, 32.4, 21.5, 31.6, 22.4, 26.8, 14. , 22.5, 28. , 24. , 24. ,\n",
       "       24.5, 38. , 32.1, 34.3, 39.1, 20. , 24. , 19.4, 32. , 33. , 33.5,\n",
       "       25.4, 15. , 17.5, 31.9, 25. ])"
      ]
     },
     "execution_count": 12,
     "metadata": {},
     "output_type": "execute_result"
    }
   ],
   "source": [
    "print(len(y_train))\n",
    "y_train     ### target for train "
   ]
  },
  {
   "cell_type": "code",
   "execution_count": 13,
   "metadata": {},
   "outputs": [],
   "source": [
    "from sklearn.preprocessing import StandardScaler\n",
    "scaler = StandardScaler()\n",
    "scaler.fit(X_train)\n",
    "\n",
    "X_train = scaler.transform(X_train)\n",
    "X_test = scaler.transform(X_test)"
   ]
  },
  {
   "cell_type": "code",
   "execution_count": 32,
   "metadata": {
    "scrolled": true
   },
   "outputs": [
    {
     "data": {
      "text/plain": [
       "KNeighborsRegressor(algorithm='auto', leaf_size=30, metric='minkowski',\n",
       "                    metric_params=None, n_jobs=None, n_neighbors=3, p=2,\n",
       "                    weights='uniform')"
      ]
     },
     "execution_count": 32,
     "metadata": {},
     "output_type": "execute_result"
    }
   ],
   "source": [
    "from sklearn.neighbors import KNeighborsRegressor\n",
    "classifier = KNeighborsRegressor(3)\n",
    "classifier.fit(X_train, y_train)"
   ]
  },
  {
   "cell_type": "code",
   "execution_count": 33,
   "metadata": {},
   "outputs": [
    {
     "data": {
      "text/plain": [
       "array([14.83333333, 34.7       , 14.33333333, 19.33333333, 30.86666667,\n",
       "       19.06666667, 36.23333333, 23.66666667, 33.        , 24.33333333,\n",
       "       19.4       , 18.16666667,  8.66666667, 14.16666667, 25.86666667,\n",
       "        8.        , 35.66666667, 23.6       , 22.83333333, 16.86666667,\n",
       "       17.93333333, 20.4       ,  8.66666667, 18.33333333, 19.13333333,\n",
       "       18.33333333, 19.        , 30.        , 14.        , 35.7       ,\n",
       "       18.1       , 13.        , 20.03333333, 19.63333333,  9.5       ,\n",
       "       11.66666667, 35.03333333, 15.        , 24.4       , 23.66666667,\n",
       "       14.        , 17.16666667, 15.        , 34.4       , 15.83333333,\n",
       "       12.66666667, 22.        , 18.33333333, 34.63333333, 25.7       ,\n",
       "       24.5       , 10.66666667, 19.06666667, 14.66666667, 18.16666667,\n",
       "       32.33333333, 32.7       , 23.66666667, 14.16666667, 20.        ,\n",
       "       15.        , 25.16666667, 26.4       , 23.56666667, 14.        ,\n",
       "       18.        , 33.46666667, 26.        , 32.23333333, 20.06666667,\n",
       "       21.33333333, 32.1       , 26.        , 12.66666667, 25.16666667,\n",
       "       15.33333333,  9.5       , 18.33333333, 33.66666667, 30.86666667,\n",
       "       13.33333333, 32.83333333])"
      ]
     },
     "execution_count": 33,
     "metadata": {},
     "output_type": "execute_result"
    }
   ],
   "source": [
    "y_pred = classifier.predict(X_test)\n",
    "y_pred"
   ]
  },
  {
   "cell_type": "code",
   "execution_count": 34,
   "metadata": {
    "scrolled": true
   },
   "outputs": [
    {
     "data": {
      "text/plain": [
       "82"
      ]
     },
     "execution_count": 34,
     "metadata": {},
     "output_type": "execute_result"
    }
   ],
   "source": [
    "len(y_pred)"
   ]
  },
  {
   "cell_type": "code",
   "execution_count": 35,
   "metadata": {},
   "outputs": [
    {
     "data": {
      "text/plain": [
       "36.61434959349594"
      ]
     },
     "execution_count": 35,
     "metadata": {},
     "output_type": "execute_result"
    }
   ],
   "source": [
    "from sklearn.metrics import r2_score\n",
    "from math import sqrt\n",
    "from sklearn.metrics import mean_squared_error\n",
    "mean_squared_error(y_test ,y_pred )"
   ]
  },
  {
   "cell_type": "code",
   "execution_count": 36,
   "metadata": {},
   "outputs": [
    {
     "data": {
      "image/png": "[encoded data removed]",
      "text/plain": [
       "<Figure size 432x288 with 1 Axes>"
      ]
     },
     "metadata": {
      "needs_background": "light"
     },
     "output_type": "display_data"
    }
   ],
   "source": [
    "\n",
    "plt.scatter(y_test ,y_pred,color=\"yellow\")\n",
    "plt.title(\"Fuel Efficiecy Prediction\")\n",
    "plt.xlabel(\"actual value\")\n",
    "plt.ylabel(\"predicted value\")\n",
    "plt.show()"
   ]
  },
  {
   "cell_type": "code",
   "execution_count": 59,
   "metadata": {},
   "outputs": [
    {
     "name": "stdout",
     "output_type": "stream",
     "text": [
      "[67.44146341463414, 32.0934756097561, 27.72955284552845, 21.350746951219513, 35.413336585365855, 37.86046747967479, 24.370084619213543, 25.401934070121953, 23.58622854561879, 31.31670243902439, 17.67196734529329, 26.23013550135501, 30.684157887141012, 35.5336243155799, 19.04891978319783, 17.677711509146338, 17.201396320364587, 26.056673441734418, 16.063045402337682, 22.02330487804878, 33.78465543941154, 23.3011136867567, 18.194219189450873, 27.17243987127371, 18.518500878048776, 23.87451526194256, 16.246258489745387, 14.376109849427573, 18.86837664220875, 14.29506829268293, 17.420925357224437, 14.87794076314787, 15.758334901117609, 26.09053274537936, 21.121044997511206, 21.07761498795544, 16.218913128685706, 29.28264711843794, 14.083446304581393, 25.73984054878049, 21.218486963334833, 28.54437697030032, 20.014254705905632, 25.64275643771417, 20.744435953026194, 30.39595451611416, 22.057598736874645, 32.15208777947155, 38.05451661401245, 22.906464926829262, 14.85155798426496, 11.652750577283882, 32.229780192586546, 14.147883000434941, 41.55575637976215, 20.156850889746142, 20.658778498449802, 39.14057843450016, 18.434443564717174, 32.554913753387545, 17.57567271452075, 33.15379365371439, 19.439117919977388, 31.68236884884718, 14.474459229326015, 23.25702031400479, 15.865876858879975, 24.73607113469491, 23.990334322057777, 15.201655724240911, 15.296934648080862, 33.31507673705209, 16.44547027539144, 18.01448789841258, 33.41371559891599, 30.413456776569152, 19.853245046053093, 22.861073808149325, 36.35882867426656, 17.843779344512193, 21.65914976152505, 19.56337917688368, 19.201855910270528, 19.809463853630877, 19.390665085661233, 25.521391440989852, 32.51813636495461, 24.547751918086067, 25.21956186241574, 35.74820581150256, 15.731300582290933, 17.95616556779935, 18.51612714285311, 25.276467996775942, 26.658045726640093, 54.51037650586467, 17.628032967916027, 17.011070514318217, 22.178866404871584, 33.49194346341463, 13.780804775237238, 20.421835679991748, 36.37562351569882, 24.04328240005773, 20.676835274597643, 12.867968778490738, 30.37611976975302, 27.407201395162097, 19.70538544837936, 21.077442642612375, 34.753868984343605, 20.078734299169362, 31.811550000095504, 21.104869453265167, 26.541828788786937, 23.136795137176996, 21.053165947734428, 17.35870875694537, 31.5270259954771, 28.33799701897019, 37.982399401280404, 32.64826301446634, 26.222257504163387, 24.437653097319867, 39.291815164878045, 31.72007711440493, 31.587395216009938, 39.83901325504954, 27.91300353520031, 23.781329751767935, 29.631427492286115, 39.19884699965285, 33.741737355032555, 22.971817016120706, 29.54614252065978, 33.07605716990885, 41.35279307212593, 26.041105014830862, 25.26772348676595, 27.80837420358388, 29.876258015681103, 21.77848009130012, 29.91432538295748, 36.4646598821891, 35.952952298367215, 26.8865607479095, 35.59811618690948, 19.316120076074753, 22.2296096528282, 37.673239826558266, 43.73624531872266, 20.870297076633335, 26.27284011048492, 29.3219918424939, 26.667773284942005, 34.5285558582287, 32.37401663749283, 40.0415703197971, 24.152078115156385, 28.460642549542683, 19.283817965657374, 29.392676556035106, 25.235253266001358, 29.597305501951514, 27.93544951510672, 29.19141570248081, 40.1942633340009, 34.05935626486367, 28.8650294833224, 21.56369715165837, 27.12059656462985, 30.780125352036038, 33.917698732528756, 35.178488007888404, 37.70340603285216, 46.93470790131778, 45.68893223297357, 45.56066785266704, 24.7728753517787, 35.890506586871425, 30.68864959153545, 27.16517325879695, 24.73524224554259, 38.715763981741894, 39.06886465463485, 45.00408775933493, 36.37501734288697, 34.97429986046551, 36.88912242303324, 38.00289897304236, 41.599961657287686, 28.423561674288617, 28.450492401498423, 38.38229752455484, 29.373116123859457, 32.02292973075244, 46.451972876545476, 51.86195547803732, 31.61756465253095, 30.1631566554878, 48.77832068875379, 23.754671209302778, 36.297801841771474, 35.93139417824758, 38.97499187185328, 20.580146559295027, 22.385036389840902, 33.614285041807975, 30.131284294505456, 44.43200985288425, 58.309829526871674, 35.92800839147254, 25.160002333171512, 53.90559600476344, 34.201423097521406, 38.012229825876574, 46.51308513613816, 40.429269845171945, 34.27662624510464, 49.2478544673453, 29.53467286830687, 38.55157913269235, 31.6614560846618, 38.47879879895937, 48.08423800542005, 33.476229638186226, 35.285587890598194, 35.70315175307224, 33.75563239012856, 39.65085613214071, 43.28155667951519, 47.848134611271426, 31.303280698735634, 38.60508057029944, 29.091774222968112, 54.90683008062935, 43.72378417224328, 33.455982044898306, 39.69802612639578, 27.765794889058263, 36.54022565206455, 53.4108568237209, 41.92186653581214, 58.99010464871429, 52.69186793510833, 44.75579011557518, 51.28535733432371, 44.98160365536407, 48.26990310738497, 50.5547802692683, 39.87265611540816, 61.096429182106455, 52.33251896551134, 53.83100984592214, 49.845509747658035, 44.30544636982243, 46.286497507947715, 41.69591795755708, 54.21275948334758, 57.851679547914564, 45.8345763116635, 50.749947088264534, 63.506421810983284, 44.524871394446116, 55.216260655211045, 72.91838919288409, 43.42032426067854, 43.181088432971656, 49.97646198717069, 61.01569029576097, 48.70860026183289, 62.93354909631086, 58.823091495895035, 43.26645628040009, 64.27309558072969, 59.22030803345014, 51.78368797977298, 70.0509636456478, 62.25628098365618, 36.74941317819812, 70.79129285343399, 54.08811739606757, 61.3986289612562, 66.18314662602029, 64.14940823668069, 57.37280429211755, 57.62531049450583, 55.34697586734982, 62.19426794517285, 68.062140235202, 47.205784434611274, 52.848982676187376, 72.99489205664285, 70.3893574831625, 38.31392323764547, 92.97222235414179, 78.28020573781393, 65.60516787861675, 78.70493436533285, 54.53411127235772, 45.237790260216265, 52.90131902911832, 60.17499802878139, 86.99896555896774, 59.79597233631138, 74.92581993036865, 57.38410186276157, 89.99679161490235, 59.60895143868491, 56.69994097738637, 66.05753605731951, 61.18252815135862, 72.20960967369221, 77.20025958605157, 55.00816252050956, 72.63944827380698, 85.91815940053142, 64.63116582297897, 64.90067333884441, 71.43142832507623, 65.99186068013184, 73.43334200610484, 77.00727473875443]\n",
      "52 11.652750577283882\n"
     ]
    }
   ],
   "source": [
    "MSE = []\n",
    "\n",
    "for i in range(1 ,324):\n",
    "    X = dataset.iloc[:, [2,4,5]].values\n",
    "    y = dataset.iloc[:, 1].values\n",
    "\n",
    "    from sklearn.model_selection import train_test_split\n",
    "    X_train, X_test, y_train, y_test = train_test_split(X, y, test_size=0.20)\n",
    "\n",
    "    from sklearn.preprocessing import StandardScaler\n",
    "    scaler = StandardScaler()\n",
    "    scaler.fit(X_train)\n",
    "\n",
    "    X_train = scaler.transform(X_train)\n",
    "    X_test = scaler.transform(X_test)\n",
    "\n",
    "    from sklearn.neighbors import KNeighborsRegressor\n",
    "    classifier = KNeighborsRegressor(i)\n",
    "    classifier.fit(X_train, y_train)\n",
    "    y_pred = classifier.predict(X_test)\n",
    "\n",
    "    from sklearn.metrics import r2_score\n",
    "    from math import sqrt\n",
    "    from sklearn.metrics import mean_squared_error\n",
    "    mean_squared_error(y_test ,y_pred )\n",
    "    \n",
    "    \n",
    "    MSE.append(mean_squared_error(y_test ,y_pred ))    \n",
    "    \n",
    "print(MSE.index(min(MSE))+1  , min(MSE))"
   ]
  },
  {
   "cell_type": "code",
   "execution_count": 48,
   "metadata": {},
   "outputs": [
    {
     "name": "stdout",
     "output_type": "stream",
     "text": [
      "Minimum Element in the list [8, 1, 7, 10, 5] is 1\n",
      "Maximum Element in the list [8, 1, 7, 10, 5] is 10\n"
     ]
    }
   ],
   "source": [
    "gfg_list=[8,1,7,10,5] \n",
    "#min and max indexes are taken 1st element  \n",
    "#In some cases list might be a single element \n",
    "min_ele,max_ele=gfg_list[0],gfg_list[0]  \n",
    "for i in range(1,len(gfg_list)): \n",
    "    if gfg_list[i]<min_ele: \n",
    "        min_ele=gfg_list[i] \n",
    "    if gfg_list[i]>max_ele: \n",
    "        max_ele=gfg_list[i] \n",
    "print('Minimum Element in the list',gfg_list,'is',min_ele) \n",
    "print('Maximum Element in the list',gfg_list,'is',max_ele) \n"
   ]
  },
  {
   "cell_type": "code",
   "execution_count": 50,
   "metadata": {},
   "outputs": [],
   "source": [
    "def minimum(a, n): \n",
    "  \n",
    "    # inbuilt function to find the position of minimum  \n",
    "    minpos = a.index(min(a)) \n",
    "      \n",
    "    # inbuilt function to find the position of maximum  \n",
    "    maxpos = a.index(max(a))  \n",
    "      \n",
    "    # printing the position  \n",
    "    print (\"The maximum is at position\", maxpos + 1  )\n",
    "    print (\"The minimum is at position\", minpos + 1)"
   ]
  },
  {
   "cell_type": "code",
   "execution_count": null,
   "metadata": {},
   "outputs": [],
   "source": []
  }
 ],
 "metadata": {
  "kernelspec": {
   "display_name": "Python 3",
   "language": "python",
   "name": "python3"
  },
  "language_info": {
   "codemirror_mode": {
    "name": "ipython",
    "version": 3
   },
   "file_extension": ".py",
   "mimetype": "text/x-python",
   "name": "python",
   "nbconvert_exporter": "python",
   "pygments_lexer": "ipython3",
   "version": "3.7.6"
  }
 },
 "nbformat": 4,
 "nbformat_minor": 4
}
