{
 "cells": [
  {
   "cell_type": "code",
   "execution_count": 1,
   "metadata": {},
   "outputs": [],
   "source": [
    "import numpy as np\n",
    "import matplotlib.pyplot as plt\n",
    "import pandas as pd"
   ]
  },
  {
   "cell_type": "code",
   "execution_count": 2,
   "metadata": {},
   "outputs": [],
   "source": [
    "url = \"https://archive.ics.uci.edu/ml/machine-learning-databases/iris/iris.data\"\n",
    "\n",
    "# Assign colum names to the dataset\n",
    "names = ['sepal-length', 'sepal-width', 'petal-length', 'petal-width', 'Class']\n",
    "\n",
    "# Read dataset to pandas dataframe\n",
    "dataset = pd.read_csv(url, names=names)"
   ]
  },
  {
   "cell_type": "code",
   "execution_count": 3,
   "metadata": {
    "scrolled": true
   },
   "outputs": [
    {
     "data": {
      "text/html": [
       "<div>\n",
       "<style scoped>\n",
       "    .dataframe tbody tr th:only-of-type {\n",
       "        vertical-align: middle;\n",
       "    }\n",
       "\n",
       "    .dataframe tbody tr th {\n",
       "        vertical-align: top;\n",
       "    }\n",
       "\n",
       "    .dataframe thead th {\n",
       "        text-align: right;\n",
       "    }\n",
       "</style>\n",
       "<table border=\"1\" class=\"dataframe\">\n",
       "  <thead>\n",
       "    <tr style=\"text-align: right;\">\n",
       "      <th></th>\n",
       "      <th>sepal-length</th>\n",
       "      <th>sepal-width</th>\n",
       "      <th>petal-length</th>\n",
       "      <th>petal-width</th>\n",
       "      <th>Class</th>\n",
       "    </tr>\n",
       "  </thead>\n",
       "  <tbody>\n",
       "    <tr>\n",
       "      <th>0</th>\n",
       "      <td>5.1</td>\n",
       "      <td>3.5</td>\n",
       "      <td>1.4</td>\n",
       "      <td>0.2</td>\n",
       "      <td>Iris-setosa</td>\n",
       "    </tr>\n",
       "    <tr>\n",
       "      <th>1</th>\n",
       "      <td>4.9</td>\n",
       "      <td>3.0</td>\n",
       "      <td>1.4</td>\n",
       "      <td>0.2</td>\n",
       "      <td>Iris-setosa</td>\n",
       "    </tr>\n",
       "    <tr>\n",
       "      <th>2</th>\n",
       "      <td>4.7</td>\n",
       "      <td>3.2</td>\n",
       "      <td>1.3</td>\n",
       "      <td>0.2</td>\n",
       "      <td>Iris-setosa</td>\n",
       "    </tr>\n",
       "    <tr>\n",
       "      <th>3</th>\n",
       "      <td>4.6</td>\n",
       "      <td>3.1</td>\n",
       "      <td>1.5</td>\n",
       "      <td>0.2</td>\n",
       "      <td>Iris-setosa</td>\n",
       "    </tr>\n",
       "    <tr>\n",
       "      <th>4</th>\n",
       "      <td>5.0</td>\n",
       "      <td>3.6</td>\n",
       "      <td>1.4</td>\n",
       "      <td>0.2</td>\n",
       "      <td>Iris-setosa</td>\n",
       "    </tr>\n",
       "  </tbody>\n",
       "</table>\n",
       "</div>"
      ],
      "text/plain": [
       "   sepal-length  sepal-width  petal-length  petal-width        Class\n",
       "0           5.1          3.5           1.4          0.2  Iris-setosa\n",
       "1           4.9          3.0           1.4          0.2  Iris-setosa\n",
       "2           4.7          3.2           1.3          0.2  Iris-setosa\n",
       "3           4.6          3.1           1.5          0.2  Iris-setosa\n",
       "4           5.0          3.6           1.4          0.2  Iris-setosa"
      ]
     },
     "execution_count": 3,
     "metadata": {},
     "output_type": "execute_result"
    }
   ],
   "source": [
    "dataset.head()"
   ]
  },
  {
   "cell_type": "code",
   "execution_count": null,
   "metadata": {},
   "outputs": [],
   "source": []
  },
  {
   "cell_type": "code",
   "execution_count": 5,
   "metadata": {},
   "outputs": [],
   "source": [
    "X = dataset.iloc[:, :-1].values\n",
    "y = dataset.iloc[:, 4].values"
   ]
  },
  {
   "cell_type": "code",
   "execution_count": 6,
   "metadata": {},
   "outputs": [],
   "source": [
    "from sklearn.model_selection import train_test_split\n",
    "X_train, X_test, y_train, y_test = train_test_split(X, y, test_size=0.20)"
   ]
  },
  {
   "cell_type": "code",
   "execution_count": 12,
   "metadata": {
    "scrolled": false
   },
   "outputs": [
    {
     "data": {
      "text/plain": [
       "array([[-0.57113639,  1.93793482, -1.44025702, -1.10600179],\n",
       "       [-0.44940217, -1.33744797,  0.10338597,  0.06735964],\n",
       "       [-0.20593373, -0.40162432,  0.21772989,  0.06735964],\n",
       "       [ 0.15926894, -0.16766841,  0.56076167,  0.7192271 ],\n",
       "       [-1.6667444 , -1.8053598 , -1.44025702, -1.23637528],\n",
       "       [-1.54501017,  0.06628751, -1.3259131 , -1.36674877],\n",
       "       [ 1.25487694,  0.06628751,  0.90379344,  1.11034757],\n",
       "       [-0.44940217,  2.63980256, -1.38308506, -1.36674877],\n",
       "       [ 0.76794005, -0.16766841,  0.78944952,  0.97997408],\n",
       "       [-1.17980751, -1.57140389, -0.29681777, -0.32376084],\n",
       "       [-1.05807328,  0.76815525, -1.3259131 , -1.36674877],\n",
       "       [ 0.52447161, -0.63558023,  0.73227755,  0.32810662],\n",
       "       [ 1.0114085 , -0.16766841,  0.67510559,  0.58885361],\n",
       "       [ 1.62007961,  0.30024342,  1.24682522,  0.7192271 ],\n",
       "       [-1.42327595,  0.30024342, -1.44025702, -1.36674877],\n",
       "       [ 1.62007961, -0.16766841,  1.13248129,  0.45848011],\n",
       "       [ 0.15926894, -0.40162432,  0.38924578,  0.32810662],\n",
       "       [-0.0841995 ,  2.17189073, -1.49742899, -1.36674877],\n",
       "       [ 0.28100316, -0.16766841,  0.61793363,  0.7192271 ],\n",
       "       [-0.93633906,  1.70397891, -1.09722525, -1.10600179],\n",
       "       [-0.57113639,  1.47002299, -1.3259131 , -1.36674877],\n",
       "       [-0.0841995 , -0.63558023,  0.73227755,  1.50146805],\n",
       "       [-0.32766795, -0.16766841,  0.38924578,  0.32810662],\n",
       "       [-0.57113639,  0.76815525, -1.21156917, -1.36674877],\n",
       "       [ 0.64620583, -0.63558023,  1.01813737,  1.11034757],\n",
       "       [ 0.28100316, -0.40162432,  0.5035897 ,  0.19773313],\n",
       "       [-0.0841995 , -0.86953615,  0.73227755,  0.84960059],\n",
       "       [-0.0841995 , -0.86953615,  0.16055793, -0.32376084],\n",
       "       [ 0.88967428, -0.40162432,  0.44641774,  0.06735964],\n",
       "       [ 1.25487694,  0.06628751,  0.73227755,  1.37109456],\n",
       "       [ 0.64620583, -0.40162432,  0.27490185,  0.06735964],\n",
       "       [ 0.28100316, -1.10349206,  1.01813737,  0.19773313],\n",
       "       [-1.78847862,  0.30024342, -1.44025702, -1.36674877],\n",
       "       [-1.30154173,  0.06628751, -1.26874114, -1.36674877],\n",
       "       [ 0.64620583,  0.30024342,  0.84662148,  1.37109456],\n",
       "       [ 1.25487694,  0.30024342,  1.07530933,  1.37109456],\n",
       "       [ 1.25487694,  0.06628751,  0.61793363,  0.32810662],\n",
       "       [-0.44940217, -1.8053598 ,  0.10338597,  0.06735964],\n",
       "       [ 0.03753472,  0.30024342,  0.56076167,  0.7192271 ],\n",
       "       [-0.0841995 , -1.10349206,  0.10338597, -0.06301385],\n",
       "       [-0.20593373, -1.33744797,  0.67510559,  0.97997408],\n",
       "       [-0.0841995 , -0.86953615,  0.046214  , -0.06301385],\n",
       "       [-0.32766795, -0.86953615,  0.21772989,  0.06735964],\n",
       "       [-0.81460484,  1.00211116, -1.3259131 , -1.36674877],\n",
       "       [-0.20593373,  3.10771439, -1.3259131 , -1.10600179],\n",
       "       [ 1.37661117,  0.30024342,  0.5035897 ,  0.19773313],\n",
       "       [ 0.64620583, -0.86953615,  0.84662148,  0.84960059],\n",
       "       [ 0.52447161, -1.33744797,  0.67510559,  0.84960059],\n",
       "       [-0.57113639, -0.16766841,  0.38924578,  0.32810662],\n",
       "       [-0.93633906, -1.33744797, -0.46833366, -0.19338735],\n",
       "       [-1.05807328, -1.8053598 , -0.29681777, -0.32376084],\n",
       "       [ 2.1070165 , -0.16766841,  1.58985699,  1.11034757],\n",
       "       [ 1.0114085 , -1.33744797,  1.13248129,  0.7192271 ],\n",
       "       [ 0.52447161,  0.76815525,  1.01813737,  1.50146805],\n",
       "       [ 0.64620583,  0.06628751,  0.9609654 ,  0.7192271 ],\n",
       "       [ 1.13314272, -0.63558023,  0.56076167,  0.19773313],\n",
       "       [-1.17980751,  0.06628751, -1.3259131 , -1.49712227],\n",
       "       [-0.81460484,  2.40584665, -1.3259131 , -1.49712227],\n",
       "       [ 1.0114085 ,  0.06628751,  0.33207382,  0.19773313],\n",
       "       [ 0.52447161, -1.8053598 ,  0.33207382,  0.06735964],\n",
       "       [ 1.0114085 ,  0.53419934,  1.07530933,  1.11034757],\n",
       "       [ 0.40273739, -2.03931572,  0.38924578,  0.32810662],\n",
       "       [-1.54501017,  0.30024342, -1.38308506, -1.36674877],\n",
       "       [ 0.40273739,  0.76815525,  0.90379344,  1.37109456],\n",
       "       [ 0.76794005, -0.16766841,  0.9609654 ,  0.7192271 ],\n",
       "       [ 0.76794005, -0.16766841,  1.13248129,  1.24072106],\n",
       "       [ 1.49834539, -0.16766841,  1.18965326,  1.11034757],\n",
       "       [ 0.76794005, -0.63558023,  0.44641774,  0.32810662],\n",
       "       [-0.44940217, -1.57140389, -0.01095796, -0.19338735],\n",
       "       [-1.17980751, -1.33744797,  0.38924578,  0.58885361],\n",
       "       [ 1.13314272, -0.16766841,  0.9609654 ,  1.11034757],\n",
       "       [ 0.52447161,  0.53419934,  0.5035897 ,  0.45848011],\n",
       "       [-0.69287062,  1.47002299, -1.3259131 , -1.36674877],\n",
       "       [ 1.62007961,  1.23606708,  1.30399718,  1.63184154],\n",
       "       [-1.05807328,  0.76815525, -1.26874114, -1.10600179],\n",
       "       [-0.93633906,  1.00211116, -1.38308506, -1.36674877],\n",
       "       [-0.93633906,  1.47002299, -1.3259131 , -1.10600179],\n",
       "       [ 2.22875072, -0.16766841,  1.30399718,  1.37109456],\n",
       "       [-1.05807328,  1.00211116, -1.44025702, -1.23637528],\n",
       "       [-0.57113639,  0.76815525, -1.3259131 , -1.10600179],\n",
       "       [-1.05807328, -2.50722754, -0.18247385, -0.32376084],\n",
       "       [-1.54501017,  0.76815525, -1.38308506, -1.23637528],\n",
       "       [ 0.28100316, -0.16766841,  0.44641774,  0.19773313],\n",
       "       [-0.93633906,  1.70397891, -1.3259131 , -1.23637528],\n",
       "       [ 0.64620583, -0.63558023,  1.01813737,  1.24072106],\n",
       "       [-0.0841995 , -0.86953615,  0.73227755,  0.84960059],\n",
       "       [-1.05807328,  1.23606708, -1.38308506, -1.36674877],\n",
       "       [-1.30154173,  0.76815525, -1.09722525, -1.36674877],\n",
       "       [ 1.13314272,  0.30024342,  1.18965326,  1.37109456],\n",
       "       [-0.81460484,  0.76815525, -1.38308506, -1.36674877],\n",
       "       [ 1.0114085 ,  0.06628751,  0.5035897 ,  0.32810662],\n",
       "       [ 0.64620583,  0.30024342,  0.38924578,  0.32810662],\n",
       "       [-1.54501017,  1.23606708, -1.61177291, -1.36674877],\n",
       "       [ 0.52447161, -0.40162432,  1.01813737,  0.7192271 ],\n",
       "       [ 0.28100316, -0.63558023,  0.10338597,  0.06735964],\n",
       "       [-0.44940217,  1.00211116, -1.44025702, -1.36674877],\n",
       "       [ 1.0114085 ,  0.53419934,  1.07530933,  1.63184154],\n",
       "       [ 0.03753472, -0.16766841,  0.21772989,  0.32810662],\n",
       "       [-0.93633906,  1.00211116, -1.38308506, -1.23637528],\n",
       "       [ 2.22875072,  1.70397891,  1.64702896,  1.24072106],\n",
       "       [-1.30154173, -0.16766841, -1.38308506, -1.23637528],\n",
       "       [-1.30154173,  0.76815525, -1.26874114, -1.36674877],\n",
       "       [ 0.15926894,  0.76815525,  0.38924578,  0.45848011],\n",
       "       [ 0.76794005,  0.30024342,  0.73227755,  0.97997408],\n",
       "       [-1.30154173, -0.16766841, -1.38308506, -1.49712227],\n",
       "       [-0.81460484, -0.86953615,  0.046214  ,  0.19773313],\n",
       "       [-0.93633906,  0.76815525, -1.3259131 , -1.36674877],\n",
       "       [-0.32766795, -0.63558023,  0.61793363,  0.97997408],\n",
       "       [ 1.0114085 , -0.16766841,  0.78944952,  1.37109456],\n",
       "       [ 0.88967428, -0.16766841,  0.33207382,  0.19773313],\n",
       "       [-1.78847862, -0.16766841, -1.44025702, -1.36674877],\n",
       "       [-1.91021284, -0.16766841, -1.55460095, -1.49712227],\n",
       "       [ 1.74181383, -0.40162432,  1.41834111,  0.7192271 ],\n",
       "       [ 1.0114085 ,  0.06628751,  1.01813737,  1.50146805],\n",
       "       [-0.32766795, -1.33744797,  0.046214  , -0.19338735],\n",
       "       [ 2.22875072, -1.10349206,  1.76137288,  1.37109456],\n",
       "       [-0.93633906,  0.53419934, -1.21156917, -0.9756283 ],\n",
       "       [ 0.03753472, -0.16766841,  0.73227755,  0.7192271 ],\n",
       "       [-0.32766795, -0.16766841,  0.16055793,  0.06735964],\n",
       "       [-0.32766795, -0.40162432, -0.12530188,  0.06735964]])"
      ]
     },
     "execution_count": 12,
     "metadata": {},
     "output_type": "execute_result"
    }
   ],
   "source": [
    "X_train"
   ]
  },
  {
   "cell_type": "code",
   "execution_count": 13,
   "metadata": {
    "scrolled": true
   },
   "outputs": [
    {
     "data": {
      "text/plain": [
       "array([[ 0.15926894, -2.03931572,  0.10338597, -0.32376084],\n",
       "       [ 1.86354806, -0.63558023,  1.30399718,  0.84960059],\n",
       "       [-0.20593373, -0.63558023,  0.16055793,  0.06735964],\n",
       "       [-1.17980751, -0.16766841, -1.38308506, -1.36674877],\n",
       "       [-1.78847862, -0.40162432, -1.38308506, -1.36674877],\n",
       "       [-0.44940217, -1.57140389, -0.06812992, -0.32376084],\n",
       "       [ 0.40273739, -0.40162432,  0.27490185,  0.06735964],\n",
       "       [ 0.40273739, -0.63558023,  0.56076167,  0.7192271 ],\n",
       "       [-0.20593373, -0.16766841,  0.21772989, -0.06301385],\n",
       "       [-0.44940217, -1.10349206,  0.33207382, -0.06301385],\n",
       "       [-1.17980751,  0.06628751, -1.3259131 , -1.49712227],\n",
       "       [ 0.28100316, -0.63558023,  0.5035897 , -0.06301385],\n",
       "       [-0.93633906,  1.70397891, -1.26874114, -1.36674877],\n",
       "       [ 0.52447161,  0.53419934,  1.24682522,  1.63184154],\n",
       "       [ 2.47221917,  1.70397891,  1.47551307,  0.97997408],\n",
       "       [-1.17980751,  0.06628751, -1.3259131 , -1.49712227],\n",
       "       [-1.05807328,  0.30024342, -1.49742899, -1.36674877],\n",
       "       [ 0.52447161, -0.86953615,  0.61793363,  0.7192271 ],\n",
       "       [-0.20593373, -1.10349206, -0.18247385, -0.32376084],\n",
       "       [-0.20593373, -0.63558023,  0.38924578,  0.06735964],\n",
       "       [-1.42327595,  0.30024342, -1.26874114, -1.36674877],\n",
       "       [ 0.15926894, -0.86953615,  0.73227755,  0.45848011],\n",
       "       [-1.05807328, -0.16766841, -1.26874114, -1.36674877],\n",
       "       [ 0.15926894, -2.03931572,  0.67510559,  0.32810662],\n",
       "       [-1.05807328,  1.00211116, -1.26874114, -0.84525481],\n",
       "       [-0.20593373,  1.70397891, -1.21156917, -1.23637528],\n",
       "       [ 0.52447161, -1.33744797,  0.61793363,  0.32810662],\n",
       "       [-1.05807328,  0.53419934, -1.38308506, -1.36674877],\n",
       "       [ 2.22875072, -0.63558023,  1.64702896,  0.97997408],\n",
       "       [-0.57113639,  1.93793482, -1.21156917, -1.10600179]])"
      ]
     },
     "execution_count": 13,
     "metadata": {},
     "output_type": "execute_result"
    }
   ],
   "source": [
    "X_test"
   ]
  },
  {
   "cell_type": "code",
   "execution_count": 26,
   "metadata": {},
   "outputs": [
    {
     "data": {
      "text/plain": [
       "array(['Iris-setosa', 'Iris-versicolor', 'Iris-versicolor',\n",
       "       'Iris-virginica', 'Iris-setosa', 'Iris-setosa', 'Iris-virginica',\n",
       "       'Iris-setosa', 'Iris-virginica', 'Iris-versicolor', 'Iris-setosa',\n",
       "       'Iris-virginica', 'Iris-versicolor', 'Iris-virginica',\n",
       "       'Iris-setosa', 'Iris-virginica', 'Iris-versicolor', 'Iris-setosa',\n",
       "       'Iris-virginica', 'Iris-setosa', 'Iris-setosa', 'Iris-virginica',\n",
       "       'Iris-versicolor', 'Iris-setosa', 'Iris-virginica',\n",
       "       'Iris-versicolor', 'Iris-virginica', 'Iris-versicolor',\n",
       "       'Iris-versicolor', 'Iris-virginica', 'Iris-versicolor',\n",
       "       'Iris-virginica', 'Iris-setosa', 'Iris-setosa', 'Iris-virginica',\n",
       "       'Iris-virginica', 'Iris-versicolor', 'Iris-versicolor',\n",
       "       'Iris-versicolor', 'Iris-versicolor', 'Iris-virginica',\n",
       "       'Iris-versicolor', 'Iris-versicolor', 'Iris-setosa', 'Iris-setosa',\n",
       "       'Iris-versicolor', 'Iris-virginica', 'Iris-virginica',\n",
       "       'Iris-versicolor', 'Iris-versicolor', 'Iris-versicolor',\n",
       "       'Iris-virginica', 'Iris-virginica', 'Iris-virginica',\n",
       "       'Iris-virginica', 'Iris-versicolor', 'Iris-setosa', 'Iris-setosa',\n",
       "       'Iris-versicolor', 'Iris-versicolor', 'Iris-virginica',\n",
       "       'Iris-versicolor', 'Iris-setosa', 'Iris-virginica',\n",
       "       'Iris-virginica', 'Iris-virginica', 'Iris-virginica',\n",
       "       'Iris-versicolor', 'Iris-versicolor', 'Iris-virginica',\n",
       "       'Iris-virginica', 'Iris-versicolor', 'Iris-setosa',\n",
       "       'Iris-virginica', 'Iris-setosa', 'Iris-setosa', 'Iris-setosa',\n",
       "       'Iris-virginica', 'Iris-setosa', 'Iris-setosa', 'Iris-versicolor',\n",
       "       'Iris-setosa', 'Iris-versicolor', 'Iris-setosa', 'Iris-virginica',\n",
       "       'Iris-virginica', 'Iris-setosa', 'Iris-setosa', 'Iris-virginica',\n",
       "       'Iris-setosa', 'Iris-versicolor', 'Iris-versicolor', 'Iris-setosa',\n",
       "       'Iris-virginica', 'Iris-versicolor', 'Iris-setosa',\n",
       "       'Iris-virginica', 'Iris-versicolor', 'Iris-setosa',\n",
       "       'Iris-virginica', 'Iris-setosa', 'Iris-setosa', 'Iris-versicolor',\n",
       "       'Iris-virginica', 'Iris-setosa', 'Iris-versicolor', 'Iris-setosa',\n",
       "       'Iris-virginica', 'Iris-virginica', 'Iris-versicolor',\n",
       "       'Iris-setosa', 'Iris-setosa', 'Iris-virginica', 'Iris-virginica',\n",
       "       'Iris-versicolor', 'Iris-virginica', 'Iris-setosa',\n",
       "       'Iris-virginica', 'Iris-versicolor', 'Iris-versicolor'],\n",
       "      dtype=object)"
      ]
     },
     "execution_count": 26,
     "metadata": {},
     "output_type": "execute_result"
    }
   ],
   "source": [
    "y_train"
   ]
  },
  {
   "cell_type": "code",
   "execution_count": 14,
   "metadata": {},
   "outputs": [],
   "source": [
    "from sklearn.preprocessing import StandardScaler\n",
    "scaler = StandardScaler()\n",
    "scaler.fit(X_train)\n",
    "\n",
    "X_train = scaler.transform(X_train)\n",
    "X_test = scaler.transform(X_test)"
   ]
  },
  {
   "cell_type": "code",
   "execution_count": 23,
   "metadata": {},
   "outputs": [
    {
     "data": {
      "text/plain": [
       "KNeighborsClassifier(algorithm='auto', leaf_size=30, metric='minkowski',\n",
       "                     metric_params=None, n_jobs=None, n_neighbors=2, p=2,\n",
       "                     weights='uniform')"
      ]
     },
     "execution_count": 23,
     "metadata": {},
     "output_type": "execute_result"
    }
   ],
   "source": [
    "from sklearn.neighbors import KNeighborsClassifier\n",
    "classifier = KNeighborsClassifier(n_neighbors=2)\n",
    "classifier.fit(X_train, y_train)"
   ]
  },
  {
   "cell_type": "code",
   "execution_count": 24,
   "metadata": {},
   "outputs": [],
   "source": [
    "y_pred = classifier.predict(X_test)"
   ]
  },
  {
   "cell_type": "code",
   "execution_count": 25,
   "metadata": {},
   "outputs": [
    {
     "name": "stdout",
     "output_type": "stream",
     "text": [
      "[[12  0  0]\n",
      " [ 0  9  2]\n",
      " [ 0  1  6]]\n",
      "                 precision    recall  f1-score   support\n",
      "\n",
      "    Iris-setosa       1.00      1.00      1.00        12\n",
      "Iris-versicolor       0.90      0.82      0.86        11\n",
      " Iris-virginica       0.75      0.86      0.80         7\n",
      "\n",
      "       accuracy                           0.90        30\n",
      "      macro avg       0.88      0.89      0.89        30\n",
      "   weighted avg       0.90      0.90      0.90        30\n",
      "\n"
     ]
    }
   ],
   "source": [
    "from sklearn.metrics import classification_report, confusion_matrix\n",
    "print(confusion_matrix(y_test, y_pred))\n",
    "print(classification_report(y_test, y_pred))"
   ]
  },
  {
   "cell_type": "code",
   "execution_count": null,
   "metadata": {},
   "outputs": [],
   "source": []
  },
  {
   "cell_type": "code",
   "execution_count": null,
   "metadata": {},
   "outputs": [],
   "source": []
  },
  {
   "cell_type": "code",
   "execution_count": null,
   "metadata": {},
   "outputs": [],
   "source": []
  },
  {
   "cell_type": "code",
   "execution_count": null,
   "metadata": {},
   "outputs": [],
   "source": []
  },
  {
   "cell_type": "code",
   "execution_count": null,
   "metadata": {},
   "outputs": [],
   "source": []
  },
  {
   "cell_type": "code",
   "execution_count": null,
   "metadata": {},
   "outputs": [],
   "source": []
  },
  {
   "cell_type": "code",
   "execution_count": null,
   "metadata": {},
   "outputs": [],
   "source": []
  },
  {
   "cell_type": "code",
   "execution_count": null,
   "metadata": {},
   "outputs": [],
   "source": []
  },
  {
   "cell_type": "code",
   "execution_count": null,
   "metadata": {},
   "outputs": [],
   "source": []
  }
 ],
 "metadata": {
  "kernelspec": {
   "display_name": "Python 3",
   "language": "python",
   "name": "python3"
  },
  "language_info": {
   "codemirror_mode": {
    "name": "ipython",
    "version": 3
   },
   "file_extension": ".py",
   "mimetype": "text/x-python",
   "name": "python",
   "nbconvert_exporter": "python",
   "pygments_lexer": "ipython3",
   "version": "3.7.6"
  }
 },
 "nbformat": 4,
 "nbformat_minor": 4
}
