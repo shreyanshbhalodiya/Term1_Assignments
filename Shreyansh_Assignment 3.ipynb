{
 "cells": [
  {
   "cell_type": "markdown",
   "metadata": {},
   "source": [
    "### 1.WAP that will accept two sets of numbers and calculate the Pearson’s correlation coefficient between them. (Use necessary exception handling). (Optional if you do not know what it is)"
   ]
  },
  {
   "cell_type": "code",
   "execution_count": 51,
   "metadata": {
    "scrolled": true
   },
   "outputs": [
    {
     "data": {
      "text/html": [
       "<div>\n",
       "<style scoped>\n",
       "    .dataframe tbody tr th:only-of-type {\n",
       "        vertical-align: middle;\n",
       "    }\n",
       "\n",
       "    .dataframe tbody tr th {\n",
       "        vertical-align: top;\n",
       "    }\n",
       "\n",
       "    .dataframe thead th {\n",
       "        text-align: right;\n",
       "    }\n",
       "</style>\n",
       "<table border=\"1\" class=\"dataframe\">\n",
       "  <thead>\n",
       "    <tr style=\"text-align: right;\">\n",
       "      <th></th>\n",
       "      <th>x</th>\n",
       "      <th>y</th>\n",
       "      <th>xy</th>\n",
       "      <th>x^2</th>\n",
       "      <th>y^2</th>\n",
       "    </tr>\n",
       "  </thead>\n",
       "  <tbody>\n",
       "    <tr>\n",
       "      <th>0</th>\n",
       "      <td>2</td>\n",
       "      <td>4</td>\n",
       "      <td>8</td>\n",
       "      <td>4</td>\n",
       "      <td>16</td>\n",
       "    </tr>\n",
       "    <tr>\n",
       "      <th>1</th>\n",
       "      <td>3</td>\n",
       "      <td>6</td>\n",
       "      <td>18</td>\n",
       "      <td>9</td>\n",
       "      <td>36</td>\n",
       "    </tr>\n",
       "    <tr>\n",
       "      <th>2</th>\n",
       "      <td>4</td>\n",
       "      <td>8</td>\n",
       "      <td>32</td>\n",
       "      <td>16</td>\n",
       "      <td>64</td>\n",
       "    </tr>\n",
       "    <tr>\n",
       "      <th>3</th>\n",
       "      <td>5</td>\n",
       "      <td>10</td>\n",
       "      <td>50</td>\n",
       "      <td>25</td>\n",
       "      <td>100</td>\n",
       "    </tr>\n",
       "    <tr>\n",
       "      <th>4</th>\n",
       "      <td>6</td>\n",
       "      <td>12</td>\n",
       "      <td>72</td>\n",
       "      <td>36</td>\n",
       "      <td>144</td>\n",
       "    </tr>\n",
       "  </tbody>\n",
       "</table>\n",
       "</div>"
      ],
      "text/plain": [
       "   x   y  xy  x^2  y^2\n",
       "0  2   4   8    4   16\n",
       "1  3   6  18    9   36\n",
       "2  4   8  32   16   64\n",
       "3  5  10  50   25  100\n",
       "4  6  12  72   36  144"
      ]
     },
     "execution_count": 51,
     "metadata": {},
     "output_type": "execute_result"
    }
   ],
   "source": [
    "import pandas as pd\n",
    "import math\n",
    "\n",
    "data = [[2,4],[3,6],[4,8],[5,10],[6,12]]\n",
    "df = pd.DataFrame(data , columns = ['x','y'])\n",
    "df['xy'] = df['x']*df['y']\n",
    "df['x^2'] = df['x']*df['x']\n",
    "df['y^2'] = df['y']*df['y']\n",
    "df"
   ]
  },
  {
   "cell_type": "code",
   "execution_count": 53,
   "metadata": {},
   "outputs": [
    {
     "name": "stdout",
     "output_type": "stream",
     "text": [
      "0.11495012246792573\n"
     ]
    }
   ],
   "source": [
    "#df['x'].count()\n",
    "#df['x'].sum()\n",
    "\n",
    "num = (df['x'].count()*df['xy'].sum() - df['x'].sum()*df['y'].sum())\n",
    "den = math.sqrt((df['x'].count()*df['x^2'].sum())-df['x'].sum())*math.sqrt((df['y'].count()*df['y^2'].sum())-df['y'].sum())\n",
    "r = num/den\n",
    "print(r)"
   ]
  },
  {
   "cell_type": "code",
   "execution_count": 1,
   "metadata": {},
   "outputs": [
    {
     "data": {
      "text/plain": [
       "2"
      ]
     },
     "execution_count": 1,
     "metadata": {},
     "output_type": "execute_result"
    }
   ],
   "source": [
    "5//2"
   ]
  },
  {
   "cell_type": "markdown",
   "metadata": {},
   "source": [
    "#### 2.Write a program to print all prime numbers from 1 to 300."
   ]
  },
  {
   "cell_type": "code",
   "execution_count": 24,
   "metadata": {},
   "outputs": [
    {
     "name": "stdout",
     "output_type": "stream",
     "text": [
      "2 3 5 7 11 13 17 19 23 29 31 37 41 43 47 53 59 61 67 71 73 79 83 89 97 101 103 107 109 113 127 131 137 139 149 151 157 163 167 173 179 181 191 193 197 199 211 223 227 229 233 239 241 251 257 263 269 271 277 281 283 293 "
     ]
    }
   ],
   "source": [
    "for i in range(1 , 301):\n",
    "    if i>1:\n",
    "        for j in range(2,i):\n",
    "            if (i % j) == 0:\n",
    "                break\n",
    "        else:\n",
    "            print(i , end = ' ')\n",
    "    "
   ]
  },
  {
   "cell_type": "markdown",
   "metadata": {},
   "source": [
    "#### 3.Write a program to print the multiplication table of the number entered by the user. The table should get displayed in the following form.\n",
    "##### 29 * 1 = 29\n",
    "#####  29*2 = 58\n",
    "…"
   ]
  },
  {
   "cell_type": "code",
   "execution_count": null,
   "metadata": {},
   "outputs": [
    {
     "name": "stdout",
     "output_type": "stream",
     "text": [
      "Enter table number you want 29\n",
      "29 * 1 = 29\n",
      "29 * 2 = 58\n",
      "29 * 3 = 87\n",
      "29 * 4 = 116\n",
      "29 * 5 = 145\n",
      "29 * 6 = 174\n",
      "29 * 7 = 203\n",
      "29 * 8 = 232\n",
      "29 * 9 = 261\n",
      "29 * 10 = 290\n",
      "enter next number \n",
      "Enter table number you want 8\n",
      "8 * 1 = 8\n",
      "8 * 2 = 16\n",
      "8 * 3 = 24\n",
      "8 * 4 = 32\n",
      "8 * 5 = 40\n",
      "8 * 6 = 48\n",
      "8 * 7 = 56\n",
      "8 * 8 = 64\n",
      "8 * 9 = 72\n",
      "8 * 10 = 80\n",
      "enter next number \n"
     ]
    }
   ],
   "source": [
    "\n",
    "while True:\n",
    "    t = int(input('Enter table number you want '))\n",
    "    for i in range(1,11):  \n",
    "        print(t,'*',i ,'=', t*i  )\n",
    "    print('enter next number ')"
   ]
  },
  {
   "cell_type": "code",
   "execution_count": null,
   "metadata": {},
   "outputs": [],
   "source": []
  },
  {
   "cell_type": "code",
   "execution_count": null,
   "metadata": {},
   "outputs": [],
   "source": []
  },
  {
   "cell_type": "markdown",
   "metadata": {},
   "source": [
    "#### 3.Write AProgram  which repeatedly reads numbers until the user enters “done”. Once “done” is entered, print out the total, count, and average of the numbers. If the user enters anything other than a number, detect their mistake using try and except and print an error message and skip to the next number. \n",
    "#### Enter a number: 4 \n",
    "#### Enter a number: 5\n",
    "#### Enter a number: nine\n",
    "#### Invalid input\n",
    "#### Enter a number: 7\n",
    "#### Enter a number: done\n",
    "#### 16\t3\t5.33333333333\t\n"
   ]
  },
  {
   "cell_type": "code",
   "execution_count": 57,
   "metadata": {},
   "outputs": [
    {
     "name": "stdout",
     "output_type": "stream",
     "text": [
      "enter here 5\n",
      "enter here 7\n",
      "enter here 8\n",
      "enter here done\n",
      "error enter again\n"
     ]
    }
   ],
   "source": [
    "try:\n",
    "    x = ''\n",
    "    basket = []\n",
    "\n",
    "    while x != 'done':\n",
    "        x = input(\"enter here \")\n",
    "        basket.append(x)\n",
    "    int_list = [int(i) for i in basket[:-1]]\n",
    "    print(int_lis)\n",
    "    \n",
    "    \n",
    "except:\n",
    "    print('error enter again')"
   ]
  },
  {
   "cell_type": "code",
   "execution_count": null,
   "metadata": {},
   "outputs": [],
   "source": []
  },
  {
   "cell_type": "markdown",
   "metadata": {},
   "source": [
    "#### 4.Write another program that prompts for a list of numbers as above and at the end prints both the maximum and minimum of the numbers instead of the average. "
   ]
  },
  {
   "cell_type": "code",
   "execution_count": 55,
   "metadata": {},
   "outputs": [
    {
     "name": "stdout",
     "output_type": "stream",
     "text": [
      "enter here 5\n",
      "enter here 20\n",
      "enter here 18\n",
      "enter here 0\n",
      "enter here -8\n",
      "enter here done\n",
      "max 20\n",
      "min -8\n"
     ]
    }
   ],
   "source": [
    "try:\n",
    "    x = ''\n",
    "    basket = []\n",
    "\n",
    "    while x != 'done':\n",
    "        x = input(\"enter here \")\n",
    "        basket.append(x)\n",
    "    int_list = [int(i) for i in basket[:-1]]\n",
    "    print('max' ,max(int_list))\n",
    "    print('min' ,min(int_list))\n",
    "    \n",
    "except:\n",
    "    print('error enter again')"
   ]
  },
  {
   "cell_type": "code",
   "execution_count": null,
   "metadata": {},
   "outputs": [],
   "source": []
  },
  {
   "cell_type": "markdown",
   "metadata": {},
   "source": [
    "#### 5.Guess a number is a game that prompts a player to guess a number between 0 and 9, which is randomly generated by the system. When the input given by the user matches the number generated by the system then the user wins. The game should go as follows:\n",
    "\t\n",
    "#### \tGuess the number: 5\n",
    "#### \tSorry, try again\n",
    "####  Guess the number: 3\n",
    "#### \tSorry, try again\n",
    "#### \tGuess the number: 8\n",
    "#### You got it right! Congo!\n"
   ]
  },
  {
   "cell_type": "code",
   "execution_count": 3,
   "metadata": {},
   "outputs": [],
   "source": [
    "import random"
   ]
  },
  {
   "cell_type": "code",
   "execution_count": 17,
   "metadata": {},
   "outputs": [],
   "source": [
    "def guess():\n",
    "    try:\n",
    "        num = random.randrange(0,10)\n",
    "   \n",
    "        for i in range(5):\n",
    "            print(\"you have five chance to guess number \", 5 - i ,'chances left ')\n",
    "            g = int(input(\"guess a number between 0 and 10 enter here \"))\n",
    "            if g in range(0,9):\n",
    "                if g != num:\n",
    "                    print(\" soory try again \")\n",
    "                elif g== num:\n",
    "                    print(\"correct guess \")\n",
    "                    break\n",
    "            else:\n",
    "                print(\"invalid input \")\n",
    "    except:\n",
    "        print(\"invalid input\")\n",
    "    \n"
   ]
  },
  {
   "cell_type": "code",
   "execution_count": 18,
   "metadata": {
    "scrolled": false
   },
   "outputs": [
    {
     "name": "stdout",
     "output_type": "stream",
     "text": [
      "you have five chance to guess number  5 chances left \n",
      "guess a number between 0 and 10 enter here 8\n",
      " soory try again \n",
      "you have five chance to guess number  4 chances left \n",
      "guess a number between 0 and 10 enter here 5\n",
      " soory try again \n",
      "you have five chance to guess number  3 chances left \n",
      "guess a number between 0 and 10 enter here 4\n",
      " soory try again \n",
      "you have five chance to guess number  2 chances left \n",
      "guess a number between 0 and 10 enter here 1\n",
      " soory try again \n",
      "you have five chance to guess number  1 chances left \n",
      "guess a number between 0 and 10 enter here 0\n",
      " soory try again \n"
     ]
    }
   ],
   "source": [
    "guess()"
   ]
  },
  {
   "cell_type": "code",
   "execution_count": null,
   "metadata": {},
   "outputs": [],
   "source": []
  },
  {
   "cell_type": "markdown",
   "metadata": {},
   "source": [
    "#### 6.Make an improvement to the Guess a number game. Guide the user where they are standing and limit the number of attempts to 3. For example, the game should go like this:\n",
    "\t\n",
    "####  Guess the number: 4\n",
    "####  Too low\n",
    "####  Guess the number: 9\n",
    "####  Too high\n",
    "#### Guess the number: 5\n",
    "#### Sorry you Lost!"
   ]
  },
  {
   "cell_type": "code",
   "execution_count": 10,
   "metadata": {},
   "outputs": [],
   "source": [
    "def guess2():\n",
    "    num = random.randrange(0,10)\n",
    "    chances = 0\n",
    "    while chances<4:\n",
    "        print(\"you have five chance to guess number \", 3 - chances ,'chances left ')\n",
    "        g = int(input(\"guess a number between 0 and 10 enter here \"))\n",
    "        if g in range(0,9):\n",
    "            if g > num:\n",
    "                print(\"high guess \")\n",
    "            elif g < num:\n",
    "                print(\"low guess\")\n",
    "            elif g==num:\n",
    "                print('correct guess')\n",
    "                break\n",
    "        else:\n",
    "            print(\"invalid input \")\n",
    "    if not chances < 4: \n",
    "        print(\"YOU LOSE!!! The number is\", num) \n",
    "    \n"
   ]
  },
  {
   "cell_type": "code",
   "execution_count": 11,
   "metadata": {
    "scrolled": true
   },
   "outputs": [
    {
     "name": "stdout",
     "output_type": "stream",
     "text": [
      "you have five chance to guess number  3 chances left \n",
      "guess a number between 0 and 10 enter here 5\n",
      "low guess\n",
      "you have five chance to guess number  3 chances left \n",
      "guess a number between 0 and 10 enter here 8\n",
      "high guess \n",
      "you have five chance to guess number  3 chances left \n",
      "guess a number between 0 and 10 enter here 6\n",
      "correct guess\n"
     ]
    }
   ],
   "source": [
    "guess2()"
   ]
  },
  {
   "cell_type": "code",
   "execution_count": null,
   "metadata": {},
   "outputs": [],
   "source": []
  },
  {
   "cell_type": "markdown",
   "metadata": {},
   "source": [
    "####   7.Let us make the above game a little more interesting by converting it into a gambling problem. Suppose that a player starts with Rs. 1,000. If a player can guess the number in his first chance, then he will be given a prize of Rs. 5,000, if he requires 2 attempts then he will get a prize of Rs.1,000. If he loses then he will lose Rs. 500. For example the game should go like this:\n",
    "\n",
    "####  You have a cash of Rs. 1,000 with you... \n",
    "####  Guess the number: 8\n",
    "####  Too high\n",
    "####  Guess the number: 3\n",
    "#### You have just won Rs. 1,000\n",
    "####  our balance: Rs. 2000\n"
   ]
  },
  {
   "cell_type": "code",
   "execution_count": 6,
   "metadata": {},
   "outputs": [
    {
     "name": "stdout",
     "output_type": "stream",
     "text": [
      "6\n",
      "guess number between 0 and 9 6\n",
      "you got it in first chance \n",
      " you won 5000 your total balance is   6000\n"
     ]
    }
   ],
   "source": [
    "x = 1000\n",
    "import random \n",
    "num = random.randrange(1,10)\n",
    "print(num) ## just to know check our balance \n",
    "i = 1\n",
    "while i<3:\n",
    "    g = int(input(\"guess number between 0 and 9 \"))\n",
    "    if g == num:\n",
    "        if i == 1:\n",
    "            print(\"you got it in first chance \")\n",
    "            print(\" you won 5000 your total balance is  \", x + 5000 )\n",
    "            break\n",
    "        elif i == 2:\n",
    "            print(\" you won 1000 your total balance is \" , x + 1000 )\n",
    "            break\n",
    "    elif g>num:\n",
    "        print(\"high guess \")\n",
    "        i = i + 1\n",
    "    elif g<num:\n",
    "        print(\"low guess \")\n",
    "        i = i + 1\n",
    "else:\n",
    "    print(\"you lose your two attempts and 500 final balance is  \", x - 500)\n",
    "        "
   ]
  },
  {
   "cell_type": "code",
   "execution_count": 2,
   "metadata": {
    "scrolled": true
   },
   "outputs": [
    {
     "name": "stdout",
     "output_type": "stream",
     "text": [
      "7\n",
      "guess number between 0 and 9 5\n",
      "low guess \n",
      "guess number between 0 and 9 5\n",
      "low guess \n",
      "guess number between 0 and 9 7\n",
      "you got in  last chance you saved your RS 500 \n"
     ]
    }
   ],
   "source": [
    "x = 1000\n",
    "import random \n",
    "num = random.randrange(1,10)\n",
    "print(num) ## just to know check our balance \n",
    "i = 1\n",
    "while i<4:\n",
    "    g = int(input(\"guess number between 0 and 9 \"))\n",
    "    if g == num:\n",
    "        if i == 1:\n",
    "            print(\"you got it in first chance \")\n",
    "            print(\" you won 5000 your total balance is  \", x + 5000 )\n",
    "            break\n",
    "        elif i == 2:\n",
    "            print(\" you won 1000 your total balance is \" , x + 1000 )\n",
    "            break\n",
    "        elif i == 3:\n",
    "            print(\"you got in  last chance you saved your RS 500 \")\n",
    "            break\n",
    "    elif g>num:\n",
    "        print(\"high guess \")\n",
    "        i = i + 1\n",
    "    elif g<num:\n",
    "        print(\"low guess \")\n",
    "        i = i + 1\n",
    "else:\n",
    "    print(\"you lose your two attempts and 500 final balance is  \", x - 500)\n",
    "        "
   ]
  },
  {
   "cell_type": "markdown",
   "metadata": {},
   "source": [
    "##### Extra Credit Problem\n",
    "\n",
    "##### 8.Recall the problem when you kept prompting the user to withdraw money from the wallet to start the game. Integrate this #####program with the one you have written for problem 7. \n",
    "##### a.For this problem, consider that the minimum balance to start the game is Rs. 500. \n",
    "##### b.After one game is over add/deduct money from the account. \n",
    "##### c.Prompt the user if he/she would like to play one more time. \n",
    "##### i.If the user says “Yes” then check if the user has enough balance to play the game again. If not prompt the user to withdraw money from his wallet before the program starts the game. When the balance will be greater than Rs. 500 the program will automatically start the game. \n",
    "##### ii.If the user says “No”, then stop the game with a message “Have a wonderful day!”"
   ]
  },
  {
   "cell_type": "code",
   "execution_count": 3,
   "metadata": {
    "scrolled": true
   },
   "outputs": [
    {
     "name": "stdout",
     "output_type": "stream",
     "text": [
      "1\n",
      "guess number between 0 and 9 2\n",
      "high guess \n",
      "guess number between 0 and 9 2\n",
      "high guess \n",
      "you lose your two attempts and 500 final balance is   0\n",
      "enter 1 to play again enter 2 to exit 1\n",
      "you don't have enough balance to play enter Rs 500 to play game\n",
      "if you will put less than 500 you will lose your game  200\n",
      "you lose game final balance is  0\n"
     ]
    }
   ],
   "source": [
    "for j in range(2):\n",
    "    j = j + 1 \n",
    "    if j == 1:\n",
    "        x = 500\n",
    "        import random \n",
    "        num = random.randrange(1,10)\n",
    "        print(num) ## just to know check our balance \n",
    "    \n",
    "        for i in range(2):\n",
    "            g = int(input(\"guess number between 0 and 9 \"))\n",
    "            if g == num:\n",
    "                i = i + 1\n",
    "                if i == 1:\n",
    "                    print(\"you got it in first chance \")\n",
    "                    fb = x + 5000\n",
    "                    print(\" you won 5000 your total balance is  \", fb )\n",
    "                    break\n",
    "                elif i == 2:\n",
    "                    fb = x + 1000\n",
    "                    print(\" you won 1000 your total balance is \" , fb  )\n",
    "                    break\n",
    "            elif g>num:\n",
    "                print(\"high guess \")\n",
    "                i = i + 1\n",
    "            elif g<num:\n",
    "                print(\"low guess \")\n",
    "                i = i + 1\n",
    "        else:\n",
    "            fb = x-500\n",
    "            print(\"you lose your two attempts and 500 final balance is  \", fb)\n",
    "        \n",
    "        \n",
    "    elif j == 2:\n",
    "        o = int(input(\"enter 1 to play again enter 2 to exit \"))\n",
    "        if o == 1:\n",
    "            if fb>=500:\n",
    "                import random \n",
    "                num = random.randrange(1,10)\n",
    "                print(num) ## just to know check our balance \n",
    "    \n",
    "                for i in range(2):\n",
    "                    g = int(input(\"guess number between 0 and 9 \"))\n",
    "                    if g == num:\n",
    "                        i = i + 1\n",
    "                        if i == 1:\n",
    "                            print(\"you got it in first chance \")\n",
    "                            nb = fb + 5000\n",
    "                            print(\" you won 5000 your total balance is  \", nb )\n",
    "                            break\n",
    "                        elif i == 2:\n",
    "                            nb = fb + 1000\n",
    "                            print(\" you won 1000 your total balance is \" , nb  )\n",
    "                            break\n",
    "                        \n",
    "                    elif g>num:\n",
    "                        print(\"high guess \")\n",
    "                        i = i + 1\n",
    "                    elif g<num:\n",
    "                        print(\"low guess \")\n",
    "                        i = i + 1\n",
    "                else:\n",
    "                    print(\"you lose game and RS 500 your final balance is \", fb -500)\n",
    "            if fb<500:\n",
    "                print(\"you don't have enough balance to play enter Rs 500 to play game\")\n",
    "                e = int(input(\"if you will put less than 500 you will lose your game  \"))\n",
    "                if e >= 500:\n",
    "                    import random \n",
    "                    num = random.randrange(1,10)\n",
    "                    print(num) ## just to know check our balance \n",
    "    \n",
    "                    for i in range(2):\n",
    "                        g = int(input(\"guess number between 0 and 9 \"))\n",
    "                        if g == num:\n",
    "                            i = i + 1\n",
    "                            if i == 1:\n",
    "                                print(\"you got it in first chance \") \n",
    "                                ab = e + 5000\n",
    "                                print(\" you won 5000 your total balance is  \", ab )\n",
    "                                break\n",
    "                            elif i == 2:\n",
    "                                ab = e + 1000\n",
    "                                print(\" you won 1000 your total balance is \" , ab  )\n",
    "                                break\n",
    "                        elif g>num:\n",
    "                            print(\"high guess \")\n",
    "                            i = i + 1\n",
    "                        elif g<num:\n",
    "                            print(\"low guess \")\n",
    "                            i = i + 1\n",
    "                    else:\n",
    "                        ab = e-500\n",
    "                        print(\"you lose your two attempts and 500 final balance is  \", ab)\n",
    "                else:\n",
    "                    print(\"you lose game final balance is  0\")\n",
    "        elif o == 2:\n",
    "            print(\"thank you , have a wonderful day \")\n",
    "        "
   ]
  },
  {
   "cell_type": "code",
   "execution_count": null,
   "metadata": {},
   "outputs": [],
   "source": []
  },
  {
   "cell_type": "code",
   "execution_count": null,
   "metadata": {},
   "outputs": [],
   "source": []
  },
  {
   "cell_type": "code",
   "execution_count": null,
   "metadata": {},
   "outputs": [],
   "source": []
  },
  {
   "cell_type": "code",
   "execution_count": null,
   "metadata": {},
   "outputs": [],
   "source": []
  },
  {
   "cell_type": "code",
   "execution_count": null,
   "metadata": {},
   "outputs": [],
   "source": []
  },
  {
   "cell_type": "code",
   "execution_count": null,
   "metadata": {},
   "outputs": [],
   "source": []
  },
  {
   "cell_type": "code",
   "execution_count": null,
   "metadata": {},
   "outputs": [],
   "source": []
  },
  {
   "cell_type": "code",
   "execution_count": null,
   "metadata": {},
   "outputs": [],
   "source": []
  },
  {
   "cell_type": "code",
   "execution_count": null,
   "metadata": {},
   "outputs": [],
   "source": []
  },
  {
   "cell_type": "code",
   "execution_count": null,
   "metadata": {},
   "outputs": [],
   "source": []
  },
  {
   "cell_type": "code",
   "execution_count": null,
   "metadata": {
    "scrolled": true
   },
   "outputs": [
    {
     "name": "stdout",
     "output_type": "stream",
     "text": [
      "5\n"
     ]
    }
   ],
   "source": [
    "def game():\n",
    "    x = 500\n",
    "    import random \n",
    "    num = random.randrange(1,10)\n",
    "    print(num) ## just to know check our balance \n",
    "    \n",
    "    for i in range(2):\n",
    "        g = int(input(\"guess number between 0 and 9 \"))\n",
    "        if g == num:\n",
    "            i = i + 1\n",
    "            if i == 1:\n",
    "                print(\"you got it in first chance \")\n",
    "                print(\" you won 5000 your total balance is  \", x + 5000 )\n",
    "                break\n",
    "            elif i == 2:\n",
    "                print(\" you won 1000 your total balance is \" , x + 1000 )\n",
    "                break\n",
    "        elif g>num:\n",
    "            print(\"high guess \")\n",
    "            i = i + 1\n",
    "        elif g<num:\n",
    "            print(\"low guess \")\n",
    "            i = i + 1\n",
    "    else:\n",
    "        print(\"you lose your two attempts and 500 final balance is  \", x - 500)        "
   ]
  },
  {
   "cell_type": "code",
   "execution_count": null,
   "metadata": {},
   "outputs": [],
   "source": [
    "try:\n",
    "    for j in range(2):\n",
    "        j = j + 1 \n",
    "        if j == 1:\n",
    "            x = 500\n",
    "            import random \n",
    "            num = random.randrange(1,10)\n",
    "            print(num) ## just to know check our balance \n",
    "\n",
    "            for i in range(2):\n",
    "                g = int(input(\"guess number between 0 and 9 \"))\n",
    "                if g == num:\n",
    "                    i = i + 1\n",
    "                    if i == 1:\n",
    "                        print(\"you got it in first chance \")\n",
    "                        fb = x + 5000\n",
    "                        print(\" you won 5000 your total balance is  \", fb )\n",
    "                        break\n",
    "                    elif i == 2:\n",
    "                        fb = x + 1000\n",
    "                        print(\" you won 1000 your total balance is \" , fb  )\n",
    "                        break\n",
    "                elif g>num:\n",
    "                    print(\"high guess \")\n",
    "                    i = i + 1\n",
    "                elif g<num:\n",
    "                    print(\"low guess \")\n",
    "                    i = i + 1\n",
    "            else:\n",
    "                fb = x-500\n",
    "                print(\"you lose your two attempts and 500 final balance is  \", fb)\n",
    "\n",
    "\n",
    "        elif j == 2:\n",
    "            o = int(input(\"enter 1 to play again enter 2 to exit \"))\n",
    "            if o == 1:\n",
    "                if fb>=500:\n",
    "                    import random \n",
    "                    num = random.randrange(1,10)\n",
    "                    print(num) ## just to know check our balance \n",
    "\n",
    "                    for i in range(2):\n",
    "                        g = int(input(\"guess number between 0 and 9 \"))\n",
    "                        if g == num:\n",
    "                            i = i + 1\n",
    "                            if i == 1:\n",
    "                                print(\"you got it in first chance \")\n",
    "                                nb = fb + 5000\n",
    "                                print(\" you won 5000 your total balance is  \", nb )\n",
    "                                break\n",
    "                            elif i == 2:\n",
    "                                nb = fb + 1000\n",
    "                                print(\" you won 1000 your total balance is \" , nb  )\n",
    "                                break\n",
    "\n",
    "                        elif g>num:\n",
    "                            print(\"high guess \")\n",
    "                            i = i + 1\n",
    "                        elif g<num:\n",
    "                            print(\"low guess \")\n",
    "                            i = i + 1\n",
    "                    else:\n",
    "                        print(\"you lose game and RS 500 your final balance is \", fb -500)\n",
    "                if fb<500:\n",
    "                    print(\"you don't have enough balance to play enter excatly Rs 500 to play game\")\n",
    "                    e = int(input(\"if you not put exactly 500 you will lose ur game  \"))\n",
    "                    if e == 500:\n",
    "                        print(game())   ## GAME FUNCTION USED   \n",
    "                    else:\n",
    "                        print(\"you lose game final balance is  0\")\n",
    "            elif o == 2:\n",
    "                print(\"thank you , have a wonderful day \")\n",
    "except:\n",
    "    print(\"invalid input run again \")      ## USE TRY AND EXCEPT FOR UNWANTED ERRORS "
   ]
  }
 ],
 "metadata": {
  "kernelspec": {
   "display_name": "Python 3",
   "language": "python",
   "name": "python3"
  },
  "language_info": {
   "codemirror_mode": {
    "name": "ipython",
    "version": 3
   },
   "file_extension": ".py",
   "mimetype": "text/x-python",
   "name": "python",
   "nbconvert_exporter": "python",
   "pygments_lexer": "ipython3",
   "version": "3.7.6"
  }
 },
 "nbformat": 4,
 "nbformat_minor": 4
}
