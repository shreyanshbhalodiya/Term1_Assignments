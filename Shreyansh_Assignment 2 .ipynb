{
 "cells": [
  {
   "cell_type": "markdown",
   "metadata": {},
   "source": [
    "### Write Python Program for the following (include necessary exception handling wherever required):\n",
    "\n",
    "#### 1.Prompt the user for a score between 0.0 and 1.0. If the score is out of range, print an error message. If the score is between 0.0 and 1.0, print a grade using the following table:\n",
    "\n",
    "\t\n",
    "### Score\tGrade\n",
    "### >= 0.9\tA\n",
    "### >= 0.8\tB\n",
    "### >= 0.7\tC\n",
    "### >= 0.6\tD\n",
    "#### < 0.6\tE"
   ]
  },
  {
   "cell_type": "code",
   "execution_count": null,
   "metadata": {},
   "outputs": [
    {
     "name": "stdout",
     "output_type": "stream",
     "text": [
      "enter your marks out of 100, 45\n",
      "E grade \n",
      "enter your marks out of 100, 65\n",
      "D grade\n",
      "enter your marks out of 100, 75\n",
      "c grade\n",
      "enter your marks out of 100, 85\n",
      "B grade\n",
      "enter your marks out of 100, 95\n",
      "A grade\n",
      "enter your marks out of 100, 150\n",
      "marks should be less than 101 \n",
      "enter your marks out of 100, fdfjhgh\n",
      "invalid input enter again\n"
     ]
    }
   ],
   "source": [
    "while True:\n",
    "    try:\n",
    "        m = int(input(\"enter your marks out of 100, \"))\n",
    "        if m in range(0,101):\n",
    "            p = m/100\n",
    "            if p>= 0.9:\n",
    "                print(\"A grade\")\n",
    "            elif p>= 0.8:\n",
    "                print(\"B grade\")\n",
    "            elif p>=0.7:\n",
    "                print(\"c grade\")\n",
    "            elif p>=0.6:\n",
    "                print('D grade')\n",
    "            else:\n",
    "                print(\"E grade \")\n",
    "        else:\n",
    "            print(\"marks should be less than 101 \")\n",
    "    except:\n",
    "        print(\"invalid input enter again\")\n",
    "\n",
    "\n",
    "    "
   ]
  },
  {
   "cell_type": "markdown",
   "metadata": {},
   "source": [
    "### 2.If cost price and selling price of an item is input through the keyboard, write a program to determine whether the seller has made profit or incurred loss. Also determine how much profit he made or loss he incurred."
   ]
  },
  {
   "cell_type": "code",
   "execution_count": null,
   "metadata": {},
   "outputs": [
    {
     "name": "stdout",
     "output_type": "stream",
     "text": [
      "i know how to calculate profit and loss \n",
      "enter your cost price 1800\n",
      "enter your selling price 2400\n",
      "you made PROFIT \n",
      "your profit is  600.0\n",
      "your profit % is  33.33333333333333\n",
      "\n",
      "\n",
      "i know how to calculate profit and loss \n",
      "enter your cost price 2500\n",
      "enter your selling price 2000\n",
      "you made LOSS\n",
      "your loss is  500.0\n",
      "your loss % is  20.0\n",
      "\n",
      "\n",
      "i know how to calculate profit and loss \n",
      "enter your cost price 200\n",
      "enter your selling price 200\n",
      "no profit no loss \n",
      "\n",
      "\n",
      "i know how to calculate profit and loss \n"
     ]
    }
   ],
   "source": [
    "def fin():\n",
    "    while True:\n",
    "        print(\"i know how to calculate profit and loss \")\n",
    "        cp = float(input(\"enter your cost price \"))\n",
    "        sp = float(input(\"enter your selling price \"))\n",
    "        p = sp - cp\n",
    "        l = cp-sp\n",
    "        if sp>cp:\n",
    "            print(\"you made PROFIT \")\n",
    "            print(\"your profit is \",p)\n",
    "            print(\"your profit % is \",(p/cp)*100)\n",
    "        elif cp>sp:\n",
    "            print(\"you made LOSS\")\n",
    "            print(\"your loss is \",l)\n",
    "            print(\"your loss % is \",(l/cp)*100)\n",
    "        else:\n",
    "            print(\"no profit no loss \")\n",
    "        print('\\n')\n",
    "fin()\n",
    "    "
   ]
  },
  {
   "cell_type": "code",
   "execution_count": null,
   "metadata": {},
   "outputs": [],
   "source": []
  },
  {
   "cell_type": "markdown",
   "metadata": {},
   "source": [
    "### 3.Any year is input through the keyboard. Write a program to determine whether the year is a leap year or not.\n"
   ]
  },
  {
   "cell_type": "code",
   "execution_count": 1,
   "metadata": {
    "scrolled": true
   },
   "outputs": [
    {
     "name": "stdout",
     "output_type": "stream",
     "text": [
      " enter year you want to check leap year status 1900\n",
      "it is not a leap year \n",
      " enter year you want to check leap year status 1600\n",
      "it is a leap year \n",
      " enter year you want to check leap year status 2012\n",
      "it is a leap year\n",
      " enter year you want to check leap year status 2018\n",
      "it is not a leap year \n",
      " enter year you want to check leap year status 2024\n",
      "it is a leap year\n",
      " enter year you want to check leap year status jghu\n",
      "enter correct input\n"
     ]
    }
   ],
   "source": [
    "def leap():\n",
    "    try:\n",
    "        while True:\n",
    "            y = int(input(\" enter year you want to check leap year status \"))\n",
    "            if y%4==0 and y%100!=0:\n",
    "                print(\"it is a leap year\")\n",
    "            elif y%100==0 and y%400==0:\n",
    "                print(\"it is a leap year \")\n",
    "            else:\n",
    "                print(\"it is not a leap year \")\n",
    "    except:\n",
    "        print(\"enter correct input\")\n",
    "leap()"
   ]
  },
  {
   "cell_type": "markdown",
   "metadata": {},
   "source": [
    "### 4.A five-digit number is entered through the keyboard. Write a program to obtain the reversed number and to determine whether the original and reversed numbers are equal or not.\n"
   ]
  },
  {
   "cell_type": "code",
   "execution_count": null,
   "metadata": {},
   "outputs": [
    {
     "name": "stdout",
     "output_type": "stream",
     "text": [
      "enter five digit number as input you want to reverse 12521\n",
      "reverse is same for  12521\n",
      "enter five digit number as input you want to reverse 11112\n",
      "21111\n",
      "reverse is not same \n",
      "enter five digit number as input you want to reverse 124\n",
      "incorrect input enter again \n",
      "enter five digit number as input you want to reverse jhy8j\n",
      "invalid input enter again \n",
      "enter five digit number as input you want to reverse 10001\n",
      "reverse is same for  10001\n"
     ]
    }
   ],
   "source": [
    "while True:\n",
    "    try:\n",
    "        a = input(\"enter five digit number as input you want to reverse \")\n",
    "        if int(a) in range(10000,100000):\n",
    "            if a == a[::-1]:\n",
    "                print(\"reverse is same for \", a )\n",
    "            else:\n",
    "                print(a[::-1])\n",
    "                print(\"reverse is not same \")\n",
    "        else:\n",
    "            print(\"incorrect input enter again \")\n",
    "            \n",
    "    except:\n",
    "        print(\"invalid input enter again \")\n",
    "    "
   ]
  },
  {
   "cell_type": "markdown",
   "metadata": {},
   "source": [
    "### 5.If the ages of Ram, Shyam and Ajay are input through the keyboard, write a program to determine the youngest of the three.\n"
   ]
  },
  {
   "cell_type": "code",
   "execution_count": 7,
   "metadata": {
    "scrolled": true
   },
   "outputs": [
    {
     "name": "stdout",
     "output_type": "stream",
     "text": [
      "enter your age ram 24\n",
      "enter your age shyam 26\n",
      "enter your age Ajay 28\n",
      "youngest of all three is ram \n",
      "elder of all three is Ajay\n"
     ]
    }
   ],
   "source": [
    "r = int(input(\"enter your age ram \"))\n",
    "s = int(input(\"enter your age shyam \"))\n",
    "a = int(input(\"enter your age Ajay \"))\n",
    "l = [r , s , a]\n",
    "e = max(l)\n",
    "y = min(l)\n",
    "if   y==r:\n",
    "    print(\"youngest of all three is ram \")\n",
    "elif y==s:\n",
    "    print(\"youngest of all three is shyam \")\n",
    "else:\n",
    "    print(\"youngest of all three is Ajay\")\n",
    "if   e==r:\n",
    "    print(\"elder of all three is ram \")\n",
    "elif e==s:\n",
    "    print(\"elder of all three is shyam \")\n",
    "else:\n",
    "    print(\"elder of all three is Ajay\")"
   ]
  },
  {
   "cell_type": "markdown",
   "metadata": {},
   "source": [
    "#### 6.Write a program to check whether a triangle is valid or not, when the three angles of the triangle are entered through the keyboard. A triangle is valid if the sum of all the three angles is equal to 180 degrees."
   ]
  },
  {
   "cell_type": "code",
   "execution_count": null,
   "metadata": {},
   "outputs": [
    {
     "name": "stdout",
     "output_type": "stream",
     "text": [
      "enter angle a 60\n",
      "enter angle b 30\n",
      "enter angle c 90\n",
      "triangle is valid \n",
      "enter angle a 45\n",
      "enter angle b 45\n",
      "enter angle c 45\n",
      "triangle not valid \n",
      "enter angle a ht\n",
      "invalid input enter again \n",
      "\n",
      "\n"
     ]
    }
   ],
   "source": [
    "while True:\n",
    "    try:  \n",
    "        a = int(input(\"enter angle a \"))\n",
    "        b = int(input(\"enter angle b \"))\n",
    "        c = int(input(\"enter angle c \"))\n",
    "        t = a + b + c\n",
    "        if t == 180 :\n",
    "            print(\"triangle is valid \")\n",
    "        else:\n",
    "            print(\"triangle not valid \")\n",
    "    except:\n",
    "        print(\"invalid input enter again \")\n",
    "        print('\\n')"
   ]
  },
  {
   "cell_type": "markdown",
   "metadata": {},
   "source": [
    "### 7.Find the absolute value of a number entered through the keyboard.\n"
   ]
  },
  {
   "cell_type": "code",
   "execution_count": null,
   "metadata": {},
   "outputs": [
    {
     "name": "stdout",
     "output_type": "stream",
     "text": [
      "enter value -5\n",
      "5 is absolute value\n",
      "enter value -15\n",
      "15 is absolute value\n",
      "enter value 15\n",
      "15 is absolute value \n",
      "enter value fgdg\n",
      "invalid input \n"
     ]
    }
   ],
   "source": [
    "while 1:\n",
    "    try: \n",
    "        x = int(input(\"enter value \"))\n",
    "        if x>=0:\n",
    "            print(x , 'is absolute value ')\n",
    "        else:\n",
    "            print(-1*x, 'is absolute value')\n",
    "    except:\n",
    "        print(\"invalid input \")"
   ]
  },
  {
   "cell_type": "markdown",
   "metadata": {},
   "source": [
    "### 8.Given three points (x1, y1), (x2, y2) and (x3, y3), write a program to check if all the three points fall on one straight line.\n"
   ]
  },
  {
   "cell_type": "code",
   "execution_count": null,
   "metadata": {},
   "outputs": [
    {
     "name": "stdout",
     "output_type": "stream",
     "text": [
      "enter x1 here 1\n",
      "enter y1 here 2\n",
      "enter x2 here 4\n",
      "enter y2 here 6\n",
      "enter x3 here 2\n",
      "enter y3 here 3\n",
      "points are not collinear\n",
      "enter x1 here 4\n",
      "enter y1 here 2\n",
      "enter x2 here 8\n",
      "enter y2 here 2\n",
      "enter x3 here 7\n",
      "enter y3 here 2\n",
      "points are collinear \n"
     ]
    }
   ],
   "source": [
    "\n",
    "while True:\n",
    "    try:\n",
    "        x1 = int(input(\"enter x1 here \"))\n",
    "        y1 = int(input(\"enter y1 here \"))\n",
    "        x2 = int(input(\"enter x2 here \"))\n",
    "        y2 = int(input(\"enter y2 here \"))\n",
    "        x3 = int(input(\"enter x3 here \"))\n",
    "        y3 = int(input(\"enter y3 here \"))\n",
    "        a = ((y2-y3)*x1 + (y3-y1)*x2 + (y1-y2)*x3)  ## area of traingle == 0 then points are collinear\n",
    "        if a==0:\n",
    "            print(\"points are collinear \")\n",
    "        else:\n",
    "            print(\"points are not collinear\")\n",
    "    except:\n",
    "        print('invalid input enter again ' )\n",
    "        \n",
    "    "
   ]
  },
  {
   "cell_type": "markdown",
   "metadata": {},
   "source": [
    "#### 9.Given a point (x, y), write a program to find out if it lies on the x-axis, y-axis or at the origin, viz. (0, 0).\n"
   ]
  },
  {
   "cell_type": "code",
   "execution_count": null,
   "metadata": {},
   "outputs": [
    {
     "name": "stdout",
     "output_type": "stream",
     "text": [
      "enter x1 here 0\n",
      "enter y1 here 0\n",
      "point lie on origin \n",
      "enter x1 here 1\n",
      "enter y1 here 0\n",
      "point lie on x axis\n",
      "enter x1 here -8\n",
      "enter y1 here 4\n",
      " point does not lie on origin , x or y axis \n",
      "enter x1 here -8\n",
      "enter y1 here 0\n",
      "point lie on x axis\n"
     ]
    }
   ],
   "source": [
    "def point():\n",
    "    for i in range(6):  \n",
    "        x = int(input(\"enter x1 here \"))\n",
    "        y = int(input(\"enter y1 here \"))\n",
    "        if x==0 and y==0:\n",
    "            print(\"point lie on origin \")\n",
    "        elif x==0 and y!=0:\n",
    "            print(\"point lie on y axis\")\n",
    "        elif x!=0 and y==0:\n",
    "            print(\"point lie on x axis\")\n",
    "        else:\n",
    "            print(\" point does not lie on origin , x or y axis \")\n",
    "point()"
   ]
  },
  {
   "cell_type": "markdown",
   "metadata": {},
   "source": [
    "### 10.An Insurance company follows following rules to calculate premium.\n",
    "\n",
    "#### a.If a person’s health is excellent and the person is between 25 and 35 years of age and lives in a city and is a male then the premium is Rs. 4 per thousand and his policy amount cannot exceed Rs. 2 lakhs.\n",
    "\n",
    "#### b.If a person satisfies all the above conditions except that the sex is female then the premium is Rs. 3 per thousand and her policy amount cannot exceed Rs. 1 lakh.\n",
    "\n",
    "#### c.If a person’s health is poor and the person is between 25 and 35 years of age and lives in a village and is a male\n",
    "\n",
    "##### Write a program to output whether the person should be insured or not, his/her premium rate and maximum amount for which he/she can be insured.\n"
   ]
  },
  {
   "cell_type": "code",
   "execution_count": 1,
   "metadata": {},
   "outputs": [],
   "source": [
    "def insurance():\n",
    "    while True:\n",
    "        try:\n",
    "            health = input(\"enter 1 if health is excellent and enter 2 if health is poor \")\n",
    "            age = int(input(\"enter your age  \"))\n",
    "            sex = str(input(\"enter here male , female = \"))\n",
    "            place = int(input(\"enter place where you live enter 1 for city and 2 for village \"))\n",
    "            if place == 1:\n",
    "                if  health == 1 and sex == 'male' and age in range(25 ,36 ):\n",
    "                    print(\" you are eligible for insurance \")\n",
    "                    print(\" maximum amount you can get insured is 2 lakh \")\n",
    "                    i = int(input(\"enter amount you want insurance for \"))\n",
    "                     if i<200001:\n",
    "                        print(\"your premium is \" (i/1000)*4)\n",
    "                    else:\n",
    "                        print(\"not eligible for insurance \")\n",
    "                elif health == 1 and sex == 'female' and age in range(25 ,36 ):\n",
    "                    print(\" you are eligible for insurance \")\n",
    "                    print(\" maximum amount you can get insured is 1 lakh \")\n",
    "                    j = int(input(\"enter amount you want insurance for \"))\n",
    "                    if j<100001:\n",
    "                        print(\"your premium is \" (j/1000)*4)\n",
    "                    else:\n",
    "                        print(\"not eligible for insurance  \")\n",
    "        except:\n",
    "            print(\"invalid input enter again carefully\")\n",
    "    \n",
    "\n",
    "\n",
    "                \n",
    "                \n",
    "    "
   ]
  },
  {
   "cell_type": "code",
   "execution_count": null,
   "metadata": {
    "scrolled": true
   },
   "outputs": [
    {
     "name": "stdout",
     "output_type": "stream",
     "text": [
      "enter 1 if health is excellent and enter 2 if health is poor 1\n",
      "enter your age  25\n",
      "enter here male , female = male\n",
      "enter place where you live enter 1 for city and 2 for village 1\n"
     ]
    }
   ],
   "source": [
    "insurance()"
   ]
  },
  {
   "cell_type": "code",
   "execution_count": null,
   "metadata": {},
   "outputs": [],
   "source": []
  },
  {
   "cell_type": "markdown",
   "metadata": {},
   "source": [
    "### 11.A certain grade of steel is graded according to the following conditions:\n",
    "\n",
    "#### a.(i) Hardness must be greater than 50\n",
    "#### b.(ii) Carbon content must be less than 0.7\n",
    "#### c.(iii) Tensile strength must be greater than 5600\n",
    "\n",
    "#### The grades are as follows:\n",
    "\n",
    "#### Grade is 10 if all three conditions are met\n",
    "#### Grade is 9 if conditions (i) and (ii) are met\n",
    "#### Grade is 8 if conditions (ii) and (iii) are met\n",
    "#### Grade is 7 if conditions (i) and (iii) are met\n",
    "#### Grade is 6 if only one condition is met\n",
    "#### Grade is 5 if none of the conditions are met\n",
    "\n",
    "#### Write a program, which will require the user to give values of hardness, carbon content and tensile strength of the steel under consideration and output the grade of the steel.\n"
   ]
  },
  {
   "cell_type": "code",
   "execution_count": 2,
   "metadata": {},
   "outputs": [],
   "source": [
    "def grade():\n",
    "    while True:\n",
    "        try:\n",
    "            h = int(input(\"enter hardness \"))\n",
    "            c = float(input(\"enter carbon \"))\n",
    "            s = int(input(\"enter strength \"))\n",
    "            if h>50 and c<0.7 and s>5600:\n",
    "                      print(\"Grade 10 \")\n",
    "            elif h>50 and c<0.7:\n",
    "                      print(\" Grade 9 \")\n",
    "            elif c<0.7 and s>5600:\n",
    "                      print( 'Grade 8')\n",
    "            elif s>5600 and h>50:\n",
    "                      print(\" Grade 7 \")\n",
    "            elif h>50:\n",
    "                      print(\" Grade 6 \")\n",
    "            elif c<0.7:\n",
    "                      print(\" Grade 6 \")\n",
    "            elif s>5600:\n",
    "                      print(\" Grade 6 \")\n",
    "            else:\n",
    "                      print('Grade 5 ')\n",
    "        except:\n",
    "            print(\"invalid input \")\n",
    "            "
   ]
  },
  {
   "cell_type": "code",
   "execution_count": null,
   "metadata": {
    "scrolled": true
   },
   "outputs": [
    {
     "name": "stdout",
     "output_type": "stream",
     "text": [
      "enter hardness 58\n",
      "enter carbon 0.6\n",
      "enter strength 5822\n",
      "Grade 10 \n",
      "enter hardness 87\n",
      "enter carbon 0.6\n",
      "enter strength 5200\n",
      " Grade 9 \n",
      "enter hardness 42\n",
      "enter carbon 0.6\n",
      "enter strength 5800\n",
      "Grade 8\n",
      "enter hardness 58\n",
      "enter carbon 0.8\n",
      "enter strength 5800\n",
      " Grade 7 \n",
      "enter hardness 41\n",
      "enter carbon 0.8\n",
      "enter strength 5700\n",
      " Grade 6 \n",
      "enter hardness 40\n",
      "enter carbon 0.8\n",
      "enter strength 5100\n",
      "Grade 5 \n"
     ]
    }
   ],
   "source": [
    "grade()"
   ]
  },
  {
   "cell_type": "code",
   "execution_count": null,
   "metadata": {},
   "outputs": [],
   "source": [
    "print(\"enter hardness , carbon , strength of steel in same order \")\n",
    "def steel(hardness , carbon , strength):\n",
    "    hardness = False\n",
    "    carbon = False\n",
    "    strength = False\n",
    "    if hardness > 50:\n",
    "        hardness = True\n",
    "    elif carbon < 0.7:\n",
    "        carbon = True\n",
    "    elif strength>5600:\n",
    "        carbon = True\n",
    "    if hardness = True and carbon = True and strength = True:\n",
    "        print(\"Grade 10 \")\n",
    "    elif hardness = True and carbon = True:\n",
    "        print(\"Grade 9 \")\n",
    "    elif carbon = True and strength = True:\n",
    "        print(\"Grade 8 \")\n",
    "    elif hardness = True and strength = True:\n",
    "        print('Grade 7')\n",
    "    else:\n",
    "        print(\"Grade 5\")\n",
    "        "
   ]
  },
  {
   "cell_type": "code",
   "execution_count": 9,
   "metadata": {
    "scrolled": true
   },
   "outputs": [
    {
     "name": "stdout",
     "output_type": "stream",
     "text": [
      "Grade 5\n"
     ]
    }
   ],
   "source": [
    "steel(48 , 0.5 , 5800)"
   ]
  },
  {
   "cell_type": "markdown",
   "metadata": {},
   "source": [
    "#### 12.A library charges a fine for every book returned late. For first 5 days the fine is 50 paise, for 6-10 days fine is one rupee and above 10 days fine is 5 rupees. If you return the book after 30 days your membership will be cancelled. Write a program to accept the number of days the member is late to return the book and display the fine or the appropriate message."
   ]
  },
  {
   "cell_type": "code",
   "execution_count": null,
   "metadata": {},
   "outputs": [
    {
     "name": "stdout",
     "output_type": "stream",
     "text": [
      "enter the day you are late 5\n",
      "your fine is 50 paise \n",
      "enter the day you are late 6\n",
      "your fine is 1 RS \n",
      "enter the day you are late 11\n",
      "your fine is 5 RS \n",
      "enter the day you are late 32\n",
      "your membership is cancelled \n",
      "enter the day you are late jk\n",
      "invalid input run again\n"
     ]
    }
   ],
   "source": [
    "while True:\n",
    "    try:     \n",
    "        d = int(input(\"enter the day you are late \"))\n",
    "        if d<=5:\n",
    "            print(\"your fine is 50 paise \")\n",
    "        elif d in range(6,11):\n",
    "            print(\"your fine is 1 RS \")\n",
    "        elif d in range(11 ,31):\n",
    "            print(\"your fine is 5 RS \")\n",
    "        elif d>30:\n",
    "            print(\"your membership is cancelled \")\n",
    "        else:\n",
    "            print(\"enter a valid input \")\n",
    "    except:\n",
    "        print(\"invalid input run again\")"
   ]
  },
  {
   "cell_type": "markdown",
   "metadata": {},
   "source": [
    "#### 13.The policy followed by a company to process customer orders is given by the following rules:\n",
    "#### a.If a customer order is less than or equal to that in stock and has credit is OK, supply has requirement.\n",
    "#### b.If has credit is not OK do not supply. Send him intimation.\n",
    "#### c.If has credit is Ok but the item in stock is less than has\n",
    "\n",
    "#### order, supply what is in stock. Intimate to him data the balance will be shipped. Write a program to implement the company policy."
   ]
  },
  {
   "cell_type": "code",
   "execution_count": 1,
   "metadata": {},
   "outputs": [
    {
     "name": "stdout",
     "output_type": "stream",
     "text": [
      "enter your order 4500\n",
      "enter 1 if your credit status is OK with company ,if your status in not OK enter 2  1\n",
      "your order is placed succesfully \n",
      "enter your order 5800\n",
      "enter 1 if your credit status is OK with company ,if your status in not OK enter 2  1\n",
      "your order is placed succesfully only 5000 units will be shipped rest 800  will be shipped duely\n",
      "enter your order 500\n",
      "enter 1 if your credit status is OK with company ,if your status in not OK enter 2  2\n",
      "your credit score is not okk please contact company for details \n"
     ]
    }
   ],
   "source": [
    "for i in range(3):\n",
    "    \n",
    "    try:\n",
    "        stock = 5000\n",
    "        order = int(input('enter your order '))\n",
    "        credit= int(input(\"enter 1 if your credit status is OK with company ,if your status in not OK enter 2  \"))\n",
    "        if order>0 and order<=5000: \n",
    "            if   credit == 1:         \n",
    "                print(\"your order is placed succesfully \")\n",
    "            elif credit == 2:\n",
    "                print(\"your credit score is not okk please contact company for details \")\n",
    "        elif order > 5000:\n",
    "            if   credit == 1:         \n",
    "                print(\"your order is placed succesfully only 5000 units will be shipped rest\",order - stock ,\" will be shipped duely\")\n",
    "            elif credit == 2:\n",
    "                print(\"your credit score is not okk please contact company for details \")\n",
    "    except:\n",
    "        print(\"enter valid input \")\n",
    "                \n",
    "                \n",
    "        \n",
    "            \n",
    "                        "
   ]
  },
  {
   "cell_type": "markdown",
   "metadata": {},
   "source": [
    "#### 14.In a company, worker efficiency is determined on the basis of the time required for a worker to complete a particular job. If the time taken by the worker is between 2 – 3 hours, then the worker is said to be highly efficient. If the time required by the worker is between 3 – 4 hours, then the worker is ordered to improve speed. If the time taken is between 4 – 5 hours, the worker is given training to improve his speed, and if the time taken by the worker is more than 5 hours, then the worker has to leave the company. If the time taken by the worker is input through the keyboard, find the efficiency of the worker.\n"
   ]
  },
  {
   "cell_type": "code",
   "execution_count": 30,
   "metadata": {},
   "outputs": [],
   "source": [
    "def eff():\n",
    "    for i in range(6):\n",
    "        \n",
    "        t = float(input(\"time taken by you \"))\n",
    "        if t*10 in range(20,30):\n",
    "            print('highly efficient ')\n",
    "        elif t*10 in range(30,40,):\n",
    "            print(\"you are ordered to improve speed \")\n",
    "        elif t*10 in range(40,50):\n",
    "            print(\"you will be given training \")\n",
    "        elif t*10 >50:\n",
    "            print(\"you have to leave company \")\n"
   ]
  },
  {
   "cell_type": "code",
   "execution_count": null,
   "metadata": {
    "scrolled": true
   },
   "outputs": [
    {
     "name": "stdout",
     "output_type": "stream",
     "text": [
      "time taken by you 2.5\n",
      "highly efficient \n",
      "time taken by you 5.8\n",
      "you have to leave company \n",
      "time taken by you 4.5\n",
      "you will be given training \n",
      "time taken by you 3.5\n",
      "you are ordered to improve speed \n"
     ]
    }
   ],
   "source": [
    "eff()"
   ]
  },
  {
   "cell_type": "markdown",
   "metadata": {},
   "source": [
    "#### 15.A university has the following rules for a student to qualify for a degree with A as the main subject and B as the subsidiary subject:\n",
    "\n",
    "####  a.He should get 55 percent or more in A and 45 percent or more in B.\n",
    "####  b.If he gets than 55 percent in A he should get 55 percent or more in B. However, he should get at least 45 percent in A.\n",
    "####  c.If he gets less than 45 percent in B and 65 percent or more in A he is allowed to reappear in an examination in B to qualify.\n",
    "####  d.In all other cases he is declared to have failed.\n",
    "\n",
    "#### Write a program to receive marks in A and B and Output whether the student has passed, failed or is allowed to reappear in B.\n"
   ]
  },
  {
   "cell_type": "code",
   "execution_count": 1,
   "metadata": {},
   "outputs": [
    {
     "name": "stdout",
     "output_type": "stream",
     "text": [
      " enter marks in A out of 100 55\n",
      " enter marks in B out of 100 55\n",
      "Pass\n",
      " enter marks in A out of 100 65\n",
      " enter marks in B out of 100 45\n",
      "Pass\n",
      " enter marks in A out of 100 65\n",
      " enter marks in B out of 100 42\n",
      "you have to reappear in B \n",
      " enter marks in A out of 100 40\n",
      " enter marks in B out of 100 40\n",
      "Fail\n",
      " enter marks in A out of 100 12\n",
      " enter marks in B out of 100 65\n",
      "Fail\n"
     ]
    }
   ],
   "source": [
    "try:\n",
    "    for i in range(5):\n",
    "        a = int(input(\" enter marks in A out of 100 \"))\n",
    "        b = int(input(\" enter marks in B out of 100 \"))\n",
    "        if a and b in range(0,101):\n",
    "            if a>=55 and b>=45:\n",
    "                print(\"Pass\")\n",
    "            elif a>=65 and b<=45:\n",
    "                print(\"you have to reappear in B \")\n",
    "            elif a>=45 and b>=55:\n",
    "                print(\"pass \")\n",
    "            else:\n",
    "                print(\"Fail\")\n",
    "except:\n",
    "    print(\"enter valid input\")\n",
    "            \n",
    "            \n",
    "            "
   ]
  },
  {
   "cell_type": "code",
   "execution_count": null,
   "metadata": {},
   "outputs": [],
   "source": []
  }
 ],
 "metadata": {
  "kernelspec": {
   "display_name": "Python 3",
   "language": "python",
   "name": "python3"
  },
  "language_info": {
   "codemirror_mode": {
    "name": "ipython",
    "version": 3
   },
   "file_extension": ".py",
   "mimetype": "text/x-python",
   "name": "python",
   "nbconvert_exporter": "python",
   "pygments_lexer": "ipython3",
   "version": "3.7.6"
  }
 },
 "nbformat": 4,
 "nbformat_minor": 4
}
