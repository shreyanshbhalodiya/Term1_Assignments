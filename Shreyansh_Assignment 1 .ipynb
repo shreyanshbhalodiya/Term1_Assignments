{
 "cells": [
  {
   "cell_type": "markdown",
   "metadata": {},
   "source": [
    "#### 1.Ramesh’s basic salary is input through the keyboard. His dearness allowance is 40% of basic salary, and house rent allowance is 20% of basic salary. Write a program to calculate his gross salary."
   ]
  },
  {
   "cell_type": "code",
   "execution_count": 6,
   "metadata": {},
   "outputs": [
    {
     "name": "stdout",
     "output_type": "stream",
     "text": [
      "input ramesh basic pay 5000\n",
      "ramesh gross salary is  8000.0\n"
     ]
    }
   ],
   "source": [
    "def basic_pay():\n",
    "    x = int(input(\"input ramesh basic pay \"))\n",
    "    gross_salary = x + 4/10*x + 2/10 * x \n",
    "    print(\"ramesh gross salary is \" , gross_salary )\n",
    "\n",
    "basic_pay()"
   ]
  },
  {
   "cell_type": "markdown",
   "metadata": {},
   "source": [
    "#### 2.The distance between two cities (in km.) is input through the keyboard. Write a program to convert and print this distance in meters, feet, inches and centimeters."
   ]
  },
  {
   "cell_type": "code",
   "execution_count": null,
   "metadata": {},
   "outputs": [
    {
     "name": "stdout",
     "output_type": "stream",
     "text": [
      "hello i am distance converter machine i take input in km \n",
      "enter the distance between two cities in KM 160\n",
      "Distance in meters is  160000 meters\n",
      "distance in feet is  524934.4 feets\n",
      "distance in inches is  6299212.800000001 inches \n",
      "distance in centimeters is  16000000 centimeters \n",
      "distance in yards is  174977.59999999998 yards \n",
      "distance in miles is  100.0 miles\n",
      "\n",
      "\n",
      "hello i am distance converter machine i take input in km \n",
      "enter the distance between two cities in KM 1800\n",
      "Distance in meters is  1800000 meters\n",
      "distance in feet is  5905512.0 feets\n",
      "distance in inches is  70866144.0 inches \n",
      "distance in centimeters is  180000000 centimeters \n",
      "distance in yards is  1968497.9999999998 yards \n",
      "distance in miles is  1125.0 miles\n",
      "\n",
      "\n",
      "hello i am distance converter machine i take input in km \n"
     ]
    }
   ],
   "source": [
    "\n",
    "while True:\n",
    "    print(\"hello i am distance converter machine i take input in km \")\n",
    "    d = int(input('enter the distance between two cities in KM '))\n",
    "    print(\"Distance in meters is \" , d * 1000 , 'meters' )\n",
    "    print(\"distance in feet is \", d*3280.84 , 'feets' )   # 1 km == 3280.84 feet \n",
    "    print(\"distance in inches is \", d*3280.84 * 12 , 'inches ' )  # 1 feet == 12 inch \n",
    "    print(\"distance in centimeters is \", d*1000*100 ,'centimeters ')\n",
    "    print(\"distance in yards is \" , d*1093.61 , 'yards ')  # 1 km == 1093.61 yards \n",
    "    print(\"distance in miles is \", d/1.6,'miles')     # 1 mile = 1.6 km\n",
    "    print('\\n') \n"
   ]
  },
  {
   "cell_type": "markdown",
   "metadata": {},
   "source": [
    "#### 3.If the marks obtained by a student in five different subjects are input through the keyboard, find out the aggregate marks and percentage marks obtained by the student. Assume that the maximum marks that can be obtained by a student in each subject is 100.\n"
   ]
  },
  {
   "cell_type": "code",
   "execution_count": null,
   "metadata": {
    "scrolled": true
   },
   "outputs": [
    {
     "name": "stdout",
     "output_type": "stream",
     "text": [
      "enter your name and marks obtained by you in subjects  \n",
      "enter your name shreyansh\n",
      "enter your mathematics  marks out of 100 65\n",
      "enter your business studies marks out of 100 76\n",
      "enter your accountancy marks out of 100 92\n",
      "enter your english marks out of 100 72\n",
      "enter your economics marks out of 100 95\n",
      "shreyansh  , your total aggregate marks is  400\n",
      "shreyansh  , you scored  80.0 percentage in your exam \n",
      "thank you we wish you all the best for your future endeavour\n",
      "enter your name and marks obtained by you in subjects  \n"
     ]
    }
   ],
   "source": [
    "def result():\n",
    "    while True:\n",
    "        print(\"enter your name and marks obtained by you in subjects  \")\n",
    "        name = str(input(\"enter your name \"))\n",
    "        m = int(input(\"enter your mathematics  marks out of 100 \"))\n",
    "        bs = int(input(\"enter your business studies marks out of 100 \"))\n",
    "        a = int(input(\"enter your accountancy marks out of 100 \"))\n",
    "        e = int(input(\"enter your english marks out of 100 \"))\n",
    "        ec = int(input(\"enter your economics marks out of 100 \"))\n",
    "        total = m + bs + a + e + ec\n",
    "        percentage = total/ 5\n",
    "        print(name , \" , your total aggregate marks is \", total )\n",
    "        print(name , \" , you scored \" , percentage , \"percentage in your exam \")\n",
    "        print(\"thank you we wish you all the best for your future endeavour\")\n",
    "result()"
   ]
  },
  {
   "cell_type": "markdown",
   "metadata": {},
   "source": [
    "#### 4.Temperature of a city in Fahrenheit degrees is input through the keyboard. Write a program to convert this temperature into Centigrade degrees."
   ]
  },
  {
   "cell_type": "code",
   "execution_count": null,
   "metadata": {},
   "outputs": [
    {
     "name": "stdout",
     "output_type": "stream",
     "text": [
      "hello i am temperature converter machine \n",
      "press 1 to convert your city temperature in fahrenheit degrees to centigrade  \n",
      "press 2 to convert your city temperature in centigrade degrees to fahrenheit degrees \n",
      "enter your choice here 2\n",
      "enter your centigrade degree temperature 0\n",
      "your centigrade degree temperature is  32.0 C\n",
      "hello i am temperature converter machine \n",
      "press 1 to convert your city temperature in fahrenheit degrees to centigrade  \n",
      "press 2 to convert your city temperature in centigrade degrees to fahrenheit degrees \n"
     ]
    }
   ],
   "source": [
    "def temperture():\n",
    "    while 1:\n",
    "        print(\"hello i am temperature converter machine \")\n",
    "        print(\"press 1 to convert your city temperature in fahrenheit degrees to centigrade  \")\n",
    "        print(\"press 2 to convert your city temperature in centigrade degrees to fahrenheit degrees \")\n",
    "        i = int(input(\"enter your choice here \"))\n",
    "        if i == 1 :\n",
    "            f = float(input(\"enter your farhrenheit degree temperature \"))    #T(°F) = T(°C) × 9/5 + 32\n",
    "            c = 5/9(f-32)\n",
    "            print(\"your  your farhrenheit degree temperature is \", c ,'F')\n",
    "        elif i == 2:\n",
    "            ce = float(input(\"enter your centigrade degree temperature \"))\n",
    "            fr = ce*9/5 + 32\n",
    "            print(\"your centigrade degree temperature is \", fr ,'C')\n",
    "            \n",
    "            \n",
    "temperture()\n",
    "    \n",
    "        \n",
    "    "
   ]
  },
  {
   "cell_type": "markdown",
   "metadata": {},
   "source": [
    "#### 5.The length & breadth of a rectangle and radius of a circle are input through the keyboard. Write a program to calculate the area & perimeter of the rectangle, and the area & circumference of the circle.\n"
   ]
  },
  {
   "cell_type": "code",
   "execution_count": 1,
   "metadata": {},
   "outputs": [
    {
     "name": "stdout",
     "output_type": "stream",
     "text": [
      "i know little geometry my name is robo 2.0 \n",
      "enter unit of your measurement km ,m , cm , etc meter\n",
      "enter length of rectangle 40\n",
      "enter breadth of rectangle 20\n",
      "area of rectangle is  800.0 meter square\n",
      "perimeter of rectangle is  120.0 meter s\n",
      "\n",
      "\n",
      "enter radius of circle 15\n",
      "enter unit of your measurement km ,m , cm , etcmeter\n",
      "circumference of circle is  94.28571428571428 meter s\n",
      "area of circle is  707.1428571428571 meter square\n"
     ]
    }
   ],
   "source": [
    "def geo():\n",
    "    print(\"i know little geometry my name is robo 2.0 \")\n",
    "    u = str(input(\"enter unit of your measurement km ,m , cm , etc \"))\n",
    "    l = float(input('enter length of rectangle '))\n",
    "    b = float(input('enter breadth of rectangle '))\n",
    "    a = l * b\n",
    "    p = 2*(l + b)\n",
    "    print(\"area of rectangle is \" , a , u ,'square')\n",
    "    print(\"perimeter of rectangle is \" , p , u,'s' )\n",
    "    print('\\n')\n",
    "    r = float(input(\"enter radius of circle \"))          \n",
    "    ut = str(input(\"enter unit of your measurement km ,m , cm , etc\"))\n",
    "    c = 2 * 22/7 * r\n",
    "    ar = 22/7 * r**2\n",
    "    print(\"circumference of circle is \", c , ut,'s')\n",
    "    print('area of circle is ', ar , ut ,'square' )\n",
    "    \n",
    "geo()"
   ]
  },
  {
   "cell_type": "markdown",
   "metadata": {},
   "source": [
    "#### 6.Two numbers are input through the keyboard into two locations C and D. Write a program to interchange the contents of C and D."
   ]
  },
  {
   "cell_type": "code",
   "execution_count": null,
   "metadata": {},
   "outputs": [],
   "source": []
  },
  {
   "cell_type": "markdown",
   "metadata": {},
   "source": [
    "### 7.If a five-digit number is input through the keyboard, write a program to reverse the number."
   ]
  },
  {
   "cell_type": "code",
   "execution_count": null,
   "metadata": {
    "scrolled": true
   },
   "outputs": [
    {
     "name": "stdout",
     "output_type": "stream",
     "text": [
      "enter input you want to reverse 12345\n",
      "54321\n",
      "enter input you want to reverse 45748\n",
      "84754\n",
      "enter input you want to reverse nayan\n",
      "nayan\n",
      "reverse is same for  nayan\n",
      "enter input you want to reverse rotor\n",
      "rotor\n",
      "reverse is same for  rotor\n",
      "enter input you want to reverse racecar\n",
      "racecar\n",
      "reverse is same for  racecar\n"
     ]
    }
   ],
   "source": [
    "while True:\n",
    "    a = input(\"enter input you want to reverse \")\n",
    "    if int(a) in range(10000,100000):\n",
    "        print(a[::-1])\n",
    "        if a == a[::-1]:\n",
    "            print(\"reverse is same for \", a )\n",
    "        "
   ]
  },
  {
   "cell_type": "markdown",
   "metadata": {},
   "source": [
    "####\n",
    "\n",
    "\n",
    "##### 8.If a four-digit number is input through the keyboard, write a program to obtain the sum of the first and last digit of this number."
   ]
  },
  {
   "cell_type": "code",
   "execution_count": null,
   "metadata": {
    "scrolled": true
   },
   "outputs": [
    {
     "name": "stdout",
     "output_type": "stream",
     "text": [
      "enter four digit number 1478\n",
      "sum of first n last is  9\n",
      "enter four digit number 41000\n",
      "enter four digit number only enter again \n",
      "enter four digit number jkhjbhj\n",
      "incorrect input enter again \n",
      "enter four digit number 4547\n",
      "sum of first n last is  11\n"
     ]
    }
   ],
   "source": [
    "while 1 :\n",
    "    try:\n",
    "        dg = input(\"enter four digit number \")\n",
    "        if  int(dg) in range(999 ,10000):\n",
    "            f = int(dg[-1])\n",
    "            l = int(dg[0])\n",
    "            s = f + l\n",
    "            print(\"sum of first n last is \", s)\n",
    "        else:\n",
    "            print(\"enter four digit number only enter again \")\n",
    "    except:\n",
    "        print(\"incorrect input enter again \")\n"
   ]
  },
  {
   "cell_type": "markdown",
   "metadata": {},
   "source": [
    "#### 9.In a town, the percentage of men is 52. The percentage of total literacy is 48. If total percentage of literate men is 35 percent  of the total population, write a program to find the total number of illiterate men and women if the population of the town is 80,000."
   ]
  },
  {
   "cell_type": "code",
   "execution_count": 3,
   "metadata": {},
   "outputs": [
    {
     "name": "stdout",
     "output_type": "stream",
     "text": [
      "illiterate women  28000\n",
      "illiterate men  13600\n",
      "total illiterate  41600\n"
     ]
    }
   ],
   "source": [
    "p = 80000\n",
    "total_literate = 48/100 * p\n",
    "l_men = 35/100*p\n",
    "l_women = total_literate - l_men\n",
    "print(\"illiterate women \", int(0.48*p - l_women))\n",
    "print(\"illiterate men \",int(0.52*p - l_men))\n",
    "print(\"total illiterate \", int(p - total_literate))"
   ]
  },
  {
   "cell_type": "markdown",
   "metadata": {},
   "source": [
    "### 10.A cashier has currency notes of denominations 10, 50 and 100. If the amount to be withdrawn is input through the keyboard in hundreds, find the total number of currency notes of each denomination the cashier will have to give to the withdrawer.\n",
    "\n",
    "\n"
   ]
  },
  {
   "cell_type": "code",
   "execution_count": 5,
   "metadata": {
    "scrolled": true
   },
   "outputs": [
    {
     "name": "stdout",
     "output_type": "stream",
     "text": [
      "enter the amount 890\n",
      "100 RS notes  8\n",
      "50 RS notes  1\n",
      "10 Rs notes 4\n",
      "\n",
      "\n",
      "enter the amount 5270\n",
      "100 RS notes  52\n",
      "50 RS notes  1\n",
      "10 Rs notes 2\n",
      "\n",
      "\n",
      "enter the amount 530\n",
      "100 RS notes  5\n",
      "50 RS notes  0\n",
      "10 Rs notes 3\n",
      "\n",
      "\n",
      "enter the amount jfyt7\n",
      "enter the valid input try again \n"
     ]
    }
   ],
   "source": [
    "try:\n",
    "    while True:\n",
    "        x = int(input(\"enter the amount \"))\n",
    "        if x>0:\n",
    "            if x%10 ==0:\n",
    "                    print('100 RS notes ',x//100)\n",
    "                    rem = x - (x//100)*100\n",
    "                    print('50 RS notes ' ,rem//50)\n",
    "                    rem1 = rem - (rem//50)*50\n",
    "                    print('10 Rs notes' ,rem1//10)\n",
    "            else:\n",
    "                print(\"inncorrect input enter amount ending with zero\")\n",
    "        print('\\n')\n",
    "except:\n",
    "    print(\"enter the valid input try again \")\n",
    "\n",
    "\n"
   ]
  },
  {
   "cell_type": "code",
   "execution_count": 3,
   "metadata": {},
   "outputs": [
    {
     "name": "stdout",
     "output_type": "stream",
     "text": [
      "502\n",
      "1\n",
      "2\n",
      "\n",
      "\n",
      "70\n",
      "20\n"
     ]
    }
   ],
   "source": [
    "### Basic Logic\n",
    "x = 50270\n",
    "print(x//100)\n",
    "rem = x - (x//100)*100\n",
    "print(rem//50)\n",
    "rem1 = rem - (rem//50)*50\n",
    "print(rem1//10)\n",
    "\n",
    "print('\\n')\n",
    "print(rem)\n",
    "print(rem1)"
   ]
  },
  {
   "cell_type": "code",
   "execution_count": null,
   "metadata": {},
   "outputs": [],
   "source": []
  }
 ],
 "metadata": {
  "kernelspec": {
   "display_name": "Python 3",
   "language": "python",
   "name": "python3"
  },
  "language_info": {
   "codemirror_mode": {
    "name": "ipython",
    "version": 3
   },
   "file_extension": ".py",
   "mimetype": "text/x-python",
   "name": "python",
   "nbconvert_exporter": "python",
   "pygments_lexer": "ipython3",
   "version": "3.7.6"
  }
 },
 "nbformat": 4,
 "nbformat_minor": 4
}
