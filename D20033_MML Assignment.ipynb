{
 "cells": [
  {
   "cell_type": "markdown",
   "metadata": {},
   "source": [
    "# INDEX OF THE FOLLOWING TOPICS\n"
   ]
  },
  {
   "cell_type": "markdown",
   "metadata": {},
   "source": [
    "# MATRICES \n",
    "\n",
    "## 1) Addition\n",
    "## 2)Subraction\n",
    "## 3) Multiplication\n",
    "## 4) Determinant\n",
    "## 5)Transpose\n",
    "## 6)Adjoint of Matrix\n",
    "## 7)Inverse of Matrix\n",
    "## 8) Some properties of Matrices\n",
    "\n",
    "## 9)  Row Echloan Form \n",
    "## 10)Reduced Row Echloan form\n",
    "## 11) LU Decomposition\n",
    "## 12)Gaussian Elimination\n",
    "## 13)Linear Indepedence/Dependence\n",
    "## 14)Linear Consistency Inconsistency\n",
    "## 15) Rank of matrix¶\n",
    "## 16) AUTOMATED THE CODE FORM ANY NORM  L1 ,L2, L3 ......Ln\n",
    "## 17) Basis Vectors of the subspace spanned\n",
    "# VECTORS\n",
    "## 18)Magnitude of Vector\n",
    "## 19)Unit Vectors\n",
    "## 20) Addition\n",
    "## 21) Subraction\n",
    "## 22)scalar Product\n",
    "## 23)Dot Product\n",
    "## 24)Vector Projection\n",
    "## 25)Linear Transformation\n",
    "## 26)Basis Changes\n",
    "## 27)Orthogonal Vectors\n",
    "## 28)Eigenvalues\n",
    "## 29)Eigenvectors\n",
    "## 30)Sigular Value Decomposition(SVD) / Factorization of matrices \n",
    "\n"
   ]
  },
  {
   "cell_type": "code",
   "execution_count": null,
   "metadata": {},
   "outputs": [],
   "source": []
  },
  {
   "cell_type": "code",
   "execution_count": 4,
   "metadata": {},
   "outputs": [],
   "source": [
    "\n",
    "import numpy as np\n",
    "import random\n",
    "from sympy import Matrix"
   ]
  },
  {
   "cell_type": "markdown",
   "metadata": {},
   "source": [
    "### Addition "
   ]
  },
  {
   "cell_type": "code",
   "execution_count": 2,
   "metadata": {},
   "outputs": [
    {
     "data": {
      "text/plain": [
       "array([[ 4,  6],\n",
       "       [11, 14]])"
      ]
     },
     "execution_count": 2,
     "metadata": {},
     "output_type": "execute_result"
    }
   ],
   "source": [
    "x = np.array([[1,2],[3,4]])\n",
    "y = np.array([[3,4],[8,10]])\n",
    "x + y"
   ]
  },
  {
   "cell_type": "markdown",
   "metadata": {},
   "source": [
    "### Subraction"
   ]
  },
  {
   "cell_type": "code",
   "execution_count": 3,
   "metadata": {},
   "outputs": [
    {
     "data": {
      "text/plain": [
       "array([[-2, -2],\n",
       "       [-5, -6]])"
      ]
     },
     "execution_count": 3,
     "metadata": {},
     "output_type": "execute_result"
    }
   ],
   "source": [
    "x = np.array([[1,2],[3,4]])\n",
    "y = np.array([[3,4],[8,10]])\n",
    "x - y"
   ]
  },
  {
   "cell_type": "markdown",
   "metadata": {},
   "source": [
    "### Multiplication"
   ]
  },
  {
   "cell_type": "code",
   "execution_count": 4,
   "metadata": {},
   "outputs": [
    {
     "data": {
      "text/plain": [
       "array([[19, 24],\n",
       "       [41, 52]])"
      ]
     },
     "execution_count": 4,
     "metadata": {},
     "output_type": "execute_result"
    }
   ],
   "source": [
    "x = np.array([[1,2],[3,4]])\n",
    "y = np.array([[3,4],[8,10]])\n",
    "x @ y"
   ]
  },
  {
   "cell_type": "markdown",
   "metadata": {},
   "source": [
    "## Determinant "
   ]
  },
  {
   "cell_type": "code",
   "execution_count": 5,
   "metadata": {},
   "outputs": [
    {
     "data": {
      "text/plain": [
       "-2.0000000000000004"
      ]
     },
     "execution_count": 5,
     "metadata": {},
     "output_type": "execute_result"
    }
   ],
   "source": [
    "np.linalg.det(x)"
   ]
  },
  {
   "cell_type": "code",
   "execution_count": 6,
   "metadata": {},
   "outputs": [
    {
     "data": {
      "text/plain": [
       "-1.9999999999999998"
      ]
     },
     "execution_count": 6,
     "metadata": {},
     "output_type": "execute_result"
    }
   ],
   "source": [
    "np.linalg.det(y)"
   ]
  },
  {
   "cell_type": "markdown",
   "metadata": {},
   "source": [
    "##  Transpose"
   ]
  },
  {
   "cell_type": "code",
   "execution_count": 7,
   "metadata": {},
   "outputs": [
    {
     "name": "stdout",
     "output_type": "stream",
     "text": [
      "x(Transpose)= [[1 3]\n",
      " [2 4]]\n",
      "\n",
      "\n",
      "y(Transpose)= [[ 3  8]\n",
      " [ 4 10]]\n"
     ]
    }
   ],
   "source": [
    "print('x(Transpose)=',x.T)\n",
    "print('\\n')\n",
    "print('y(Transpose)=',y.T)"
   ]
  },
  {
   "cell_type": "markdown",
   "metadata": {},
   "source": [
    "### Adjoint of matrix"
   ]
  },
  {
   "cell_type": "code",
   "execution_count": 8,
   "metadata": {},
   "outputs": [
    {
     "name": "stdout",
     "output_type": "stream",
     "text": [
      "ADJ(x) =  Matrix([[4, -2], [-3, 1]])\n",
      "ADJ(y) =  Matrix([[10, -4], [-8, 3]])\n"
     ]
    }
   ],
   "source": [
    "x = np.array([[1,2],[3,4]])\n",
    "y = np.array([[3,4],[8,10]])\n",
    "print('ADJ(x) = ',Matrix(x).adjugate())\n",
    "print('ADJ(y) = ',Matrix(y).adjugate()) ## sympy library"
   ]
  },
  {
   "cell_type": "markdown",
   "metadata": {},
   "source": [
    "### Inverse of Matrix\n",
    "\n",
    "##### A-1 = (1/Determinant of A) *  Adjoint of  A"
   ]
  },
  {
   "cell_type": "code",
   "execution_count": 9,
   "metadata": {},
   "outputs": [
    {
     "data": {
      "text/latex": [
       "$\\displaystyle \\left[\\begin{matrix}-2.0 & 1.0\\\\1.5 & -0.5\\end{matrix}\\right]$"
      ],
      "text/plain": [
       "Matrix([\n",
       "[-2.0,  1.0],\n",
       "[ 1.5, -0.5]])"
      ]
     },
     "execution_count": 9,
     "metadata": {},
     "output_type": "execute_result"
    }
   ],
   "source": [
    "x_inv = (1/np.linalg.det(x))*Matrix(x).adjugate()\n",
    "x_inv\n"
   ]
  },
  {
   "cell_type": "markdown",
   "metadata": {},
   "source": [
    "###### Through Inbuild function"
   ]
  },
  {
   "cell_type": "code",
   "execution_count": 10,
   "metadata": {},
   "outputs": [
    {
     "name": "stdout",
     "output_type": "stream",
     "text": [
      "x.inverse =  [[-2.   1. ]\n",
      " [ 1.5 -0.5]]\n",
      "\n",
      "\n",
      "y.inverse =  [[-5.   2. ]\n",
      " [ 4.  -1.5]]\n"
     ]
    }
   ],
   "source": [
    "print('x.inverse = ' ,np.mat(x).I)\n",
    "print('\\n')\n",
    "print('y.inverse = ' ,np.mat(y).I)\n"
   ]
  },
  {
   "cell_type": "markdown",
   "metadata": {},
   "source": [
    "## Some Properties of Matrices"
   ]
  },
  {
   "cell_type": "code",
   "execution_count": 81,
   "metadata": {},
   "outputs": [
    {
     "name": "stdout",
     "output_type": "stream",
     "text": [
      "A\n",
      " [[ 2 -4]\n",
      " [ 3  7]]\n",
      "B\n",
      " [[ 8 10]\n",
      " [ 1  2]]\n",
      "C\n",
      " [[ 3  2]\n",
      " [ 8 12]]\n",
      "\n",
      "\n",
      "a)(AT)T = A\n",
      "_____________________________________________________________________\n",
      "(A.T).T = A \n",
      " [[ 2 -4]\n",
      " [ 3  7]]\n",
      "A \n",
      " [[ 2 -4]\n",
      " [ 3  7]]\n",
      "\n",
      "\n",
      "A-1)-1 = A\n",
      " \n",
      "(A.inv).inv \n",
      " [[ 2. -4.]\n",
      " [ 3.  7.]]\n",
      "\n",
      "A\n",
      " [[ 2 -4]\n",
      " [ 3  7]]\n",
      "_____________________________________________________________________\n",
      " \n",
      "(AB)-1 EQUAL TO B-1 A-1\n",
      "AB. INV = \n",
      " [[ 0.2821 -0.0769]\n",
      " [-0.1987  0.0769]]\n",
      "\n",
      "B.INV .A.INV \n",
      "  [[ 0.2821 -0.0769]\n",
      " [-0.1987  0.0769]]\n",
      "_____________________________________________________________________\n",
      " \n",
      "\n",
      "(AB)T = BTAT\n",
      "(AB).Transpose = \n",
      " [[12 31]\n",
      " [12 44]]\n",
      "\n",
      "B.Trans.A.Trans = \n",
      "  [[12 31]\n",
      " [12 44]]\n",
      " \n",
      "_____________________________________________________________________\n",
      "(A+B).T \n",
      " [[10  4]\n",
      " [ 6  9]]\n",
      " \n",
      "A.T + B.T \n",
      " [[10  4]\n",
      " [ 6  9]]\n",
      " \n",
      "_____________________________________________________________________\n",
      "\n",
      "(AT) -1 = (A-1)\n",
      " [[ 0.2692 -0.1154]\n",
      " [ 0.1538  0.0769]]\n",
      "\n",
      "(AT) -1 = \n",
      " [[ 0.2692 -0.1154]\n",
      " [ 0.1538  0.0769]]\n",
      "\n"
     ]
    }
   ],
   "source": [
    "A = np.matrix([[2,-4],[3,7]])\n",
    "B = np.matrix([[8,10],[1,2]])\n",
    "C = np.matrix([[3,2],[8,12]])\n",
    "\n",
    "print('A\\n',A)\n",
    "print('B\\n', B)\n",
    "print('C\\n', C)\n",
    "print('\\n')\n",
    "\n",
    "print('a)(AT)T = A')\n",
    "print('_____________________________________________________________________')\n",
    "print('(A.T).T = A \\n', A.T.T)\n",
    "print('A \\n' , A)\n",
    "print('')\n",
    "\n",
    "print('')\n",
    "print('A-1)-1 = A')\n",
    "print(' ')\n",
    "print('(A.inv).inv \\n' , A.I.I )\n",
    "print('')\n",
    "print('A\\n',A)\n",
    "print('_____________________________________________________________________')\n",
    "\n",
    "print(' ')\n",
    "print('(AB)-1 EQUAL TO B-1 A-1')\n",
    "print('AB. INV = \\n', (A@B).I)\n",
    "print('')\n",
    "print('B.INV .A.INV \\n ' , B.I@A.I)\n",
    "print('_____________________________________________________________________')\n",
    "\n",
    "print(' \\n')\n",
    "print('(AB)T = BTAT')\n",
    "d = A@B\n",
    "print('(AB).Transpose = \\n',d.T)\n",
    "print('')\n",
    "print('B.Trans.A.Trans = \\n ',(B.T)@(A.T))\n",
    "print(' ')\n",
    "print('_____________________________________________________________________')\n",
    "\n",
    "w = A + B\n",
    "print('(A+B).T \\n', w.T)\n",
    "print(' ')\n",
    "print('A.T + B.T \\n', A.T + B.T)\n",
    "print(' ')\n",
    "print('_____________________________________________________________________')\n",
    "\n",
    "\n",
    "\n",
    "print('')\n",
    "print('(AT) -1 = (A-1)\\n', (A.I).T)\n",
    "print('')\n",
    "print('(AT) -1 = \\n',(A.T).I)\n",
    "print('')\n",
    "\n"
   ]
  },
  {
   "cell_type": "markdown",
   "metadata": {},
   "source": [
    "# Row echloan form"
   ]
  },
  {
   "cell_type": "code",
   "execution_count": 12,
   "metadata": {},
   "outputs": [
    {
     "name": "stdout",
     "output_type": "stream",
     "text": [
      "Matrix:\n",
      " [[2 1 1]\n",
      " [3 4 5]\n",
      " [6 7 8]]\n",
      "\n",
      "Row Echelon Form:\n",
      "REF :\n",
      " [[2 1 1]\n",
      " [0 5 7]\n",
      " [0 0 -6]]\n"
     ]
    }
   ],
   "source": [
    "\n",
    "mat = np.matrix([[2,1,1],[3,4,5],[6,7,8]])\n",
    "print(\"Matrix:\\n\", mat)\n",
    "\n",
    "# Method 1 - Using REF\n",
    "\n",
    "print(\"\\nRow Echelon Form:\")\n",
    "ref = Matrix(mat).echelon_form()\n",
    "print(\"REF :\\n\",np.matrix(ref))\n"
   ]
  },
  {
   "cell_type": "markdown",
   "metadata": {},
   "source": [
    "# Reduced Row echloan form\n"
   ]
  },
  {
   "cell_type": "code",
   "execution_count": 9,
   "metadata": {
    "scrolled": true
   },
   "outputs": [
    {
     "name": "stdout",
     "output_type": "stream",
     "text": [
      "Reduced Row Echelon Form:\n",
      "RREF :\n",
      " [[1 0 0 10/3]\n",
      " [0 1 0 -4/3]\n",
      " [0 0 1 2/3]]\n",
      "\n",
      "solutions [   [X],  [Y], [Z]]\n",
      "Solutions : [[10/3 -4/3 2/3]]\n"
     ]
    }
   ],
   "source": [
    "mat = np.matrix([[2,1,1,6],[3,4,5,8],[6,7,8,16]])\n",
    "print(\"Reduced Row Echelon Form:\")\n",
    "rref, n = Matrix(mat).rref()\n",
    "print(\"RREF :\\n\", np.matrix(rref))\n",
    "print('\\nsolutions [   [X],  [Y], [Z]]')\n",
    "print(\"Solutions :\",np.matrix(rref[:,-1].T))\n"
   ]
  },
  {
   "cell_type": "code",
   "execution_count": 11,
   "metadata": {},
   "outputs": [
    {
     "data": {
      "text/latex": [
       "$\\displaystyle \\left[\\begin{matrix}1 & 0 & 0 & \\frac{10}{3}\\\\0 & 1 & 0 & - \\frac{4}{3}\\\\0 & 0 & 1 & \\frac{2}{3}\\end{matrix}\\right]$"
      ],
      "text/plain": [
       "Matrix([\n",
       "[1, 0, 0, 10/3],\n",
       "[0, 1, 0, -4/3],\n",
       "[0, 0, 1,  2/3]])"
      ]
     },
     "execution_count": 11,
     "metadata": {},
     "output_type": "execute_result"
    }
   ],
   "source": [
    "rref"
   ]
  },
  {
   "cell_type": "markdown",
   "metadata": {},
   "source": [
    "# LU Decomposition"
   ]
  },
  {
   "cell_type": "code",
   "execution_count": 14,
   "metadata": {},
   "outputs": [],
   "source": [
    "from sympy import Matrix\n",
    "from sympy import init_printing\n",
    "init_printing()"
   ]
  },
  {
   "cell_type": "code",
   "execution_count": 15,
   "metadata": {},
   "outputs": [
    {
     "data": {
      "text/latex": [
       "$\\displaystyle \\left[\\begin{matrix}1 & 2 & 3\\\\4 & 5 & 6\\\\10 & 11 & 9\\end{matrix}\\right]$"
      ],
      "text/plain": [
       "⎡1   2   3⎤\n",
       "⎢         ⎥\n",
       "⎢4   5   6⎥\n",
       "⎢         ⎥\n",
       "⎣10  11  9⎦"
      ]
     },
     "execution_count": 15,
     "metadata": {},
     "output_type": "execute_result"
    }
   ],
   "source": [
    "A = Matrix([[1,2,3],[4,5,6],[10,11,9]])\n",
    "A"
   ]
  },
  {
   "cell_type": "code",
   "execution_count": 16,
   "metadata": {},
   "outputs": [],
   "source": [
    "L , U , _ = A.LUdecomposition()"
   ]
  },
  {
   "cell_type": "code",
   "execution_count": 17,
   "metadata": {},
   "outputs": [
    {
     "data": {
      "text/latex": [
       "$\\displaystyle \\left[\\begin{matrix}1 & 2 & 3\\\\0 & -3 & -6\\\\0 & 0 & -3\\end{matrix}\\right]$"
      ],
      "text/plain": [
       "⎡1  2   3 ⎤\n",
       "⎢         ⎥\n",
       "⎢0  -3  -6⎥\n",
       "⎢         ⎥\n",
       "⎣0  0   -3⎦"
      ]
     },
     "execution_count": 17,
     "metadata": {},
     "output_type": "execute_result"
    }
   ],
   "source": [
    "U ## Upper Triangle\n"
   ]
  },
  {
   "cell_type": "code",
   "execution_count": 18,
   "metadata": {},
   "outputs": [
    {
     "data": {
      "text/latex": [
       "$\\displaystyle \\left[\\begin{matrix}1 & 0 & 0\\\\4 & 1 & 0\\\\10 & 3 & 1\\end{matrix}\\right]$"
      ],
      "text/plain": [
       "⎡1   0  0⎤\n",
       "⎢        ⎥\n",
       "⎢4   1  0⎥\n",
       "⎢        ⎥\n",
       "⎣10  3  1⎦"
      ]
     },
     "execution_count": 18,
     "metadata": {},
     "output_type": "execute_result"
    }
   ],
   "source": [
    "L ## Lower Triangle"
   ]
  },
  {
   "cell_type": "code",
   "execution_count": 19,
   "metadata": {},
   "outputs": [
    {
     "data": {
      "text/plain": [
       "True"
      ]
     },
     "execution_count": 19,
     "metadata": {},
     "output_type": "execute_result"
    }
   ],
   "source": [
    "A == L*U"
   ]
  },
  {
   "cell_type": "markdown",
   "metadata": {},
   "source": [
    "## Gaussian Elimination "
   ]
  },
  {
   "cell_type": "code",
   "execution_count": 21,
   "metadata": {},
   "outputs": [
    {
     "name": "stdout",
     "output_type": "stream",
     "text": [
      "[[ 1.  1.  3. 15.]\n",
      " [ 1.  2.  4. 21.]\n",
      " [ 1.  1.  2. 13.]]\n",
      "rows is  3\n",
      "column is  4\n",
      "\n",
      "\n",
      "\n",
      " row echelon form \n",
      " [[ 1.  1.  3. 15.]\n",
      " [ 0.  1.  1.  6.]\n",
      " [ 0.  0. -1. -2.]]\n",
      "\n",
      " final answer\n",
      "[5. 4. 2.]\n",
      " [a, b, c ]\n"
     ]
    }
   ],
   "source": [
    "from numpy import *\n",
    "a = array([[1,1,3,15],[1,2,4,21],[1,1,2,13]] , dtype =float)\n",
    "## define matrix\n",
    "## Get Rows and Columns\n",
    "rows = shape(a)[0]\n",
    "cols = shape(a)[1]\n",
    "## solution vector to store solutions\n",
    "x = zeros(cols-1)\n",
    "## print matrix here\n",
    "print(a)\n",
    "print('rows is ',rows)\n",
    "print('column is ',cols)\n",
    "print('\\n')\n",
    "## forwarding algorithm here \n",
    "for i in range(cols-1):\n",
    "    for j in range(i+1 , rows):\n",
    "        a[j ,:]= -(a[j,i]/a[i,i])*a[i , :] + a[j ,:]\n",
    "       \n",
    " ### prining matrix in row echelon form\n",
    "print('\\n row echelon form \\n' , a)\n",
    "\n",
    "### Backsubstitution of algorithm \n",
    "for i in arange(rows-1,-1,-1):\n",
    "    x[i] = (a[i ,-1]-a[ i ,0:cols-1]@x)/a[i , i]\n",
    "print('\\n final answer')\n",
    "print(x)\n",
    "print(' [a, b, c ]')"
   ]
  },
  {
   "cell_type": "markdown",
   "metadata": {},
   "source": [
    "# Linear Independence "
   ]
  },
  {
   "cell_type": "markdown",
   "metadata": {},
   "source": [
    "# Q 1) Neither dependent nor independent"
   ]
  },
  {
   "cell_type": "code",
   "execution_count": 24,
   "metadata": {},
   "outputs": [
    {
     "name": "stdout",
     "output_type": "stream",
     "text": [
      "[[1. 3. 0. 0.]\n",
      " [2. 2. 4. 0.]\n",
      " [3. 1. 8. 0.]]\n",
      "rows is  3\n",
      "column is  4\n",
      "\n",
      "\n",
      "\n",
      " row echelon form \n",
      " [[ 1.  3.  0.  0.]\n",
      " [ 0. -4.  4.  0.]\n",
      " [ 0.  0.  0.  0.]]\n",
      "\n",
      " final answer\n",
      "[nan nan nan]\n",
      " [a, b, c ]\n"
     ]
    },
    {
     "name": "stderr",
     "output_type": "stream",
     "text": [
      "C:\\ProgramData\\Anaconda3\\lib\\site-packages\\ipykernel_launcher.py:24: RuntimeWarning: invalid value encountered in double_scalars\n"
     ]
    }
   ],
   "source": [
    "from numpy import *\n",
    "a = array([[1,3,0,0],[2,2,4,0],[3,1,8,0]] , dtype =float)\n",
    "## define matrix\n",
    "## Get Rows and Columns\n",
    "rows = shape(a)[0]\n",
    "cols = shape(a)[1]\n",
    "## solution vector to store solutions\n",
    "x = zeros(cols-1)\n",
    "## print matrix here\n",
    "print(a)\n",
    "print('rows is ',rows)\n",
    "print('column is ',cols)\n",
    "print('\\n')\n",
    "## forwarding algorithm here \n",
    "for i in range(cols-1):\n",
    "    for j in range(i+1 , rows):\n",
    "        a[j ,:]= -(a[j,i]/a[i,i])*a[i , :] + a[j ,:]\n",
    "       \n",
    " ### prining matrix in row echelon form\n",
    "print('\\n row echelon form \\n' , a)\n",
    "\n",
    "### Backsubstitution of algorithm \n",
    "for i in arange(rows-1,-1,-1):\n",
    "    x[i] = (a[i ,-1]-a[ i ,0:cols-1]@x)/a[i , i]\n",
    "print('\\n final answer')\n",
    "print(x)\n",
    "print(' [a, b, c ]')"
   ]
  },
  {
   "cell_type": "markdown",
   "metadata": {},
   "source": [
    " We do not got a , b , c =0 to be linearly independent but we neither got a ,b, c as some value \n",
    " \n",
    " So lets calculate dot product of any two vectors \n",
    " \n",
    " if a.b != 0 then vectors are neither dependet or independence\n",
    " \n"
   ]
  },
  {
   "cell_type": "code",
   "execution_count": 44,
   "metadata": {},
   "outputs": [
    {
     "name": "stdout",
     "output_type": "stream",
     "text": [
      "a.b =  10\n",
      "so a.b != 0 then vectors are neither dependent or independence\n"
     ]
    }
   ],
   "source": [
    "a = np.array([1,2,3])\n",
    "b = np.array([3,2,1])\n",
    "print('a.b = ',np.dot(a,b))\n",
    "print('so a.b != 0 then vectors are neither dependent or independence')"
   ]
  },
  {
   "cell_type": "markdown",
   "metadata": {},
   "source": [
    "## Q2) Linear Indepedence "
   ]
  },
  {
   "cell_type": "code",
   "execution_count": 26,
   "metadata": {},
   "outputs": [
    {
     "name": "stdout",
     "output_type": "stream",
     "text": [
      "[[2. 3. 0.]\n",
      " [1. 2. 0.]]\n",
      "rows is  2\n",
      "column is  3\n",
      "\n",
      "\n",
      "\n",
      " row echelon form \n",
      " [[2.  3.  0. ]\n",
      " [0.  0.5 0. ]]\n",
      "\n",
      " final answer\n",
      "[0. 0.]\n",
      " [a, b]\n",
      "\n",
      " since a and b are zero vectors are linearly independent \n"
     ]
    }
   ],
   "source": [
    "from numpy import *\n",
    "a = array([[2,3,0],[1,2,0]] , dtype =float)\n",
    "## define matrix\n",
    "## Get Rows and Columns\n",
    "rows = shape(a)[0]\n",
    "cols = shape(a)[1]\n",
    "## solution vector to store solutions\n",
    "x = zeros(cols-1)\n",
    "## print matrix here\n",
    "print(a)\n",
    "print('rows is ',rows)\n",
    "print('column is ',cols)\n",
    "print('\\n')\n",
    "## forwarding algorithm here \n",
    "for i in range(cols-1):\n",
    "    for j in range(i+1 , rows):\n",
    "        a[j ,:]= -(a[j,i]/a[i,i])*a[i , :] + a[j ,:]\n",
    "       \n",
    " ### prining matrix in row echelon form\n",
    "print('\\n row echelon form \\n' , a)\n",
    "\n",
    "### Backsubstitution of algorithm \n",
    "for i in arange(rows-1,-1,-1):\n",
    "    x[i] = (a[i ,-1]-a[ i ,0:cols-1]@x)/a[i , i]\n",
    "print('\\n final answer')\n",
    "print(x)\n",
    "print(' [a, b]')\n",
    "print('\\n since a and b are zero vectors are linearly independent ')"
   ]
  },
  {
   "cell_type": "markdown",
   "metadata": {},
   "source": [
    "## Q3) Linear depedence"
   ]
  },
  {
   "cell_type": "code",
   "execution_count": 27,
   "metadata": {},
   "outputs": [
    {
     "name": "stdout",
     "output_type": "stream",
     "text": [
      "[[ 1.  1.  3. 15.]\n",
      " [ 1.  2.  5. 21.]\n",
      " [ 1.  1.  2. 13.]]\n",
      "rows is  3\n",
      "column is  4\n",
      "\n",
      "\n",
      "\n",
      " row echelon form \n",
      " [[ 1.  1.  3. 15.]\n",
      " [ 0.  1.  2.  6.]\n",
      " [ 0.  0. -1. -2.]]\n",
      "\n",
      " final answer\n",
      "[7. 2. 2.]\n",
      "[a, b ,c ]\n",
      "\n",
      " since a ,b and c are non-zero vectors are linearly dependent \n"
     ]
    }
   ],
   "source": [
    "from numpy import *\n",
    "a = array([[1,1,3,15],[1,2,5,21],[1,1,2,13]] , dtype =float)\n",
    "## define matrix\n",
    "## Get Rows and Columns\n",
    "rows = shape(a)[0]\n",
    "cols = shape(a)[1]\n",
    "## solution vector to store solutions\n",
    "x = zeros(cols-1)\n",
    "## print matrix here\n",
    "print(a)\n",
    "print('rows is ',rows)\n",
    "print('column is ',cols)\n",
    "print('\\n')\n",
    "## forwarding algorithm here \n",
    "for i in range(cols-1):\n",
    "    for j in range(i+1 , rows):\n",
    "        a[j ,:]= -(a[j,i]/a[i,i])*a[i , :] + a[j ,:]\n",
    "       \n",
    " ### prining matrix in row echelon form\n",
    "print('\\n row echelon form \\n' , a)\n",
    "\n",
    "### Backsubstitution of algorithm \n",
    "for i in arange(rows-1,-1,-1):\n",
    "    x[i] = (a[i ,-1]-a[ i ,0:cols-1]@x)/a[i , i]\n",
    "print('\\n final answer')\n",
    "print(x)\n",
    "print('[a, b ,c ]')\n",
    "print('\\n since a ,b and c are non-zero vectors are linearly dependent ')"
   ]
  },
  {
   "cell_type": "markdown",
   "metadata": {},
   "source": [
    "## Consistency Inconsistency\n",
    "2x1 − 6x3 = −8 \n",
    "\n",
    "x2 + 2x3 = 3 \n",
    "\n",
    "3x1 + 6x2 − 2x3 = −4\n",
    "\n",
    "Is this system of equations Consistent or Inconsistent?"
   ]
  },
  {
   "cell_type": "markdown",
   "metadata": {},
   "source": [
    "If |A| !=0, then consistent and unique solutions\n",
    "\n",
    "•If |A|=0 and \n",
    "\n",
    "•(Adj A) B = 0, then consistent and has infinite solutions\n",
    "\n",
    "•(Adj A) B != 0, then inconsistent "
   ]
  },
  {
   "cell_type": "code",
   "execution_count": 2,
   "metadata": {
    "scrolled": true
   },
   "outputs": [
    {
     "name": "stdout",
     "output_type": "stream",
     "text": [
      "[[ 2  0 -6]\n",
      " [ 0  1  2]\n",
      " [ 3  6 -2]]\n",
      "\n",
      "\n",
      "detA =  9.999999999999998\n",
      "|detA| !=0, then consistent and unique solutions\n"
     ]
    }
   ],
   "source": [
    "A = np.mat([[2,0,-6],[0,1,2],[3,6,-2]])\n",
    "print(A)\n",
    "print('\\n')\n",
    "detA = np.linalg.det(A)\n",
    "print('detA = ' , abs(detA))  \n",
    "print('|detA| !=0, then consistent and unique solutions')"
   ]
  },
  {
   "cell_type": "markdown",
   "metadata": {},
   "source": [
    "## Rank of matrix"
   ]
  },
  {
   "cell_type": "code",
   "execution_count": 28,
   "metadata": {},
   "outputs": [
    {
     "name": "stdout",
     "output_type": "stream",
     "text": [
      "A = \n",
      " [[ 7  3  9]\n",
      " [ 2  5 -8]\n",
      " [-7 -5  7]]\n",
      "\n",
      " Rank of Matrix \n",
      "3\n"
     ]
    }
   ],
   "source": [
    "A = np.array([[7,3,9],[2,5,-8],[-7,-5,7]])\n",
    "print('A = \\n' ,A)\n",
    "print('\\n Rank of Matrix ')\n",
    "print(np.linalg.matrix_rank(A))"
   ]
  },
  {
   "cell_type": "markdown",
   "metadata": {},
   "source": [
    "# Lets Automate code for any  Norm \n"
   ]
  },
  {
   "cell_type": "code",
   "execution_count": 2,
   "metadata": {},
   "outputs": [
    {
     "name": "stdout",
     "output_type": "stream",
     "text": [
      "enter dimention for eg R= 2 ,R= 3 ... 2\n",
      "enter here 3\n",
      "enter here 4\n",
      "enter the Ln norm you want 4\n",
      "LP norm  1:  is =  7.0\n",
      "LP norm  2:  is =  5.0\n",
      "LP norm  3:  is =  4.497941445275415\n",
      "LP norm  4:  is =  4.284572294953817\n"
     ]
    }
   ],
   "source": [
    "def norm():\n",
    "    try:\n",
    "        x = ''\n",
    "        basket = []\n",
    "        span = int(input(\"enter dimention for eg R= 2 ,R= 3 ... \"))\n",
    "        for i in range(0,span):\n",
    "                x = int(input(\"enter here \"))\n",
    "                basket.append(abs(x))\n",
    "        norms  = basket\n",
    "        n = int(input(\"enter the Ln norm you want \"))\n",
    "        for k in range(1,n+1):\n",
    "            t = 0\n",
    "            for i in norms:\n",
    "                t += i**k\n",
    "                lp = t**(1./k)\n",
    "            print('LP norm  %d: ' %(k) ,'is = ', lp)\n",
    "            \n",
    "    except:\n",
    "        print('error enter again')\n",
    "norm()"
   ]
  },
  {
   "cell_type": "markdown",
   "metadata": {},
   "source": [
    "# Basis Vectors of the subspace spanned "
   ]
  },
  {
   "cell_type": "code",
   "execution_count": 6,
   "metadata": {},
   "outputs": [
    {
     "name": "stdout",
     "output_type": "stream",
     "text": [
      "\n",
      " [[ 2  1  2  2  3]\n",
      " [ 3  4  5  2  1]\n",
      " [ 2  1 -1  8  0]\n",
      " [-1 -2  4 -2  2]]\n",
      "Reduced Row Echelon Form:\n",
      "RREF :\n",
      " [[1 0 0 0 8/3]\n",
      " [0 1 0 0 -5/3]\n",
      " [0 0 1 0 1/9]\n",
      " [0 0 0 1 -4/9]]\n"
     ]
    }
   ],
   "source": [
    "mat = np.matrix([[2,3,2,-1],[1,4,1,-2],[2,5,-1,4],[2,2,8,-2],[3,1,0,2]])\n",
    "print('\\n',mat.T)\n",
    "print(\"Reduced Row Echelon Form:\")\n",
    "rref, n = Matrix(mat.T).rref()\n",
    "print(\"RREF :\\n\", np.matrix(rref))\n"
   ]
  },
  {
   "cell_type": "markdown",
   "metadata": {},
   "source": [
    "#### We Can clearly see that in  RREF Column 1 , 2 ,3 ,4 has pivots so these are our  basis For the Subspace Spanned by the Given Vectors\n",
    "#### So columns or vectors [2,3,2,-1],[1,4,1,-2],[2,5,-1,4],[2,2,8,-2]\n",
    "#### are our  Basis For the Subspace Spanned by the Given Vectors"
   ]
  },
  {
   "cell_type": "code",
   "execution_count": null,
   "metadata": {},
   "outputs": [],
   "source": []
  },
  {
   "cell_type": "markdown",
   "metadata": {},
   "source": [
    "# VECTORS\n",
    "\n",
    "A directed line segment is called as vector \n",
    "\n",
    "vector has magnituted and direction"
   ]
  },
  {
   "cell_type": "markdown",
   "metadata": {},
   "source": [
    "### Magnitude of Vector"
   ]
  },
  {
   "cell_type": "markdown",
   "metadata": {},
   "source": [
    "a = i + j + k ;\n",
    "\n",
    "b = 2i -7j - 3k\n",
    "\n",
    "Calculate magnitude of two vectors"
   ]
  },
  {
   "cell_type": "code",
   "execution_count": 38,
   "metadata": {},
   "outputs": [
    {
     "name": "stdout",
     "output_type": "stream",
     "text": [
      "|a| =  1.7320508075688772\n",
      "|b| =  7.874007874011811\n"
     ]
    }
   ],
   "source": [
    "Ua = np.sqrt(1*1 + 1*1 + 1*1)\n",
    "Ub = np.sqrt(2*2 + -7*-7 + -3*-3)\n",
    "print('|a| = ', np.sqrt(1*1 + 1*1 + 1*1))\n",
    "print('|b| = ',np.sqrt(2*2 + -7*-7 + -3*-3))"
   ]
  },
  {
   "cell_type": "markdown",
   "metadata": {},
   "source": [
    "## Unit Vector\n",
    "U = a/|a|\n",
    "\n",
    "a = i + j + k ;\n",
    "\n",
    "b = 2i -7j - 3k\n",
    "\n",
    "Calculate unit vectors  of two vectors\n",
    "\n",
    "we calculated magnitude above \n",
    "\n",
    "so \n",
    "\n",
    "Unit Vector a = 0.578i + 0.578j + 0.578k\n",
    "\n",
    "unit vector b = 0.254i - 0.89j -0.381k \n"
   ]
  },
  {
   "cell_type": "markdown",
   "metadata": {},
   "source": [
    "## Addition of two Vectors"
   ]
  },
  {
   "cell_type": "code",
   "execution_count": 39,
   "metadata": {},
   "outputs": [
    {
     "name": "stdout",
     "output_type": "stream",
     "text": [
      "[[7]\n",
      " [6]\n",
      " [5]]\n",
      "\n",
      "\n",
      "[[9]\n",
      " [4]\n",
      " [2]]\n"
     ]
    },
    {
     "data": {
      "text/plain": [
       "array([[16],\n",
       "       [10],\n",
       "       [ 7]])"
      ]
     },
     "execution_count": 39,
     "metadata": {},
     "output_type": "execute_result"
    }
   ],
   "source": [
    "Va = np.array([[7],[6],[5]])\n",
    "Vb = np.array([[9],[4],[2]])\n",
    "print(Va)\n",
    "print('\\n')\n",
    "print(Vb)\n",
    "Va + Vb"
   ]
  },
  {
   "cell_type": "markdown",
   "metadata": {},
   "source": [
    "## Subraction of Two vectors"
   ]
  },
  {
   "cell_type": "code",
   "execution_count": 40,
   "metadata": {
    "scrolled": false
   },
   "outputs": [
    {
     "name": "stdout",
     "output_type": "stream",
     "text": [
      "[[7]\n",
      " [6]\n",
      " [5]]\n",
      "\n",
      "\n",
      "[[9]\n",
      " [4]\n",
      " [2]]\n"
     ]
    },
    {
     "data": {
      "text/plain": [
       "array([[-2],\n",
       "       [ 2],\n",
       "       [ 3]])"
      ]
     },
     "execution_count": 40,
     "metadata": {},
     "output_type": "execute_result"
    }
   ],
   "source": [
    "Va = np.array([[7],[6],[5]])\n",
    "Vb = np.array([[9],[4],[2]])\n",
    "print(Va)\n",
    "print('\\n')\n",
    "print(Vb)\n",
    "Va - Vb"
   ]
  },
  {
   "cell_type": "markdown",
   "metadata": {},
   "source": [
    "# scalar Product"
   ]
  },
  {
   "cell_type": "code",
   "execution_count": 41,
   "metadata": {},
   "outputs": [
    {
     "name": "stdout",
     "output_type": "stream",
     "text": [
      "5*Va = \n",
      " [[35]\n",
      " [30]\n",
      " [25]]\n"
     ]
    }
   ],
   "source": [
    "print('5*Va = \\n', 5*Va)"
   ]
  },
  {
   "cell_type": "markdown",
   "metadata": {},
   "source": [
    "# Dot Product"
   ]
  },
  {
   "cell_type": "code",
   "execution_count": 42,
   "metadata": {},
   "outputs": [
    {
     "name": "stdout",
     "output_type": "stream",
     "text": [
      "a = [1 3 4 5]\n",
      "\n",
      "b = [5 7 8 9]\n",
      "\n",
      "dot product a.b = 103\n"
     ]
    }
   ],
   "source": [
    "a = np.array([1,3,4,5])\n",
    "b = np.array([5,7,8,9])\n",
    "print('a =',a)\n",
    "print('\\nb =',b)\n",
    "print('\\ndot product a.b =',np.dot(a,b))"
   ]
  },
  {
   "cell_type": "markdown",
   "metadata": {},
   "source": [
    "# Vector Projection\n",
    "a on b = (a.b/|b|^2)b"
   ]
  },
  {
   "cell_type": "code",
   "execution_count": 43,
   "metadata": {},
   "outputs": [
    {
     "name": "stdout",
     "output_type": "stream",
     "text": [
      "projection of vector a on b \n",
      "a =\n",
      " [[7]\n",
      " [6]\n",
      " [5]]\n",
      "\n",
      "b =\n",
      " [[9]\n",
      " [4]\n",
      " [2]]\n",
      "\n",
      " a on b = (a.b/|b|^2)b\n",
      "\n",
      " a on b =  1.564516129032258\n"
     ]
    }
   ],
   "source": [
    "print('projection of vector a on b ')\n",
    "a2 = np.array([7,6,5])\n",
    "b2 = np.array([9,4,2])\n",
    "dot = np.dot(a2 , b2)\n",
    "deno = abs(Ub)*abs(Ub)\n",
    "print('a =\\n' , Va)\n",
    "print('\\nb =\\n' , Vb)\n",
    "print('\\n a on b = (a.b/|b|^2)b')\n",
    "print('\\n a on b = ', dot/deno)"
   ]
  },
  {
   "cell_type": "markdown",
   "metadata": {},
   "source": [
    "# Linear Transformation \n",
    "Lines are parallel\n",
    "\n",
    "Origin does not move"
   ]
  },
  {
   "cell_type": "code",
   "execution_count": 36,
   "metadata": {
    "scrolled": true
   },
   "outputs": [
    {
     "name": "stdout",
     "output_type": "stream",
     "text": [
      "let Equation be 5x + 7y\n",
      "new vector is\n",
      " [[19]\n",
      " [31]]\n"
     ]
    }
   ],
   "source": [
    "x = np.array([[1],[2]])\n",
    "y = np.array([[2],[3]])\n",
    "print('let Equation be 5x + 7y')\n",
    "print('new vector is\\n' , 5*x + 7*y)"
   ]
  },
  {
   "cell_type": "markdown",
   "metadata": {},
   "source": [
    "# Basis change\n",
    "\n",
    "NewVector  = Inv(New Basis).Old Basis.Oldvector\n",
    "\n",
    "What will [8,4] from [2,0], [0,2] basis to a new basis of [4,0] and [0,4]"
   ]
  },
  {
   "cell_type": "code",
   "execution_count": 54,
   "metadata": {
    "scrolled": true
   },
   "outputs": [
    {
     "name": "stdout",
     "output_type": "stream",
     "text": [
      " old Basis\n",
      " [[2 0]\n",
      " [0 2]] \n",
      "\n",
      "\n",
      " old Vector\n",
      "  [[8]\n",
      " [4]] \n",
      "\n",
      "new basis\n",
      " [[4 0]\n",
      " [0 4]]\n",
      "\n",
      " NewVector = Inv(New Basis).Old Basis.Oldvector\n",
      "\n",
      " new Vector \n",
      " [[4.]\n",
      " [2.]]\n"
     ]
    }
   ],
   "source": [
    "U = np.matrix([[2,0],[0,2]])\n",
    "v = np.array([[8],[4]])\n",
    "print(' old Basis\\n', U ,'\\n')\n",
    "print('\\n old Vector\\n ', v,'\\n')\n",
    "New_Basis = np.matrix([[4,0],[0,4]])\n",
    "print('new basis\\n' , New_Basis)\n",
    "inv_NB = New_Basis.I\n",
    "print('\\n NewVector = Inv(New Basis).Old Basis.Oldvector')\n",
    "NewVector = inv_NB*U*v\n",
    "print('\\n new Vector \\n' ,NewVector)"
   ]
  },
  {
   "cell_type": "markdown",
   "metadata": {},
   "source": [
    "# Orthogonal Vectors\n",
    "\n",
    "Two vectors are orthogonal if cosx = u.v/|u|.|V| = 90 \n",
    "\n",
    "or\n",
    "\n",
    "u.v = 90 (dot Product)"
   ]
  },
  {
   "cell_type": "code",
   "execution_count": 19,
   "metadata": {
    "scrolled": true
   },
   "outputs": [
    {
     "name": "stdout",
     "output_type": "stream",
     "text": [
      "u =  [-3  4]\n",
      "\n",
      "v = [4 3]\n",
      "\n",
      "u.v =  0\n",
      "\n",
      "so u and v are orthogonal vectors \n"
     ]
    }
   ],
   "source": [
    "import numpy as np\n",
    "u = np.array([-3,4])\n",
    "v = np.array([4,3])\n",
    "print('u = ',u)\n",
    "print('\\nv =',v)\n",
    "\n",
    "print('\\nu.v = ',np.dot(u,v))\n",
    "print('\\nso u and v are orthogonal vectors ')"
   ]
  },
  {
   "cell_type": "markdown",
   "metadata": {},
   "source": [
    "# Eigenvalues and Eigenvectors"
   ]
  },
  {
   "cell_type": "code",
   "execution_count": 69,
   "metadata": {
    "scrolled": true
   },
   "outputs": [
    {
     "name": "stdout",
     "output_type": "stream",
     "text": [
      "A = \n",
      " [[ 7  3  9]\n",
      " [ 2  5 -8]\n",
      " [-7 -5  7]]\n",
      "\n",
      "Eigenvalues : [7.29522829+4.29446066j 7.29522829-4.29446066j 4.40954343+0.j        ]\n",
      "\n",
      " Eigenvectors \n",
      ": [[-0.64492839+0.j         -0.64492839-0.j         -0.60102927+0.j        ]\n",
      " [ 0.59141497+0.20979052j  0.59141497-0.20979052j  0.79395381+0.j        ]\n",
      " [-0.218294  -0.37766568j -0.218294  +0.37766568j -0.09165791+0.j        ]]\n"
     ]
    }
   ],
   "source": [
    "A = np.array([[7,3,9],[2,5,-8],[-7,-5,7]])\n",
    "print('A = \\n', A)\n",
    "print('\\nEigenvalues :' ,np.linalg.eigvals(A))\n",
    "Evalue , Evectors = np.linalg.eig(A)\n",
    "print('\\n Eigenvectors \\n:' ,Evectors )"
   ]
  },
  {
   "cell_type": "code",
   "execution_count": null,
   "metadata": {},
   "outputs": [],
   "source": []
  },
  {
   "cell_type": "markdown",
   "metadata": {},
   "source": [
    "# Singular Value Decomposition Or Factorization of matrices"
   ]
  },
  {
   "cell_type": "code",
   "execution_count": 71,
   "metadata": {},
   "outputs": [
    {
     "name": "stdout",
     "output_type": "stream",
     "text": [
      "Populating the interactive namespace from numpy and matplotlib\n"
     ]
    },
    {
     "name": "stderr",
     "output_type": "stream",
     "text": [
      "C:\\ProgramData\\Anaconda3\\lib\\site-packages\\IPython\\core\\magics\\pylab.py:160: UserWarning: pylab import has clobbered these variables: ['mat', 'random', 'dot', 'norm']\n",
      "`%matplotlib` prevents importing * from pylab and numpy\n",
      "  \"\\n`%matplotlib` prevents importing * from pylab and numpy\"\n"
     ]
    }
   ],
   "source": [
    "%pylab inline"
   ]
  },
  {
   "cell_type": "code",
   "execution_count": 74,
   "metadata": {},
   "outputs": [],
   "source": [
    "from __future__ import division\n",
    "\n",
    "set_printoptions( precision = 4 , suppress = True)"
   ]
  },
  {
   "cell_type": "code",
   "execution_count": 89,
   "metadata": {},
   "outputs": [],
   "source": [
    "A = np.array([[7,3,9],[2,5,-8],[-7,-5,7]])\n",
    "LeftOrtho , diagonal , RightOrtho  = svd(A)"
   ]
  },
  {
   "cell_type": "code",
   "execution_count": 97,
   "metadata": {},
   "outputs": [
    {
     "name": "stdout",
     "output_type": "stream",
     "text": [
      "Left Orthogonal Matrix  \n"
     ]
    },
    {
     "data": {
      "text/plain": [
       "array([[ 0.3603,  0.9001,  0.2449],\n",
       "       [-0.6498,  0.0538,  0.7582],\n",
       "       [ 0.6693, -0.4323,  0.6043]])"
      ]
     },
     "execution_count": 97,
     "metadata": {},
     "output_type": "execute_result"
    }
   ],
   "source": [
    "print(\"Left Orthogonal Matrix  \")\n",
    "LeftOrtho"
   ]
  },
  {
   "cell_type": "code",
   "execution_count": 99,
   "metadata": {
    "scrolled": true
   },
   "outputs": [
    {
     "name": "stdout",
     "output_type": "stream",
     "text": [
      "diagonal Metrix \n",
      "\n",
      " [14.6524 11.7008  1.8432]\n"
     ]
    }
   ],
   "source": [
    "print('diagonal Metrix \\n\\n', diagonal)"
   ]
  },
  {
   "cell_type": "code",
   "execution_count": 96,
   "metadata": {},
   "outputs": [
    {
     "name": "stdout",
     "output_type": "stream",
     "text": [
      "Right Orthogonal Matrix \n",
      "\n",
      " [[-0.2363 -0.3764  0.8958]\n",
      " [ 0.8063  0.4385  0.3969]\n",
      " [-0.5422  0.8161  0.1998]]\n"
     ]
    }
   ],
   "source": [
    "print('Right Orthogonal Matrix \\n\\n', RightOrtho)"
   ]
  },
  {
   "cell_type": "code",
   "execution_count": null,
   "metadata": {},
   "outputs": [],
   "source": []
  }
 ],
 "metadata": {
  "kernelspec": {
   "display_name": "Python 3",
   "language": "python",
   "name": "python3"
  },
  "language_info": {
   "codemirror_mode": {
    "name": "ipython",
    "version": 3
   },
   "file_extension": ".py",
   "mimetype": "text/x-python",
   "name": "python",
   "nbconvert_exporter": "python",
   "pygments_lexer": "ipython3",
   "version": "3.7.6"
  }
 },
 "nbformat": 4,
 "nbformat_minor": 4
}
