{
 "cells": [
  {
   "cell_type": "markdown",
   "metadata": {},
   "source": [
    "#### creating time function "
   ]
  },
  {
   "cell_type": "code",
   "execution_count": 1,
   "metadata": {},
   "outputs": [],
   "source": [
    "def time():\n",
    "    \n",
    "    import sys\n",
    "    import time\n",
    "    for remaining in range(30, 0, -1):\n",
    "        sys.stdout.write(\"\\r%d seconds remaining.\" %remaining)\n",
    "        time.sleep(1)"
   ]
  },
  {
   "cell_type": "markdown",
   "metadata": {},
   "source": [
    "# creating password function  and using time function "
   ]
  },
  {
   "cell_type": "code",
   "execution_count": 2,
   "metadata": {
    "scrolled": true
   },
   "outputs": [],
   "source": [
    "def password():\n",
    "    pwd = ' '\n",
    "    counter = 0\n",
    "\n",
    "    while pwd != 'hidden':\n",
    "        pwd = input(\"enter here 5 chances only \")\n",
    "        counter += 1\n",
    "        if pwd == 'hidden':\n",
    "            print(\"logged in \")\n",
    "            break\n",
    "        else:   \n",
    "            print(\"you only have \", 5-counter,\" chances left\")\n",
    "\n",
    "\n",
    "\n",
    "        if counter == 5:\n",
    "            print(\" you lost  all  5 chances \")\n",
    "            print(time())\n"
   ]
  },
  {
   "cell_type": "code",
   "execution_count": 3,
   "metadata": {
    "scrolled": true
   },
   "outputs": [
    {
     "name": "stdout",
     "output_type": "stream",
     "text": [
      "enter here 5 chances only lhj\n",
      "you only have  4  chances left\n",
      "enter here 5 chances only hgnhgn\n",
      "you only have  3  chances left\n",
      "enter here 5 chances only bbgfnfn\n",
      "you only have  2  chances left\n",
      "enter here 5 chances only 6565\n",
      "you only have  1  chances left\n",
      "enter here 5 chances only gbbn\n",
      "you only have  0  chances left\n",
      " you lost  all  5 chances \n",
      "1 seconds remaining..None\n",
      "enter here 5 chances only hidden\n",
      "logged in \n"
     ]
    }
   ],
   "source": [
    "password()"
   ]
  },
  {
   "cell_type": "code",
   "execution_count": null,
   "metadata": {},
   "outputs": [],
   "source": []
  },
  {
   "cell_type": "code",
   "execution_count": null,
   "metadata": {
    "scrolled": false
   },
   "outputs": [],
   "source": []
  },
  {
   "cell_type": "code",
   "execution_count": null,
   "metadata": {},
   "outputs": [],
   "source": []
  }
 ],
 "metadata": {
  "kernelspec": {
   "display_name": "Python 3",
   "language": "python",
   "name": "python3"
  },
  "language_info": {
   "codemirror_mode": {
    "name": "ipython",
    "version": 3
   },
   "file_extension": ".py",
   "mimetype": "text/x-python",
   "name": "python",
   "nbconvert_exporter": "python",
   "pygments_lexer": "ipython3",
   "version": "3.7.6"
  }
 },
 "nbformat": 4,
 "nbformat_minor": 4
}
